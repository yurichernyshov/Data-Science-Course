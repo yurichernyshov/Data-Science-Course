{
 "cells": [
  {
   "cell_type": "code",
   "execution_count": 1,
   "metadata": {},
   "outputs": [],
   "source": [
    "import os\n",
    "import sys\n",
    "import numpy as np"
   ]
  },
  {
   "cell_type": "markdown",
   "metadata": {},
   "source": [
    "# 100 задач в python\n",
    "<p>Курс \"Модели и методы интеллектуального анализа данных\"</p>\n",
    "<p>Чернышов Юрий</p>\n",
    "<p>к.ф.-м.н., доцент кафедры ИТЗИ УрГУПС (Екатеринбург)</p>\n",
    "<p>yuchernyshov@usurt.ru</p>"
   ]
  },
  {
   "cell_type": "markdown",
   "metadata": {},
   "source": [
    "# Оглавление <a name='toc'>\n",
    "\n",
    "<ol>\n",
    "<li><a href='#intro'>Введение</a></li>\n",
    "<li><a href='#101'>10 простейших операций</a></li>\n",
    "<li><a href='#basic'>Переменные, типы данных</a></li>\n",
    "<li><a href='#structures'>Структурированные типы данных</a></li>\n",
    "    <ol>\n",
    "        <li><a href='#strings'>Строки</a></li>\n",
    "        <li><a href='#lists'>Списки</a></li>\n",
    "        <li><a href='#tuples'>Кортежи</a></li>\n",
    "        <li><a href='#dict'>Словари</a></li>\n",
    "        <li><a href='#sets'>Множества</a></li>\n",
    "    </ol>\n",
    "<li><a href='#functions'>Функции, генераторы</a></li>\n",
    "<li><a href='#control'>Операторы</a></li>\n",
    "    <ol>\n",
    "        <li><a href='#if'>Условный оператор if</a></li>\n",
    "        <li><a href='#while'>Цикл while</a></li>\n",
    "        <li><a href='#for'>Цикл for</a></li>\n",
    "        <li><a href='#try-except'>Обработка исключений</a></li>\n",
    "        <li><a href='#assert'>Проверка выполнения условия (оператор assert)</a></li>\n",
    "        <li><a href='#io'>Ввод и вывод данных</a></li>\n",
    "    </ol>\n",
    "<li><a href='#oop'>Объектно-ориентированное программирование</a></li>\n",
    "<li><a href='#libs'>Специализированные библиотеки</a></li>\n",
    "    <ol>\n",
    "        <li><a href='#collections'>Специализированные структурированные типы данных (модуль collections)</a></li>\n",
    "        <li><a href='#env'>Работа с системным окружением (модули os, multiprocessing)</a></li>\n",
    "        <li><a href='#time'>Работа со временем (модуль time)</a></li>\n",
    "        <li><a href='#regexp'>Регулярные выражения (модуль re)</a></li>\n",
    "        <li><a href='#calendar'>Работа с календарем (модуль calendar)</a></li>\n",
    "     </ol>\n",
    "<li><a href='#async'>Асинхронность</a></li>\n",
    "<li><a href='#magic'>Магические команды</a></li>\n",
    "<li><a href='#tricks'>Трюки</a></li>\n",
    "<li><a href='#links'>Полезные ссылки</a></li>\n",
    "</ol>\n",
    "    "
   ]
  },
  {
   "cell_type": "markdown",
   "metadata": {},
   "source": [
    "# Введение <a name=\"intro\"></a>"
   ]
  },
  {
   "cell_type": "markdown",
   "metadata": {},
   "source": [
    "Документ содержит практические примеры работы с языком программирования Python.\n",
    "\n",
    "Материал состоит из 100 типовых задач, которые можно выполнить с помощью Python.\n",
    "\n",
    "Для удобства задачи разбиты на группы, к которым можно быстро перейти через <a href='#toc'>Оглавление</a>."
   ]
  },
  {
   "cell_type": "markdown",
   "metadata": {},
   "source": [
    "Язык Python был создан в 1991 году. В настоящее время интерес к использованию Python возрос в связи с большим количеством разработанных специализированных библиотек для отдельных задач, многочисленным сообществом разработчиков, а также применением Python для важных практических задач: математического моделирования, научных исследований, обработки данных и пр. Python является одним из основных инструментов при решении задач машинного обучения.\n",
    "\n",
    "Python - интерпретируемый язык программирования. Программа Python (также используется термин скрипт) состоит из команд, которые последовательно выполняются интерптетатором Python.\n",
    "\n",
    "Python проигрывает в скорости выполнения программ компилируемым языкам программирования (например, C), но имеет ряд преимуществ - наглядность, простота, лаконичность, популярность. Для быстрого предварительного исследования, моделирования, проверки гипотез, визуализации использование Python предпочтительнее."
   ]
  },
  {
   "cell_type": "markdown",
   "metadata": {},
   "source": [
    "Для выполнения заданий не обязательно устанавливать Python локально, можно воспользоваться одним из популярных открытых инструментов (см. <a href='#links'>Полезные ссылки</a>), например https://colab.research.google.com."
   ]
  },
  {
   "cell_type": "markdown",
   "metadata": {},
   "source": [
    "<a href='#toc'>Назад к Оглавлению</a>"
   ]
  },
  {
   "cell_type": "markdown",
   "metadata": {},
   "source": [
    "# 10 простейших операций <a name='101'></a>"
   ]
  },
  {
   "cell_type": "markdown",
   "metadata": {},
   "source": [
    "#### Создание переменной"
   ]
  },
  {
   "cell_type": "code",
   "execution_count": 2,
   "metadata": {},
   "outputs": [
    {
     "data": {
      "text/plain": [
       "int"
      ]
     },
     "execution_count": 2,
     "metadata": {},
     "output_type": "execute_result"
    }
   ],
   "source": [
    "a = 1\n",
    "type(a)"
   ]
  },
  {
   "cell_type": "markdown",
   "metadata": {},
   "source": [
    "#### Создание строки"
   ]
  },
  {
   "cell_type": "code",
   "execution_count": 3,
   "metadata": {},
   "outputs": [
    {
     "name": "stdout",
     "output_type": "stream",
     "text": [
      "Hello, world!\n"
     ]
    }
   ],
   "source": [
    "s = \"Hello, world!\"\n",
    "print(s)"
   ]
  },
  {
   "cell_type": "markdown",
   "metadata": {},
   "source": [
    "#### Создание массива, обращение к элементам по индексам"
   ]
  },
  {
   "cell_type": "code",
   "execution_count": 4,
   "metadata": {},
   "outputs": [
    {
     "name": "stdout",
     "output_type": "stream",
     "text": [
      "[1, 2, 3, 4, 5]\n",
      "[1, 22, 3, 4, 5]\n"
     ]
    }
   ],
   "source": [
    "a = [1, 2, 3, 4, 5]\n",
    "print(a)\n",
    "a[1] = 22\n",
    "print(a)"
   ]
  },
  {
   "cell_type": "markdown",
   "metadata": {},
   "source": [
    "#### Создание и использование словаря"
   ]
  },
  {
   "cell_type": "code",
   "execution_count": 5,
   "metadata": {},
   "outputs": [
    {
     "data": {
      "text/plain": [
       "2"
      ]
     },
     "execution_count": 5,
     "metadata": {},
     "output_type": "execute_result"
    }
   ],
   "source": [
    "d = {'a': 1, 'b': 2, 'c': 3}\n",
    "d['b']"
   ]
  },
  {
   "cell_type": "markdown",
   "metadata": {},
   "source": [
    "#### Функции"
   ]
  },
  {
   "cell_type": "code",
   "execution_count": 6,
   "metadata": {},
   "outputs": [
    {
     "data": {
      "text/plain": [
       "4"
      ]
     },
     "execution_count": 6,
     "metadata": {},
     "output_type": "execute_result"
    }
   ],
   "source": [
    "def f(p):\n",
    "    return p**2\n",
    "\n",
    "f(2)"
   ]
  },
  {
   "cell_type": "markdown",
   "metadata": {},
   "source": [
    "#### Условный оператор"
   ]
  },
  {
   "cell_type": "code",
   "execution_count": 7,
   "metadata": {},
   "outputs": [
    {
     "name": "stdout",
     "output_type": "stream",
     "text": [
      "нет\n"
     ]
    }
   ],
   "source": [
    "c = 2\n",
    "if c==1:\n",
    "    print('да')\n",
    "else:\n",
    "    print('нет')"
   ]
  },
  {
   "cell_type": "markdown",
   "metadata": {},
   "source": [
    "#### Цикл for"
   ]
  },
  {
   "cell_type": "code",
   "execution_count": 8,
   "metadata": {},
   "outputs": [
    {
     "name": "stdout",
     "output_type": "stream",
     "text": [
      "0 1 4 9 16 "
     ]
    }
   ],
   "source": [
    "for i in range(5):\n",
    "    print(i**2, end=\" \")"
   ]
  },
  {
   "cell_type": "code",
   "execution_count": 9,
   "metadata": {},
   "outputs": [
    {
     "name": "stdout",
     "output_type": "stream",
     "text": [
      "0 1 4 9 16 "
     ]
    }
   ],
   "source": [
    "i = 0\n",
    "while i<5:\n",
    "    print(i**2, end=\" \")\n",
    "    i += 1"
   ]
  },
  {
   "cell_type": "markdown",
   "metadata": {},
   "source": [
    "#### Обработка исключений"
   ]
  },
  {
   "cell_type": "code",
   "execution_count": 10,
   "metadata": {},
   "outputs": [
    {
     "name": "stdout",
     "output_type": "stream",
     "text": [
      "-0.5\n",
      "-1.0\n",
      "Error\n",
      "1.0\n",
      "0.5\n"
     ]
    }
   ],
   "source": [
    "a = range(5)\n",
    "for i in a:\n",
    "    try:\n",
    "        print(1/(a[i]-2))\n",
    "    except:\n",
    "        print(\"Error\")"
   ]
  },
  {
   "cell_type": "markdown",
   "metadata": {},
   "source": [
    "#### Загрузка библиотек"
   ]
  },
  {
   "cell_type": "code",
   "execution_count": 11,
   "metadata": {},
   "outputs": [
    {
     "name": "stdout",
     "output_type": "stream",
     "text": [
      "1627086423.6377058\n"
     ]
    }
   ],
   "source": [
    "import time\n",
    "print(time.time())"
   ]
  },
  {
   "cell_type": "markdown",
   "metadata": {},
   "source": [
    "#### Создание объектов"
   ]
  },
  {
   "cell_type": "code",
   "execution_count": 12,
   "metadata": {},
   "outputs": [],
   "source": [
    "class A:\n",
    "    def __init__(self, p):\n",
    "        self.p = p\n",
    "    def f(self):\n",
    "        print(\"вызов функции f\")"
   ]
  },
  {
   "cell_type": "code",
   "execution_count": 13,
   "metadata": {},
   "outputs": [
    {
     "name": "stdout",
     "output_type": "stream",
     "text": [
      "вызов функции f\n"
     ]
    }
   ],
   "source": [
    "a = A(2)\n",
    "a.f()"
   ]
  },
  {
   "cell_type": "markdown",
   "metadata": {},
   "source": [
    "<a href='#toc'>Назад к Оглавлению</a>"
   ]
  },
  {
   "cell_type": "markdown",
   "metadata": {},
   "source": [
    "# Переменные, типы данных <a name=\"basic\"></a>"
   ]
  },
  {
   "cell_type": "markdown",
   "metadata": {},
   "source": [
    "#### Объявление переменной. Вывод на экран."
   ]
  },
  {
   "cell_type": "code",
   "execution_count": 14,
   "metadata": {},
   "outputs": [
    {
     "name": "stdout",
     "output_type": "stream",
     "text": [
      "1\n",
      "<class 'int'>\n"
     ]
    }
   ],
   "source": [
    "a = 1\n",
    "print(a)\n",
    "print(type(a))"
   ]
  },
  {
   "cell_type": "code",
   "execution_count": 15,
   "metadata": {},
   "outputs": [
    {
     "name": "stdout",
     "output_type": "stream",
     "text": [
      "Hello, world!\n",
      "<class 'str'>\n"
     ]
    }
   ],
   "source": [
    "s = \"Hello, world!\"\n",
    "print(s)\n",
    "print(type(s))"
   ]
  },
  {
   "cell_type": "markdown",
   "metadata": {},
   "source": [
    "#### Комментарии"
   ]
  },
  {
   "cell_type": "code",
   "execution_count": 16,
   "metadata": {},
   "outputs": [],
   "source": [
    "# однострочный комментарий"
   ]
  },
  {
   "cell_type": "code",
   "execution_count": 17,
   "metadata": {},
   "outputs": [
    {
     "data": {
      "text/plain": [
       "'\\nэто строковая переменная,\\nно здесь она используется как\\nкомментарий из нескольких строк\\n'"
      ]
     },
     "execution_count": 17,
     "metadata": {},
     "output_type": "execute_result"
    }
   ],
   "source": [
    "'''\n",
    "это строковая переменная,\n",
    "но здесь она используется как\n",
    "комментарий из нескольких строк\n",
    "'''"
   ]
  },
  {
   "cell_type": "code",
   "execution_count": 18,
   "metadata": {},
   "outputs": [],
   "source": [
    "#но лучше многострочный комментарий \n",
    "#делать так\n",
    "#asdf\n",
    "#asdf\n",
    "#asdf\n",
    "#asdf\n",
    "#asdf"
   ]
  },
  {
   "cell_type": "markdown",
   "metadata": {},
   "source": [
    "#### Получение справки"
   ]
  },
  {
   "cell_type": "markdown",
   "metadata": {},
   "source": [
    "При описании функции текст заключается в тройные кавычки (\"\"\" в начале и в конце) и потом используется для docstring."
   ]
  },
  {
   "cell_type": "code",
   "execution_count": 19,
   "metadata": {},
   "outputs": [],
   "source": [
    "def f():\n",
    "    \"\"\"\n",
    "    Функция f()\n",
    "    \"\"\"\n",
    "    print(\"Hello\")"
   ]
  },
  {
   "cell_type": "code",
   "execution_count": 20,
   "metadata": {},
   "outputs": [],
   "source": [
    "f?"
   ]
  },
  {
   "cell_type": "code",
   "execution_count": 21,
   "metadata": {},
   "outputs": [],
   "source": [
    "min?"
   ]
  },
  {
   "cell_type": "markdown",
   "metadata": {},
   "source": [
    "#### Структура программы. Отступы."
   ]
  },
  {
   "cell_type": "code",
   "execution_count": 22,
   "metadata": {},
   "outputs": [
    {
     "name": "stdout",
     "output_type": "stream",
     "text": [
      "0\n",
      "1\n",
      "2\n"
     ]
    }
   ],
   "source": [
    "for i in range(3):\n",
    "# тело цикла выделяется отступом, обычно 4 пробела.\n",
    "    print(i)"
   ]
  },
  {
   "cell_type": "code",
   "execution_count": 23,
   "metadata": {},
   "outputs": [
    {
     "data": {
      "text/plain": [
       "'Привет'"
      ]
     },
     "execution_count": 23,
     "metadata": {},
     "output_type": "execute_result"
    }
   ],
   "source": [
    "def f():\n",
    "# тело функции выделяется отступом, обычно 4 пробела.    \n",
    "    return \"Привет\"\n",
    "\n",
    "f()"
   ]
  },
  {
   "cell_type": "markdown",
   "metadata": {},
   "source": [
    "#### Импорт модулей"
   ]
  },
  {
   "cell_type": "code",
   "execution_count": 24,
   "metadata": {},
   "outputs": [
    {
     "data": {
      "text/plain": [
       "-0.9092974268256817"
      ]
     },
     "execution_count": 24,
     "metadata": {},
     "output_type": "execute_result"
    }
   ],
   "source": [
    "from math import *\n",
    "sqrt(4)\n",
    "sin(-2)"
   ]
  },
  {
   "cell_type": "code",
   "execution_count": 25,
   "metadata": {},
   "outputs": [
    {
     "data": {
      "image/png": "[encoded data removed]",
      "text/plain": [
       "<Figure size 432x288 with 1 Axes>"
      ]
     },
     "metadata": {
      "needs_background": "light"
     },
     "output_type": "display_data"
    }
   ],
   "source": [
    "from matplotlib import pyplot as plt\n",
    "plt.plot([0,1],[0,1])\n",
    "plt.show()"
   ]
  },
  {
   "cell_type": "markdown",
   "metadata": {},
   "source": [
    "#### Видимость переменной. Глобальные и локальные переменные."
   ]
  },
  {
   "cell_type": "code",
   "execution_count": 26,
   "metadata": {},
   "outputs": [
    {
     "name": "stdout",
     "output_type": "stream",
     "text": [
      "global a=10\n",
      "f1, a=11\n",
      "global a=11\n",
      "f2, a=16\n",
      "global a=11\n",
      "f1, a=12\n"
     ]
    }
   ],
   "source": [
    "a = 10\n",
    "def f1():\n",
    "    global a\n",
    "    a += 1\n",
    "    print(\"f1, a={}\".format(a))\n",
    "\n",
    "def f2():\n",
    "    a = 15\n",
    "    a += 1\n",
    "    print(\"f2, a={}\".format(a))\n",
    "        \n",
    "print(\"global a={}\".format(a))\n",
    "f1()\n",
    "print(\"global a={}\".format(a))\n",
    "f2()\n",
    "print(\"global a={}\".format(a))\n",
    "f1()"
   ]
  },
  {
   "cell_type": "markdown",
   "metadata": {},
   "source": [
    "#### Операция присваивания значения переменной"
   ]
  },
  {
   "cell_type": "code",
   "execution_count": 27,
   "metadata": {},
   "outputs": [
    {
     "name": "stdout",
     "output_type": "stream",
     "text": [
      "a=1, b=2\n",
      "a=2, b=1\n"
     ]
    }
   ],
   "source": [
    "a,b = 1,2\n",
    "print(\"a={}, b={}\".format(a,b))\n",
    "a,b = b,a\n",
    "print(\"a={}, b={}\".format(a,b))"
   ]
  },
  {
   "cell_type": "markdown",
   "metadata": {},
   "source": [
    "#### Операции сложения, вычитания, умножения"
   ]
  },
  {
   "cell_type": "code",
   "execution_count": 28,
   "metadata": {},
   "outputs": [
    {
     "name": "stdout",
     "output_type": "stream",
     "text": [
      "2 0 2\n"
     ]
    }
   ],
   "source": [
    "a = 1\n",
    "print(a+1, a-1, a*2)"
   ]
  },
  {
   "cell_type": "markdown",
   "metadata": {},
   "source": [
    "#### Операция деления. Целая часть, остаток от деления."
   ]
  },
  {
   "cell_type": "code",
   "execution_count": 29,
   "metadata": {},
   "outputs": [
    {
     "name": "stdout",
     "output_type": "stream",
     "text": [
      "3.3333333333333335 3 1\n"
     ]
    }
   ],
   "source": [
    "print(10/3, 10//3, 10%3)"
   ]
  },
  {
   "cell_type": "code",
   "execution_count": 30,
   "metadata": {},
   "outputs": [
    {
     "name": "stdout",
     "output_type": "stream",
     "text": [
      "3 1\n"
     ]
    }
   ],
   "source": [
    "a,b = divmod(10,3)\n",
    "print(a,b)"
   ]
  },
  {
   "cell_type": "markdown",
   "metadata": {},
   "source": [
    "#### Короткая запись операций"
   ]
  },
  {
   "cell_type": "code",
   "execution_count": 31,
   "metadata": {},
   "outputs": [
    {
     "name": "stdout",
     "output_type": "stream",
     "text": [
      "1\n",
      "2\n",
      "4\n",
      "1.3333333333333333\n"
     ]
    }
   ],
   "source": [
    "a = 1\n",
    "print(a)\n",
    "a += 1\n",
    "print(a)\n",
    "a *= 2\n",
    "print(a)\n",
    "a /= 3\n",
    "print(a)"
   ]
  },
  {
   "cell_type": "markdown",
   "metadata": {},
   "source": [
    "#### Возведение в степень, извлечение корня"
   ]
  },
  {
   "cell_type": "code",
   "execution_count": 32,
   "metadata": {},
   "outputs": [
    {
     "name": "stdout",
     "output_type": "stream",
     "text": [
      "4 2.0\n"
     ]
    }
   ],
   "source": [
    "print(2**2, 4**(1/2))"
   ]
  },
  {
   "cell_type": "markdown",
   "metadata": {},
   "source": [
    "#### Типы переменных"
   ]
  },
  {
   "cell_type": "code",
   "execution_count": 33,
   "metadata": {},
   "outputs": [
    {
     "name": "stdout",
     "output_type": "stream",
     "text": [
      "<class 'int'>\n",
      "<class 'float'>\n",
      "<class 'complex'>\n",
      "<class 'float'>\n",
      "<class 'str'>\n",
      "<class 'bool'>\n"
     ]
    }
   ],
   "source": [
    "for elem in [1, 1., 1j, 1e-1, \"one\", True]:\n",
    "    print(type(elem))"
   ]
  },
  {
   "cell_type": "markdown",
   "metadata": {},
   "source": [
    "#### Логический тип данных"
   ]
  },
  {
   "cell_type": "code",
   "execution_count": 34,
   "metadata": {},
   "outputs": [
    {
     "data": {
      "text/plain": [
       "False"
      ]
     },
     "execution_count": 34,
     "metadata": {},
     "output_type": "execute_result"
    }
   ],
   "source": [
    "2*2==5"
   ]
  },
  {
   "cell_type": "code",
   "execution_count": 35,
   "metadata": {},
   "outputs": [
    {
     "data": {
      "text/plain": [
       "[0, 1, 2, 3, 4, 5, 6, 7, 8, 9]"
      ]
     },
     "execution_count": 35,
     "metadata": {},
     "output_type": "execute_result"
    }
   ],
   "source": [
    "list(range(10))"
   ]
  },
  {
   "cell_type": "code",
   "execution_count": 36,
   "metadata": {},
   "outputs": [
    {
     "name": "stdout",
     "output_type": "stream",
     "text": [
      "Нет, Да, Да, Нет, Да, Да, Нет, Да, Да, Нет, "
     ]
    }
   ],
   "source": [
    "for x in range(10):\n",
    "    if x%3:\n",
    "        print(\"Да\", end=\", \")\n",
    "    else:\n",
    "        print(\"Нет\", end=\", \")"
   ]
  },
  {
   "cell_type": "code",
   "execution_count": 37,
   "metadata": {},
   "outputs": [
    {
     "data": {
      "text/plain": [
       "True"
      ]
     },
     "execution_count": 37,
     "metadata": {},
     "output_type": "execute_result"
    }
   ],
   "source": [
    "False == False in [False]"
   ]
  },
  {
   "cell_type": "code",
   "execution_count": 38,
   "metadata": {},
   "outputs": [
    {
     "data": {
      "text/plain": [
       "(False, False, False, False, False, False)"
      ]
     },
     "execution_count": 38,
     "metadata": {},
     "output_type": "execute_result"
    }
   ],
   "source": [
    "bool(0), bool(\"\"), bool([]), bool({}), bool(()), bool(set())"
   ]
  },
  {
   "cell_type": "markdown",
   "metadata": {},
   "source": [
    "#### Распаковка объектов (оператор \"*\")"
   ]
  },
  {
   "cell_type": "code",
   "execution_count": 39,
   "metadata": {},
   "outputs": [
    {
     "name": "stdout",
     "output_type": "stream",
     "text": [
      "[1, 2, 3, 4, 5]\n"
     ]
    }
   ],
   "source": [
    "a = [1, 2, 3]\n",
    "b = [*a, 4, 5]\n",
    "print(b)"
   ]
  },
  {
   "cell_type": "code",
   "execution_count": 40,
   "metadata": {},
   "outputs": [
    {
     "name": "stdout",
     "output_type": "stream",
     "text": [
      "{'третий', 'второй', 'первый'} <class 'set'>\n"
     ]
    }
   ],
   "source": [
    "d1 = {\"первый\": 1, \"второй\": 2}\n",
    "d2 = {*d1, \"третий\"}\n",
    "print(d2, type(d2))"
   ]
  },
  {
   "cell_type": "markdown",
   "metadata": {},
   "source": [
    "#### Функции, структурированные типы данных."
   ]
  },
  {
   "cell_type": "code",
   "execution_count": 41,
   "metadata": {},
   "outputs": [
    {
     "name": "stdout",
     "output_type": "stream",
     "text": [
      "<class 'function'> <function f at 0x7fc7eb768dc0> <function f at 0x7fc7eb768dc0>\n",
      "<class 'function'> <function <lambda> at 0x7fc7f8e1ddc0> <function <lambda> at 0x7fc7f8e1ddc0>\n",
      "<class 'list'> [1, 2, 3] [1, 2, 3]\n",
      "<class 'tuple'> (1, 2, 3) (1, 2, 3)\n",
      "<class 'str'> '123' 123\n",
      "<class 'dict'> {'a': 1, 'b': 2, 'c': 3} {'a': 1, 'b': 2, 'c': 3}\n",
      "<class 'set'> {1, 2, 3} {1, 2, 3}\n",
      "<class 'generator'> <generator object <genexpr> at 0x7fc7eb75cdd0> <generator object <genexpr> at 0x7fc7eb75cdd0>\n"
     ]
    }
   ],
   "source": [
    "a=[]\n",
    "def f():\n",
    "    return 123\n",
    "a.append(f)\n",
    "l = lambda :'123'\n",
    "a.append(l)\n",
    "a.append([1,2,3])\n",
    "a.append((1,2,3,))\n",
    "a.append(\"123\")\n",
    "a.append({'a':1, 'b':2, 'c':3})\n",
    "a.append({1,2,3})\n",
    "a.append((i for i in range(1,4)))\n",
    "for i in a:\n",
    "    print(type(i), repr(i), i)"
   ]
  },
  {
   "cell_type": "markdown",
   "metadata": {},
   "source": [
    "#### Нумерование элементов"
   ]
  },
  {
   "cell_type": "code",
   "execution_count": 42,
   "metadata": {},
   "outputs": [
    {
     "name": "stdout",
     "output_type": "stream",
     "text": [
      "(0, 'a')\n",
      "(1, 'b')\n",
      "(2, 'c')\n"
     ]
    }
   ],
   "source": [
    "for i in enumerate(['a', 'b', 'c']):\n",
    "    print(i)"
   ]
  },
  {
   "cell_type": "markdown",
   "metadata": {},
   "source": [
    "#### Сортировка"
   ]
  },
  {
   "cell_type": "code",
   "execution_count": 43,
   "metadata": {},
   "outputs": [],
   "source": [
    "a = [1, -3, 2, -4, 3, -5, 4, -6, 5, -7, 6, -8]"
   ]
  },
  {
   "cell_type": "code",
   "execution_count": 44,
   "metadata": {},
   "outputs": [
    {
     "data": {
      "text/plain": [
       "[-8, -7, -6, -5, -4, -3, 1, 2, 3, 4, 5, 6]"
      ]
     },
     "execution_count": 44,
     "metadata": {},
     "output_type": "execute_result"
    }
   ],
   "source": [
    "sorted(a)"
   ]
  },
  {
   "cell_type": "code",
   "execution_count": 45,
   "metadata": {},
   "outputs": [
    {
     "data": {
      "text/plain": [
       "[6, 5, 4, 3, 2, 1, -3, -4, -5, -6, -7, -8]"
      ]
     },
     "execution_count": 45,
     "metadata": {},
     "output_type": "execute_result"
    }
   ],
   "source": [
    "sorted(a, reverse=True)"
   ]
  },
  {
   "cell_type": "code",
   "execution_count": 46,
   "metadata": {},
   "outputs": [
    {
     "data": {
      "text/plain": [
       "[1, 2, -3, 3, -4, 4, -5, 5, -6, 6, -7, -8]"
      ]
     },
     "execution_count": 46,
     "metadata": {},
     "output_type": "execute_result"
    }
   ],
   "source": [
    "sorted(a, key=abs)"
   ]
  },
  {
   "cell_type": "markdown",
   "metadata": {},
   "source": [
    "#### Минимальный и максимальный элементы"
   ]
  },
  {
   "cell_type": "code",
   "execution_count": 47,
   "metadata": {},
   "outputs": [
    {
     "data": {
      "text/plain": [
       "(1, 5)"
      ]
     },
     "execution_count": 47,
     "metadata": {},
     "output_type": "execute_result"
    }
   ],
   "source": [
    "a = [1, 2, 3, 4, 5]\n",
    "min(a), max(a)"
   ]
  },
  {
   "cell_type": "markdown",
   "metadata": {},
   "source": [
    "#### Свойства объекта"
   ]
  },
  {
   "cell_type": "code",
   "execution_count": 48,
   "metadata": {},
   "outputs": [
    {
     "name": "stdout",
     "output_type": "stream",
     "text": [
      "__abs__   __add__   __and__   __bool__   __ceil__   __class__   __delattr__   __dir__   __divmod__   __doc__   __eq__   __float__   __floor__   __floordiv__   __format__   __ge__   __getattribute__   __getnewargs__   __gt__   __hash__   __index__   __init__   __init_subclass__   __int__   __invert__   __le__   __lshift__   __lt__   __mod__   __mul__   __ne__   __neg__   __new__   __or__   __pos__   __pow__   __radd__   __rand__   __rdivmod__   __reduce__   __reduce_ex__   __repr__   __rfloordiv__   __rlshift__   __rmod__   __rmul__   __ror__   __round__   __rpow__   __rrshift__   __rshift__   __rsub__   __rtruediv__   __rxor__   __setattr__   __sizeof__   __str__   __sub__   __subclasshook__   __truediv__   __trunc__   __xor__   as_integer_ratio   bit_length   conjugate   denominator   from_bytes   imag   numerator   real   to_bytes   "
     ]
    },
    {
     "data": {
      "text/plain": [
       "28"
      ]
     },
     "execution_count": 48,
     "metadata": {},
     "output_type": "execute_result"
    }
   ],
   "source": [
    "a = 1\n",
    "for s in dir(a):\n",
    "    print(s, end=\"   \")\n",
    "a.__sizeof__()"
   ]
  },
  {
   "cell_type": "markdown",
   "metadata": {},
   "source": [
    "#### Переполнение"
   ]
  },
  {
   "cell_type": "code",
   "execution_count": 49,
   "metadata": {},
   "outputs": [
    {
     "data": {
      "text/plain": [
       "array([4], dtype=uint8)"
      ]
     },
     "execution_count": 49,
     "metadata": {},
     "output_type": "execute_result"
    }
   ],
   "source": [
    "x = np.uint8([250])\n",
    "y = np.uint8([10])\n",
    "x+y"
   ]
  },
  {
   "cell_type": "markdown",
   "metadata": {},
   "source": [
    "<a href='#toc'>Назад в Оглавление</a>"
   ]
  },
  {
   "cell_type": "markdown",
   "metadata": {},
   "source": [
    "# Структурированные типы данных <a name='structures'></a>"
   ]
  },
  {
   "cell_type": "markdown",
   "metadata": {},
   "source": [
    "## Строки <a name='strings'></a>"
   ]
  },
  {
   "cell_type": "code",
   "execution_count": 50,
   "metadata": {},
   "outputs": [
    {
     "data": {
      "text/plain": [
       "True"
      ]
     },
     "execution_count": 50,
     "metadata": {},
     "output_type": "execute_result"
    }
   ],
   "source": [
    "\"asd\".isalpha()"
   ]
  },
  {
   "cell_type": "code",
   "execution_count": 51,
   "metadata": {},
   "outputs": [
    {
     "data": {
      "text/plain": [
       "True"
      ]
     },
     "execution_count": 51,
     "metadata": {},
     "output_type": "execute_result"
    }
   ],
   "source": [
    "\"5\".isdigit()"
   ]
  },
  {
   "cell_type": "code",
   "execution_count": 52,
   "metadata": {},
   "outputs": [
    {
     "data": {
      "text/plain": [
       "'HELLO, WORLD!'"
      ]
     },
     "execution_count": 52,
     "metadata": {},
     "output_type": "execute_result"
    }
   ],
   "source": [
    "\"hello, world!\".upper()"
   ]
  },
  {
   "cell_type": "code",
   "execution_count": 53,
   "metadata": {},
   "outputs": [
    {
     "data": {
      "text/plain": [
       "'hi!'"
      ]
     },
     "execution_count": 53,
     "metadata": {},
     "output_type": "execute_result"
    }
   ],
   "source": [
    "\"HI!\".lower()"
   ]
  },
  {
   "cell_type": "code",
   "execution_count": 54,
   "metadata": {},
   "outputs": [
    {
     "data": {
      "text/plain": [
       "'Some text is here'"
      ]
     },
     "execution_count": 54,
     "metadata": {},
     "output_type": "execute_result"
    }
   ],
   "source": [
    "\"some text is here\".capitalize()"
   ]
  },
  {
   "cell_type": "code",
   "execution_count": 55,
   "metadata": {},
   "outputs": [
    {
     "data": {
      "text/plain": [
       "['Very', 'interesting', 'sentence']"
      ]
     },
     "execution_count": 55,
     "metadata": {},
     "output_type": "execute_result"
    }
   ],
   "source": [
    "\"Very interesting sentence\".split()"
   ]
  },
  {
   "cell_type": "code",
   "execution_count": 56,
   "metadata": {},
   "outputs": [
    {
     "data": {
      "text/plain": [
       "'арозА упал ан алапу азор А'"
      ]
     },
     "execution_count": 56,
     "metadata": {},
     "output_type": "execute_result"
    }
   ],
   "source": [
    "\"А роза упала на лапу Азора\"[::-1]"
   ]
  },
  {
   "cell_type": "code",
   "execution_count": 57,
   "metadata": {},
   "outputs": [
    {
     "data": {
      "text/plain": [
       "0"
      ]
     },
     "execution_count": 57,
     "metadata": {},
     "output_type": "execute_result"
    }
   ],
   "source": [
    "\"words This text contains words\".find('word')"
   ]
  },
  {
   "cell_type": "code",
   "execution_count": 58,
   "metadata": {},
   "outputs": [
    {
     "data": {
      "text/plain": [
       "29"
      ]
     },
     "execution_count": 58,
     "metadata": {},
     "output_type": "execute_result"
    }
   ],
   "source": [
    "\"words This text contains words\".rfind('s')"
   ]
  },
  {
   "cell_type": "code",
   "execution_count": 59,
   "metadata": {},
   "outputs": [
    {
     "data": {
      "text/plain": [
       "'a b c'"
      ]
     },
     "execution_count": 59,
     "metadata": {},
     "output_type": "execute_result"
    }
   ],
   "source": [
    "\"a, b, c\".replace(',', '')"
   ]
  },
  {
   "cell_type": "code",
   "execution_count": 60,
   "metadata": {},
   "outputs": [
    {
     "data": {
      "text/plain": [
       "(97, 122, 65, 90)"
      ]
     },
     "execution_count": 60,
     "metadata": {},
     "output_type": "execute_result"
    }
   ],
   "source": [
    "ord('a'), ord('z'), ord('A'), ord('Z')"
   ]
  },
  {
   "cell_type": "code",
   "execution_count": 61,
   "metadata": {},
   "outputs": [
    {
     "data": {
      "text/plain": [
       "('\\x05', 'F')"
      ]
     },
     "execution_count": 61,
     "metadata": {},
     "output_type": "execute_result"
    }
   ],
   "source": [
    "chr(5), chr(70)"
   ]
  },
  {
   "cell_type": "markdown",
   "metadata": {},
   "source": [
    "#### Форматирование строк"
   ]
  },
  {
   "cell_type": "code",
   "execution_count": 62,
   "metadata": {},
   "outputs": [
    {
     "name": "stdout",
     "output_type": "stream",
     "text": [
      "a=1, b=2\n"
     ]
    }
   ],
   "source": [
    "a, b = 1, 2\n",
    "print(\"a={}, b={}\".format(a, b))"
   ]
  },
  {
   "cell_type": "code",
   "execution_count": 63,
   "metadata": {},
   "outputs": [
    {
     "name": "stdout",
     "output_type": "stream",
     "text": [
      "a=1.00, b=2.00000\n"
     ]
    }
   ],
   "source": [
    "a, b = 1, 2\n",
    "print(\"a={:.2f}, b={:.5f}\".format(a, b))"
   ]
  },
  {
   "cell_type": "code",
   "execution_count": 64,
   "metadata": {},
   "outputs": [
    {
     "name": "stdout",
     "output_type": "stream",
     "text": [
      "1,234,567\n"
     ]
    }
   ],
   "source": [
    "x = 1234567\n",
    "print('{0:,}'.format(x))"
   ]
  },
  {
   "cell_type": "code",
   "execution_count": 65,
   "metadata": {},
   "outputs": [
    {
     "name": "stdout",
     "output_type": "stream",
     "text": [
      "1 234 567\n"
     ]
    }
   ],
   "source": [
    "x = 1234567\n",
    "print('{0:,}'.format(x).replace(',', ' '))"
   ]
  },
  {
   "cell_type": "markdown",
   "metadata": {},
   "source": [
    "<a href='#toc'>Назад к Оглавлению</a>"
   ]
  },
  {
   "cell_type": "markdown",
   "metadata": {},
   "source": [
    "## Списки <a name='lists'></a>"
   ]
  },
  {
   "cell_type": "code",
   "execution_count": 66,
   "metadata": {},
   "outputs": [
    {
     "name": "stdout",
     "output_type": "stream",
     "text": [
      "[1, 2, 3]\n",
      "1\n",
      "3\n"
     ]
    }
   ],
   "source": [
    "a = [1, 2, 3]\n",
    "print(a)\n",
    "print(a[0])\n",
    "print(a[-1])"
   ]
  },
  {
   "cell_type": "code",
   "execution_count": 67,
   "metadata": {},
   "outputs": [
    {
     "name": "stdout",
     "output_type": "stream",
     "text": [
      "[0, 1, 2, 3, 4, 5, 6, 7, 8, 9]\n"
     ]
    }
   ],
   "source": [
    "a = list(range(10))\n",
    "print(a)"
   ]
  },
  {
   "cell_type": "code",
   "execution_count": 68,
   "metadata": {},
   "outputs": [
    {
     "name": "stdout",
     "output_type": "stream",
     "text": [
      "[1, 4, 9, 16, 25, 36, 49, 64, 81, 100]\n"
     ]
    }
   ],
   "source": [
    "a = [i**2 for i in range(1,11)]\n",
    "print(a)"
   ]
  },
  {
   "cell_type": "code",
   "execution_count": 69,
   "metadata": {},
   "outputs": [
    {
     "data": {
      "text/plain": [
       "[1, 4]"
      ]
     },
     "execution_count": 69,
     "metadata": {},
     "output_type": "execute_result"
    }
   ],
   "source": [
    "a[:2]"
   ]
  },
  {
   "cell_type": "code",
   "execution_count": 70,
   "metadata": {},
   "outputs": [
    {
     "data": {
      "text/plain": [
       "[81, 100]"
      ]
     },
     "execution_count": 70,
     "metadata": {},
     "output_type": "execute_result"
    }
   ],
   "source": [
    "a[-2:]"
   ]
  },
  {
   "cell_type": "code",
   "execution_count": 71,
   "metadata": {},
   "outputs": [
    {
     "data": {
      "text/plain": [
       "[1, 4, 9, 16, 25, 36, 49, 64, 81, 100]"
      ]
     },
     "execution_count": 71,
     "metadata": {},
     "output_type": "execute_result"
    }
   ],
   "source": [
    "a"
   ]
  },
  {
   "cell_type": "code",
   "execution_count": 72,
   "metadata": {},
   "outputs": [
    {
     "data": {
      "text/plain": [
       "[1, 9, 25, 49, 81]"
      ]
     },
     "execution_count": 72,
     "metadata": {},
     "output_type": "execute_result"
    }
   ],
   "source": [
    "a[::2]"
   ]
  },
  {
   "cell_type": "code",
   "execution_count": 73,
   "metadata": {},
   "outputs": [
    {
     "data": {
      "text/plain": [
       "[100, 81, 64, 49, 36, 25, 16, 9, 4, 1]"
      ]
     },
     "execution_count": 73,
     "metadata": {},
     "output_type": "execute_result"
    }
   ],
   "source": [
    "a[::-1]"
   ]
  },
  {
   "cell_type": "code",
   "execution_count": 74,
   "metadata": {},
   "outputs": [
    {
     "name": "stdout",
     "output_type": "stream",
     "text": [
      "4 6 None\n"
     ]
    }
   ],
   "source": [
    "SLICE = slice(4,6)\n",
    "print(SLICE.start, SLICE.stop, SLICE.step)"
   ]
  },
  {
   "cell_type": "code",
   "execution_count": 75,
   "metadata": {},
   "outputs": [
    {
     "data": {
      "text/plain": [
       "[25, 36]"
      ]
     },
     "execution_count": 75,
     "metadata": {},
     "output_type": "execute_result"
    }
   ],
   "source": [
    "a[SLICE]"
   ]
  },
  {
   "cell_type": "code",
   "execution_count": 76,
   "metadata": {},
   "outputs": [
    {
     "name": "stdout",
     "output_type": "stream",
     "text": [
      "[1, 4, 9, 16, 25, 36, 49, 64, 81, 100]\n",
      "[1, 4, 9, 16, 77, 47, 49, 64, 81, 100]\n",
      "[1, 4, 9, 16, 49, 64, 81, 100]\n"
     ]
    }
   ],
   "source": [
    "print(a)\n",
    "a[SLICE] = [np.random.randint(0,100) for _ in range(SLICE.stop-SLICE.start)]\n",
    "print(a)\n",
    "del(a[SLICE])\n",
    "print(a)"
   ]
  },
  {
   "cell_type": "code",
   "execution_count": 77,
   "metadata": {},
   "outputs": [
    {
     "name": "stdout",
     "output_type": "stream",
     "text": [
      "[1, 4, 9, 16, 49, 64, 81, 100]\n",
      "1 4 9 16 49 64 81 100\n",
      "1:4:9:16:49:64:81:100\n"
     ]
    }
   ],
   "source": [
    "print(a)\n",
    "print(*a)\n",
    "print(*a,sep=\":\")"
   ]
  },
  {
   "cell_type": "code",
   "execution_count": 78,
   "metadata": {},
   "outputs": [
    {
     "name": "stdout",
     "output_type": "stream",
     "text": [
      "[1, 2, 3, 4, 5, 6]\n"
     ]
    }
   ],
   "source": [
    "a = [1,4,2,5,3,6]\n",
    "print(sorted(a))"
   ]
  },
  {
   "cell_type": "code",
   "execution_count": 79,
   "metadata": {},
   "outputs": [
    {
     "name": "stdout",
     "output_type": "stream",
     "text": [
      "6 1 21 6\n"
     ]
    }
   ],
   "source": [
    "print(max(a), min(a), sum(a), len(a))"
   ]
  },
  {
   "cell_type": "markdown",
   "metadata": {},
   "source": [
    "#### Добавление элемента в список"
   ]
  },
  {
   "cell_type": "code",
   "execution_count": null,
   "metadata": {},
   "outputs": [],
   "source": []
  },
  {
   "cell_type": "markdown",
   "metadata": {},
   "source": [
    "#### Удаление элемента из списка"
   ]
  },
  {
   "cell_type": "code",
   "execution_count": 80,
   "metadata": {},
   "outputs": [
    {
     "name": "stdout",
     "output_type": "stream",
     "text": [
      "[1, 2, 3, 4, 5]\n",
      "[1, 3, 4, 5]\n"
     ]
    }
   ],
   "source": [
    "a = [1, 2, 3, 4, 5]\n",
    "print(a)\n",
    "del(a[1])\n",
    "print(a)"
   ]
  },
  {
   "cell_type": "markdown",
   "metadata": {},
   "source": [
    "#### Многомерные списки"
   ]
  },
  {
   "cell_type": "code",
   "execution_count": 81,
   "metadata": {},
   "outputs": [
    {
     "name": "stdout",
     "output_type": "stream",
     "text": [
      "[[1, 2], [3, 4]]\n",
      "1\n"
     ]
    }
   ],
   "source": [
    "a = [[1,2], [3,4]]\n",
    "print(a)\n",
    "print(a[0][0])"
   ]
  },
  {
   "cell_type": "code",
   "execution_count": 82,
   "metadata": {},
   "outputs": [
    {
     "name": "stdout",
     "output_type": "stream",
     "text": [
      "[[0, 1, 2, 3, 4], [1, 2, 3, 4, 5], [2, 3, 4, 5, 6], [3, 4, 5, 6, 7], [4, 5, 6, 7, 8], [5, 6, 7, 8, 9]]\n"
     ]
    }
   ],
   "source": [
    "a = [[i+j for i in range(5)] for j in range(6)]\n",
    "print(a)"
   ]
  },
  {
   "cell_type": "code",
   "execution_count": 83,
   "metadata": {},
   "outputs": [
    {
     "name": "stdout",
     "output_type": "stream",
     "text": [
      "0 1 2 3 4 \n",
      "1 2 3 4 5 \n",
      "2 3 4 5 6 \n",
      "3 4 5 6 7 \n",
      "4 5 6 7 8 \n",
      "5 6 7 8 9 \n"
     ]
    }
   ],
   "source": [
    "for i in range(6):\n",
    "    for j in range(5):\n",
    "        print(a[i][j], end=\" \")\n",
    "    print()"
   ]
  },
  {
   "cell_type": "code",
   "execution_count": 84,
   "metadata": {},
   "outputs": [
    {
     "data": {
      "text/plain": [
       "(6, 5)"
      ]
     },
     "execution_count": 84,
     "metadata": {},
     "output_type": "execute_result"
    }
   ],
   "source": [
    "len(a), len(a[0])"
   ]
  },
  {
   "cell_type": "markdown",
   "metadata": {},
   "source": [
    "<a href='#toc'>Назад к Оглавлению</a>"
   ]
  },
  {
   "cell_type": "markdown",
   "metadata": {},
   "source": [
    "## Кортежи (иммутабельные списки, tuples) <a name='tuples'></a>"
   ]
  },
  {
   "cell_type": "code",
   "execution_count": 85,
   "metadata": {},
   "outputs": [
    {
     "name": "stdout",
     "output_type": "stream",
     "text": [
      "3\n",
      "1\n",
      "6\n",
      "3\n",
      "(1, 2, 3, 1, 2, 3)\n"
     ]
    }
   ],
   "source": [
    "a = (1, 2, 3)\n",
    "print(max(a))\n",
    "print(min(a))\n",
    "print(sum(a))\n",
    "print(len(a))\n",
    "print(a*2)"
   ]
  },
  {
   "cell_type": "code",
   "execution_count": 86,
   "metadata": {},
   "outputs": [
    {
     "name": "stdout",
     "output_type": "stream",
     "text": [
      "3\n",
      "Tuple can not be changed\n"
     ]
    }
   ],
   "source": [
    "a = (1, 3, 4)\n",
    "print(a[1])\n",
    "try:\n",
    "    a[1]=2\n",
    "except:\n",
    "    print(\"Tuple can not be changed\")"
   ]
  },
  {
   "cell_type": "markdown",
   "metadata": {},
   "source": [
    "<a href='#toc'>Назад к Оглавлению</a>"
   ]
  },
  {
   "cell_type": "markdown",
   "metadata": {},
   "source": [
    "## Словари <a name='dict'></a>"
   ]
  },
  {
   "cell_type": "code",
   "execution_count": 87,
   "metadata": {},
   "outputs": [],
   "source": [
    "s = {\n",
    "    'Alexander': 1,\n",
    "    'Daniil': 2,\n",
    "    'Yury': 3,\n",
    "}"
   ]
  },
  {
   "cell_type": "code",
   "execution_count": 88,
   "metadata": {},
   "outputs": [
    {
     "name": "stdout",
     "output_type": "stream",
     "text": [
      "{'Alexander': 1, 'Daniil': 2, 'Yury': 3}\n",
      "dict_keys(['Alexander', 'Daniil', 'Yury'])\n",
      "dict_values([1, 2, 3])\n",
      "dict_items([('Alexander', 1), ('Daniil', 2), ('Yury', 3)])\n"
     ]
    }
   ],
   "source": [
    "print(s)\n",
    "print(s.keys())\n",
    "print(s.values())\n",
    "print(s.items())"
   ]
  },
  {
   "cell_type": "code",
   "execution_count": 89,
   "metadata": {},
   "outputs": [
    {
     "name": "stdout",
     "output_type": "stream",
     "text": [
      "Alexander\n",
      "Daniil\n",
      "Yury\n"
     ]
    }
   ],
   "source": [
    "for i in s:\n",
    "    print(i)"
   ]
  },
  {
   "cell_type": "code",
   "execution_count": 90,
   "metadata": {},
   "outputs": [],
   "source": [
    "s['Polina'] = 4"
   ]
  },
  {
   "cell_type": "code",
   "execution_count": 91,
   "metadata": {},
   "outputs": [
    {
     "name": "stdout",
     "output_type": "stream",
     "text": [
      "('Alexander', 1)\n",
      "('Daniil', 2)\n",
      "('Yury', 3)\n",
      "('Polina', 4)\n"
     ]
    }
   ],
   "source": [
    "for i in s.items():\n",
    "    print(i)"
   ]
  },
  {
   "cell_type": "markdown",
   "metadata": {},
   "source": [
    "Сортировка словаря по значениям"
   ]
  },
  {
   "cell_type": "code",
   "execution_count": 92,
   "metadata": {},
   "outputs": [
    {
     "name": "stdout",
     "output_type": "stream",
     "text": [
      "[('Polina', 4), ('Yury', 3), ('Daniil', 2), ('Alexander', 1)]\n"
     ]
    }
   ],
   "source": [
    "s1 = sorted(s.items(), key=lambda x: x[1], reverse=True)\n",
    "print(s1)"
   ]
  },
  {
   "cell_type": "markdown",
   "metadata": {},
   "source": [
    "<a href='#toc'>Назад к Оглавлению</a>"
   ]
  },
  {
   "cell_type": "markdown",
   "metadata": {},
   "source": [
    "## Множества <a name='sets'></a>"
   ]
  },
  {
   "cell_type": "markdown",
   "metadata": {},
   "source": [
    "#### Создание множества"
   ]
  },
  {
   "cell_type": "code",
   "execution_count": 93,
   "metadata": {},
   "outputs": [],
   "source": [
    "s1 = set([1, 2, 3, 4])\n",
    "s2 = {4, 5, 6, 7}\n",
    "s3 = {i**2 for i in range(1,11)}\n",
    "text = \"word1 word2 word3 word1 word2 word4 word2\"\n",
    "s4 = {i for i in text.split()}\n",
    "s5 = {1, 'one', (1,2,3)}\n",
    "s6 = set() # создание пустого множества. s6 = {} - создает словарь (не множество)\n"
   ]
  },
  {
   "cell_type": "markdown",
   "metadata": {},
   "source": [
    "#### Добавление и удаление элементов"
   ]
  },
  {
   "cell_type": "code",
   "execution_count": 94,
   "metadata": {},
   "outputs": [
    {
     "name": "stdout",
     "output_type": "stream",
     "text": [
      "{1, 2, 3, 4}\n",
      "{1, 2, 3, 4, 10}\n",
      "{2, 3, 4, 10}\n"
     ]
    }
   ],
   "source": [
    "print(s1)\n",
    "s1.add(10)\n",
    "print(s1)\n",
    "s1.discard(1)\n",
    "print(s1)"
   ]
  },
  {
   "cell_type": "code",
   "execution_count": 95,
   "metadata": {},
   "outputs": [
    {
     "name": "stdout",
     "output_type": "stream",
     "text": [
      "2\n",
      "{3, 4, 10}\n"
     ]
    }
   ],
   "source": [
    "v = s1.pop()\n",
    "print(v)\n",
    "print(s1)"
   ]
  },
  {
   "cell_type": "code",
   "execution_count": 96,
   "metadata": {
    "scrolled": false
   },
   "outputs": [
    {
     "name": "stdout",
     "output_type": "stream",
     "text": [
      "{4, 5, 6, 7}\n",
      "set()\n"
     ]
    }
   ],
   "source": [
    "print(s2)\n",
    "s2.clear()\n",
    "print(s2)"
   ]
  },
  {
   "cell_type": "markdown",
   "metadata": {},
   "source": [
    "#### Операции над множествами"
   ]
  },
  {
   "cell_type": "code",
   "execution_count": 97,
   "metadata": {},
   "outputs": [
    {
     "name": "stdout",
     "output_type": "stream",
     "text": [
      "{'b', 'a', 'c'}\n",
      "{'d', 'f', 'e'}\n",
      "\n",
      "set()\n",
      "{'b', 'a', 'c', 'd', 'f', 'e'}\n",
      "{'b', 'a', 'c'}\n",
      "\n",
      "<class 'set'> has methods : add, clear, copy, difference, difference_update, discard, intersection, intersection_update, isdisjoint, issubset, issuperset, pop, remove, symmetric_difference, symmetric_difference_update, union, update, "
     ]
    }
   ],
   "source": [
    "s1 = set(['a', 'b', 'c'])\n",
    "s2 = set(['d', 'e', 'f'])\n",
    "print(s1)\n",
    "print(s2)\n",
    "print()\n",
    "print(s1 & s2)\n",
    "print(s1 | s2)\n",
    "print(s1 - s2)\n",
    "print()\n",
    "print(type(s1), \"has methods \", end=\": \")\n",
    "for elem in dir(s1):\n",
    "    if elem.find('__')==-1:\n",
    "        print(elem, end=\", \")"
   ]
  },
  {
   "cell_type": "code",
   "execution_count": 98,
   "metadata": {},
   "outputs": [
    {
     "data": {
      "text/plain": [
       "{'a', 'b', 'c', 'd', 'e', 'f'}"
      ]
     },
     "execution_count": 98,
     "metadata": {},
     "output_type": "execute_result"
    }
   ],
   "source": [
    "s1.union(s2)"
   ]
  },
  {
   "cell_type": "code",
   "execution_count": 99,
   "metadata": {},
   "outputs": [
    {
     "data": {
      "text/plain": [
       "{'a', 'b', 'c'}"
      ]
     },
     "execution_count": 99,
     "metadata": {},
     "output_type": "execute_result"
    }
   ],
   "source": [
    "s1.difference(s2)"
   ]
  },
  {
   "cell_type": "code",
   "execution_count": 100,
   "metadata": {},
   "outputs": [
    {
     "name": "stdout",
     "output_type": "stream",
     "text": [
      "{64, 1, 4, 36, 100, 9, 16, 49, 81, 25}\n",
      "True\n",
      "True\n"
     ]
    }
   ],
   "source": [
    "print(s3)\n",
    "print(set([1,4,9]).issubset(s3))\n",
    "print(s3.issuperset({16, 49}))"
   ]
  },
  {
   "cell_type": "markdown",
   "metadata": {},
   "source": [
    "#### Копирование множества"
   ]
  },
  {
   "cell_type": "code",
   "execution_count": 101,
   "metadata": {},
   "outputs": [
    {
     "name": "stdout",
     "output_type": "stream",
     "text": [
      "{1, 'one', (1, 2, 3)}\n",
      "{1, 'one', (1, 2, 3)}\n",
      "{'one', (1, 2, 3)} {1, 'one', (1, 2, 3)}\n"
     ]
    }
   ],
   "source": [
    "print(s5)\n",
    "s = s5.copy()\n",
    "print(s)\n",
    "s.pop()\n",
    "print(s,s5)"
   ]
  },
  {
   "cell_type": "markdown",
   "metadata": {},
   "source": [
    "#### Неизменяемые множества"
   ]
  },
  {
   "cell_type": "code",
   "execution_count": 102,
   "metadata": {},
   "outputs": [
    {
     "name": "stdout",
     "output_type": "stream",
     "text": [
      "1\n"
     ]
    }
   ],
   "source": [
    "fs = frozenset(s1)\n",
    "fs\n",
    "d = {fs: 1}\n",
    "print(d[fs])"
   ]
  },
  {
   "cell_type": "markdown",
   "metadata": {},
   "source": [
    "<a href='#toc'>Назад к Оглавлению</a>"
   ]
  },
  {
   "cell_type": "markdown",
   "metadata": {},
   "source": [
    "# Функции, генераторы <a name='functions'></a>"
   ]
  },
  {
   "cell_type": "markdown",
   "metadata": {},
   "source": [
    "#### Определение функции"
   ]
  },
  {
   "cell_type": "code",
   "execution_count": 103,
   "metadata": {},
   "outputs": [
    {
     "name": "stdout",
     "output_type": "stream",
     "text": [
      "100\n",
      "[0, 1, 4, 9, 16, 25, 36, 49, 64, 81, 100]\n",
      "<class 'function'>\n"
     ]
    }
   ],
   "source": [
    "def fSquare(x):\n",
    "    return x**2\n",
    "print(fSquare(10))\n",
    "print([fSquare(i) for i in range(11)])\n",
    "print(type(fSquare))"
   ]
  },
  {
   "cell_type": "markdown",
   "metadata": {},
   "source": [
    "#### Параметры функции"
   ]
  },
  {
   "cell_type": "code",
   "execution_count": 104,
   "metadata": {},
   "outputs": [
    {
     "name": "stdout",
     "output_type": "stream",
     "text": [
      "a=1, b=2\n",
      "a=3, b=0\n"
     ]
    }
   ],
   "source": [
    "def f(a, b=0):\n",
    "    print(\"a={}, b={}\".format(a, b))\n",
    "f(1, 2)\n",
    "f(3)"
   ]
  },
  {
   "cell_type": "markdown",
   "metadata": {},
   "source": [
    "#### Произвольное количество параметров"
   ]
  },
  {
   "cell_type": "code",
   "execution_count": 105,
   "metadata": {},
   "outputs": [
    {
     "data": {
      "text/plain": [
       "21"
      ]
     },
     "execution_count": 105,
     "metadata": {},
     "output_type": "execute_result"
    }
   ],
   "source": [
    "def fSum(*m):\n",
    "    s = 0\n",
    "    for i in m: \n",
    "        s += i\n",
    "    return s\n",
    "\n",
    "fSum(1, 2, 3, 4, 5, 6)"
   ]
  },
  {
   "cell_type": "markdown",
   "metadata": {},
   "source": [
    "#### Позиционные и именованные параметры"
   ]
  },
  {
   "cell_type": "code",
   "execution_count": 106,
   "metadata": {},
   "outputs": [
    {
     "name": "stdout",
     "output_type": "stream",
     "text": [
      "1\n",
      "2\n",
      "third\n",
      "fourth\n",
      "3\n",
      "4\n",
      "('third', 3)\n",
      "('fourth', 4)\n"
     ]
    }
   ],
   "source": [
    "def f(*args, **kwargs):\n",
    "    for a in args:\n",
    "        print(a)\n",
    "    for a in kwargs.keys():\n",
    "        print(a)\n",
    "    for a in kwargs.values():\n",
    "        print(a)\n",
    "    for a in kwargs.items():\n",
    "        print(a)\n",
    "\n",
    "f(1,2, third=3, fourth=4)"
   ]
  },
  {
   "cell_type": "markdown",
   "metadata": {},
   "source": [
    "#### Функция как параметр другой функции"
   ]
  },
  {
   "cell_type": "code",
   "execution_count": 107,
   "metadata": {},
   "outputs": [
    {
     "name": "stdout",
     "output_type": "stream",
     "text": [
      "Я управляющая функция\n",
      "Я подчиненная функция, я могу что-то делать\n",
      "Я подчиненная функция, я не могу что-то делать\n"
     ]
    }
   ],
   "source": [
    "def f_hardworking_slave(action):\n",
    "    print(\"Я подчиненная функция, я могу {}\".format(action))\n",
    "\n",
    "def f_lazy_slave(action):\n",
    "    print(\"Я подчиненная функция, я не могу {}\".format(action))\n",
    "    \n",
    "def f_master(*fs):\n",
    "    print(\"Я управляющая функция\")\n",
    "    for f in fs:\n",
    "        f(\"что-то делать\")\n",
    "\n",
    "f_master(f_hardworking_slave, f_lazy_slave)"
   ]
  },
  {
   "cell_type": "markdown",
   "metadata": {},
   "source": [
    "#### Использование map"
   ]
  },
  {
   "cell_type": "code",
   "execution_count": 108,
   "metadata": {},
   "outputs": [
    {
     "name": "stdout",
     "output_type": "stream",
     "text": [
      "[0, 1, 2, 3, 4, 5, 6, 7, 8, 9, 10]\n",
      "[0, 1, 4, 9, 16, 25, 36, 49, 64, 81, 100]\n"
     ]
    }
   ],
   "source": [
    "m = range(11)\n",
    "r = map(fSquare, m)\n",
    "print(list(m))\n",
    "print(list(r))"
   ]
  },
  {
   "cell_type": "code",
   "execution_count": 109,
   "metadata": {},
   "outputs": [
    {
     "data": {
      "text/plain": [
       "[[],\n",
       " [0, 0],\n",
       " [0],\n",
       " [],\n",
       " [0, 0],\n",
       " [0, 0, 0, 0, 0, 0, 0, 0, 0],\n",
       " [0, 0, 0, 0],\n",
       " [0, 0, 0, 0, 0, 0],\n",
       " [0, 0, 0, 0, 0],\n",
       " [0, 0, 0, 0, 0, 0, 0, 0]]"
      ]
     },
     "execution_count": 109,
     "metadata": {},
     "output_type": "execute_result"
    }
   ],
   "source": [
    "data = [[0]*np.random.randint(10) for _ in range(10)]\n",
    "data"
   ]
  },
  {
   "cell_type": "code",
   "execution_count": 110,
   "metadata": {},
   "outputs": [
    {
     "name": "stdout",
     "output_type": "stream",
     "text": [
      "Длина самой длинной цепочки: 9\n"
     ]
    }
   ],
   "source": [
    "print(\"Длина самой длинной цепочки: {}\".format(max(map(len, data))))"
   ]
  },
  {
   "cell_type": "markdown",
   "metadata": {},
   "source": [
    "#### Использование filter"
   ]
  },
  {
   "cell_type": "code",
   "execution_count": 111,
   "metadata": {},
   "outputs": [
    {
     "name": "stdout",
     "output_type": "stream",
     "text": [
      "[1, 3, 5, 7, 9]\n"
     ]
    }
   ],
   "source": [
    "def ifEven(x):\n",
    "    if x%2:\n",
    "        return True\n",
    "    else:\n",
    "        return False\n",
    "print(list(filter(ifEven, m)))"
   ]
  },
  {
   "cell_type": "markdown",
   "metadata": {},
   "source": [
    "#### Использование reduce"
   ]
  },
  {
   "cell_type": "code",
   "execution_count": 112,
   "metadata": {},
   "outputs": [
    {
     "name": "stdout",
     "output_type": "stream",
     "text": [
      "55\n"
     ]
    }
   ],
   "source": [
    "from functools import reduce\n",
    "\n",
    "def fSum(x,y): return x+y\n",
    "\n",
    "r = reduce(fSum, m)\n",
    "print(r)"
   ]
  },
  {
   "cell_type": "markdown",
   "metadata": {},
   "source": [
    "#### Использование partial"
   ]
  },
  {
   "cell_type": "code",
   "execution_count": 113,
   "metadata": {},
   "outputs": [
    {
     "name": "stdout",
     "output_type": "stream",
     "text": [
      "3\n"
     ]
    }
   ],
   "source": [
    "def fSum(x,y):\n",
    "    return x+y\n",
    "print(fSum(1,2))"
   ]
  },
  {
   "cell_type": "code",
   "execution_count": 114,
   "metadata": {},
   "outputs": [
    {
     "name": "stdout",
     "output_type": "stream",
     "text": [
      "4\n"
     ]
    }
   ],
   "source": [
    "from functools import partial\n",
    "fSum1 = partial(fSum, 2)\n",
    "print(fSum1(2))"
   ]
  },
  {
   "cell_type": "markdown",
   "metadata": {},
   "source": [
    "#### Лямбда функции"
   ]
  },
  {
   "cell_type": "markdown",
   "metadata": {},
   "source": [
    "Определение"
   ]
  },
  {
   "cell_type": "code",
   "execution_count": 115,
   "metadata": {},
   "outputs": [
    {
     "data": {
      "text/plain": [
       "(1, 0)"
      ]
     },
     "execution_count": 115,
     "metadata": {},
     "output_type": "execute_result"
    }
   ],
   "source": [
    "f = lambda x: 0 if x>5 else x\n",
    "f(1), f(10)"
   ]
  },
  {
   "cell_type": "markdown",
   "metadata": {},
   "source": [
    "Использование при создании списка"
   ]
  },
  {
   "cell_type": "code",
   "execution_count": 116,
   "metadata": {},
   "outputs": [
    {
     "name": "stdout",
     "output_type": "stream",
     "text": [
      "[0, 1, 0, 1, 0, 1, 0, 1, 0, 1]\n"
     ]
    }
   ],
   "source": [
    "print([(lambda x: 1 if x%2 else 0)(i) for i in range(10)])"
   ]
  },
  {
   "cell_type": "markdown",
   "metadata": {},
   "source": [
    "Использование при сортировке"
   ]
  },
  {
   "cell_type": "code",
   "execution_count": 117,
   "metadata": {},
   "outputs": [
    {
     "name": "stdout",
     "output_type": "stream",
     "text": [
      "{0: 80, 1: 33, 2: 77, 3: 72, 4: 45, 5: 76, 6: 33, 7: 96, 8: 28, 9: 79}\n"
     ]
    }
   ],
   "source": [
    "a = {i:np.random.randint(1,100) for i in range(10)}\n",
    "print(a)"
   ]
  },
  {
   "cell_type": "code",
   "execution_count": 118,
   "metadata": {},
   "outputs": [
    {
     "data": {
      "text/plain": [
       "[8, 1, 6, 4, 3, 5, 2, 9, 0, 7]"
      ]
     },
     "execution_count": 118,
     "metadata": {},
     "output_type": "execute_result"
    }
   ],
   "source": [
    "sorted(a, key=lambda x: a[x])"
   ]
  },
  {
   "cell_type": "markdown",
   "metadata": {},
   "source": [
    "#### Функция main()"
   ]
  },
  {
   "cell_type": "code",
   "execution_count": 119,
   "metadata": {},
   "outputs": [],
   "source": [
    "def f1():\n",
    "    print(\"is f1\")\n",
    "def f2():\n",
    "    print(\"is f2\")\n",
    "def main():\n",
    "    f1()\n",
    "    f2()"
   ]
  },
  {
   "cell_type": "code",
   "execution_count": 120,
   "metadata": {},
   "outputs": [
    {
     "name": "stdout",
     "output_type": "stream",
     "text": [
      "is f1\n",
      "is f2\n"
     ]
    }
   ],
   "source": [
    "if __name__=='__main__':\n",
    "    main()"
   ]
  },
  {
   "cell_type": "markdown",
   "metadata": {},
   "source": [
    "#### Декораторы"
   ]
  },
  {
   "cell_type": "markdown",
   "metadata": {},
   "source": [
    "Создание декоратора"
   ]
  },
  {
   "cell_type": "code",
   "execution_count": 121,
   "metadata": {},
   "outputs": [
    {
     "name": "stdout",
     "output_type": "stream",
     "text": [
      "Функция обертка\n",
      "Оборачиваемая функция: <function hello at 0x7fc7eb77aaf0>\n",
      "Before\n",
      "Here I am\n",
      "After\n"
     ]
    }
   ],
   "source": [
    "def fDecorator(f):\n",
    "    def wrapper():\n",
    "        print(\"Функция обертка\")\n",
    "        print(\"Оборачиваемая функция: {}\".format(f))\n",
    "        print(\"Before\")\n",
    "        f()\n",
    "        print(\"After\")\n",
    "    return wrapper\n",
    "\n",
    "@fDecorator\n",
    "def hello():\n",
    "    print(\"Here I am\")\n",
    "    \n",
    "hello()"
   ]
  },
  {
   "cell_type": "code",
   "execution_count": 122,
   "metadata": {},
   "outputs": [
    {
     "name": "stdout",
     "output_type": "stream",
     "text": [
      "1\n",
      "2\n",
      "3\n",
      "Before\n",
      "parameters: 5, 6, 7\n",
      "After\n"
     ]
    }
   ],
   "source": [
    "def myDecorator(f):\n",
    "    def inner(*args):\n",
    "        print(\"Before\")\n",
    "        f(*args)\n",
    "        print(\"After\")\n",
    "    return inner\n",
    "\n",
    "def f(*args):\n",
    "    for i in args:\n",
    "        print(i)\n",
    "\n",
    "myDecorator(f(1,2,3))\n",
    "    \n",
    "@myDecorator\n",
    "def g(a,b,c):\n",
    "    print(\"parameters: {}, {}, {}\".format(a, b, c))\n",
    "\n",
    "g(5,6,7)"
   ]
  },
  {
   "cell_type": "markdown",
   "metadata": {},
   "source": [
    "Пример применения для html верстки"
   ]
  },
  {
   "cell_type": "code",
   "execution_count": 123,
   "metadata": {},
   "outputs": [
    {
     "name": "stdout",
     "output_type": "stream",
     "text": [
      "<b><i>hello world</i></b>\n"
     ]
    }
   ],
   "source": [
    "def makebold(fn):\n",
    "    def wrapped():\n",
    "        return \"<b>\" + fn() + \"</b>\"\n",
    "    return wrapped\n",
    " \n",
    "def makeitalic(fn):\n",
    "    def wrapped():\n",
    "        return \"<i>\" + fn() + \"</i>\"\n",
    "    return wrapped\n",
    " \n",
    "@makebold\n",
    "@makeitalic\n",
    "def hello():\n",
    "    return \"hello world\"\n",
    " \n",
    "print(hello())"
   ]
  },
  {
   "cell_type": "markdown",
   "metadata": {},
   "source": [
    "#### Создание генератора"
   ]
  },
  {
   "cell_type": "code",
   "execution_count": 124,
   "metadata": {},
   "outputs": [
    {
     "name": "stdout",
     "output_type": "stream",
     "text": [
      "<class 'generator'>\n",
      "[0, 1, 4, 9, 16]\n",
      "[]\n"
     ]
    }
   ],
   "source": [
    "g = (i**2 for i in range(5))\n",
    "print(type(g))\n",
    "print(list(g))\n",
    "print(list(g))"
   ]
  },
  {
   "cell_type": "code",
   "execution_count": 125,
   "metadata": {},
   "outputs": [],
   "source": [
    "def gen1():\n",
    "    for i in range(10):\n",
    "        yield(i)"
   ]
  },
  {
   "cell_type": "code",
   "execution_count": 126,
   "metadata": {},
   "outputs": [
    {
     "name": "stdout",
     "output_type": "stream",
     "text": [
      "0 1 2 3 4 5 6 7 8 9 "
     ]
    }
   ],
   "source": [
    "g = gen1()\n",
    "for i in range(10):\n",
    "    a = next(g)\n",
    "    print(a, end=\" \")"
   ]
  },
  {
   "cell_type": "markdown",
   "metadata": {},
   "source": [
    "#### Проверить, что функция является генератором "
   ]
  },
  {
   "cell_type": "code",
   "execution_count": 127,
   "metadata": {},
   "outputs": [],
   "source": [
    "import inspect"
   ]
  },
  {
   "cell_type": "code",
   "execution_count": 128,
   "metadata": {},
   "outputs": [
    {
     "data": {
      "text/plain": [
       "True"
      ]
     },
     "execution_count": 128,
     "metadata": {},
     "output_type": "execute_result"
    }
   ],
   "source": [
    "inspect.isgeneratorfunction(gen1)"
   ]
  },
  {
   "cell_type": "markdown",
   "metadata": {},
   "source": [
    "yield None"
   ]
  },
  {
   "cell_type": "code",
   "execution_count": 129,
   "metadata": {},
   "outputs": [],
   "source": [
    "def gen2():\n",
    "    yield None"
   ]
  },
  {
   "cell_type": "code",
   "execution_count": 130,
   "metadata": {},
   "outputs": [],
   "source": [
    "g = gen2()\n",
    "next(g)"
   ]
  },
  {
   "cell_type": "markdown",
   "metadata": {},
   "source": [
    "#### Работа двух генераторов"
   ]
  },
  {
   "cell_type": "code",
   "execution_count": 131,
   "metadata": {},
   "outputs": [
    {
     "name": "stdout",
     "output_type": "stream",
     "text": [
      "Y 0 u 1 r 2 y 3 4 "
     ]
    }
   ],
   "source": [
    "import time\n",
    "# этот генератор возвращает символы из принятого в качестве параметра слова с паузой в 1 секунду\n",
    "def gen3(s):\n",
    "    for i in s:\n",
    "        time.sleep(1)\n",
    "        yield i\n",
    "# этот генератор возвращает целые числа из диапазона от 0 до n (n принято в качестве параметра), без пауз\n",
    "def gen4(n):\n",
    "    for i in range(n):\n",
    "        yield i\n",
    "\n",
    "tasks = [gen3('Yury'), gen4(5)]\n",
    "while tasks:\n",
    "    task = tasks.pop(0)\n",
    "    try:\n",
    "        print(next(task), end=\" \")\n",
    "        tasks.append(task)\n",
    "    except StopIteration:\n",
    "        pass    "
   ]
  },
  {
   "cell_type": "markdown",
   "metadata": {},
   "source": [
    "#### Отправка сообщения генератору"
   ]
  },
  {
   "cell_type": "code",
   "execution_count": 132,
   "metadata": {},
   "outputs": [],
   "source": [
    "def gen5():\n",
    "    while True:\n",
    "        try:\n",
    "            message = yield\n",
    "            print(message)\n",
    "        except StopIteration:\n",
    "            print('Done!')"
   ]
  },
  {
   "cell_type": "code",
   "execution_count": 133,
   "metadata": {},
   "outputs": [],
   "source": [
    "g = gen5()"
   ]
  },
  {
   "cell_type": "code",
   "execution_count": 134,
   "metadata": {},
   "outputs": [
    {
     "name": "stdout",
     "output_type": "stream",
     "text": [
      "1\n",
      "2\n",
      "Done!\n"
     ]
    }
   ],
   "source": [
    "g.send(None)\n",
    "g.send(1)\n",
    "g.send(2)\n",
    "g.throw(StopIteration)"
   ]
  },
  {
   "cell_type": "code",
   "execution_count": 135,
   "metadata": {},
   "outputs": [
    {
     "name": "stdout",
     "output_type": "stream",
     "text": [
      "10\n"
     ]
    }
   ],
   "source": [
    "g.send(10)"
   ]
  },
  {
   "cell_type": "markdown",
   "metadata": {},
   "source": [
    "#### Генератор-подгенератор"
   ]
  },
  {
   "cell_type": "code",
   "execution_count": 136,
   "metadata": {},
   "outputs": [],
   "source": [
    "def gen6(s):\n",
    "    try:\n",
    "        for i in s:\n",
    "            yield i\n",
    "    except StopIteration:\n",
    "        print('Done!')\n",
    "\n",
    "def gen7(g):\n",
    "    try:\n",
    "        for i in g:\n",
    "            yield i\n",
    "    except StopIteration:\n",
    "        print('Done!')\n",
    "g1 = gen6('Yury')        \n",
    "g2 = gen7(g1)"
   ]
  },
  {
   "cell_type": "code",
   "execution_count": 137,
   "metadata": {},
   "outputs": [
    {
     "data": {
      "text/plain": [
       "'Y'"
      ]
     },
     "execution_count": 137,
     "metadata": {},
     "output_type": "execute_result"
    }
   ],
   "source": [
    "next(g2)"
   ]
  },
  {
   "cell_type": "markdown",
   "metadata": {},
   "source": [
    "<a href='#toc'>Назад к Оглавлению</a>"
   ]
  },
  {
   "cell_type": "markdown",
   "metadata": {},
   "source": [
    "# Случайные числа <a name='random'></a>"
   ]
  },
  {
   "cell_type": "code",
   "execution_count": 138,
   "metadata": {},
   "outputs": [
    {
     "name": "stdout",
     "output_type": "stream",
     "text": [
      "[0.22199317108973948, 0.8707323061773764, 0.20671915533942642, 0.9186109079379216, 0.48841118879482914]\n"
     ]
    }
   ],
   "source": [
    "np.random.seed(5)\n",
    "m = [np.random.random() for _ in range(5)]\n",
    "print(m)"
   ]
  },
  {
   "cell_type": "markdown",
   "metadata": {},
   "source": [
    "<a href='#toc'>Назад к Оглавлению</a>"
   ]
  },
  {
   "cell_type": "markdown",
   "metadata": {},
   "source": [
    "# Операторы <a name='control'></a>"
   ]
  },
  {
   "cell_type": "markdown",
   "metadata": {},
   "source": [
    "#### Оператор присваивания"
   ]
  },
  {
   "cell_type": "code",
   "execution_count": 139,
   "metadata": {},
   "outputs": [
    {
     "data": {
      "text/plain": [
       "1"
      ]
     },
     "execution_count": 139,
     "metadata": {},
     "output_type": "execute_result"
    }
   ],
   "source": [
    "a = 1\n",
    "a"
   ]
  },
  {
   "cell_type": "code",
   "execution_count": 140,
   "metadata": {},
   "outputs": [
    {
     "data": {
      "text/plain": [
       "(2, 2)"
      ]
     },
     "execution_count": 140,
     "metadata": {},
     "output_type": "execute_result"
    }
   ],
   "source": [
    "b = a = 2\n",
    "a, b"
   ]
  },
  {
   "cell_type": "code",
   "execution_count": 141,
   "metadata": {},
   "outputs": [
    {
     "data": {
      "text/plain": [
       "12"
      ]
     },
     "execution_count": 141,
     "metadata": {},
     "output_type": "execute_result"
    }
   ],
   "source": [
    "b += 10\n",
    "b"
   ]
  },
  {
   "cell_type": "markdown",
   "metadata": {},
   "source": [
    "#### Условный оператор if <a name='if'></a>"
   ]
  },
  {
   "cell_type": "code",
   "execution_count": 142,
   "metadata": {},
   "outputs": [
    {
     "name": "stdout",
     "output_type": "stream",
     "text": [
      "Укажите Ваш возраст:\n",
      "1\n",
      "Здравствуй, малыш\n"
     ]
    }
   ],
   "source": [
    "print(\"Укажите Ваш возраст:\")\n",
    "age = int(input())\n",
    "if age < 6:\n",
    "    print(\"Здравствуй, малыш\")\n",
    "elif age < 14:\n",
    "    print(\"Привет\")\n",
    "elif age < 25:\n",
    "    print(\"Добрый день\")\n",
    "elif age < 100:    \n",
    "    print(\"Здравствуйте\")\n",
    "else:    \n",
    "    print(\"Какой необычный возраст\")    "
   ]
  },
  {
   "cell_type": "code",
   "execution_count": 143,
   "metadata": {},
   "outputs": [
    {
     "name": "stdout",
     "output_type": "stream",
     "text": [
      "yes\n"
     ]
    }
   ],
   "source": [
    "print(\"yes\") if 2==2 else print(\"no\")"
   ]
  },
  {
   "cell_type": "code",
   "execution_count": 144,
   "metadata": {},
   "outputs": [
    {
     "data": {
      "text/plain": [
       "[1, 0, 1, 0, 1, 0, 1, 0, 1, 0]"
      ]
     },
     "execution_count": 144,
     "metadata": {},
     "output_type": "execute_result"
    }
   ],
   "source": [
    "a = [1 if i%2 else 0 for i in range(1,11)]\n",
    "a"
   ]
  },
  {
   "cell_type": "code",
   "execution_count": 145,
   "metadata": {},
   "outputs": [
    {
     "name": "stdout",
     "output_type": "stream",
     "text": [
      "Да\n"
     ]
    }
   ],
   "source": [
    "a = 1\n",
    "print(\"Да\") if a%2 else print(\"Нет\")"
   ]
  },
  {
   "cell_type": "code",
   "execution_count": 146,
   "metadata": {},
   "outputs": [
    {
     "name": "stdout",
     "output_type": "stream",
     "text": [
      "63\n",
      "28\n",
      "31\n",
      "81\n",
      "8\n"
     ]
    }
   ],
   "source": [
    "s1, s2 = 0., 0.\n",
    "for elem in [np.random.randint(1,101) for _ in range(5)]:\n",
    "    print(elem)\n",
    "    if elem%2:\n",
    "        s1 += 1\n",
    "    else: \n",
    "        s2 += 1"
   ]
  },
  {
   "cell_type": "markdown",
   "metadata": {},
   "source": [
    "#### Цикл while <a name='while'></a>"
   ]
  },
  {
   "cell_type": "code",
   "execution_count": 147,
   "metadata": {},
   "outputs": [
    {
     "name": "stdout",
     "output_type": "stream",
     "text": [
      "[0, 1, 4, 9, 16]\n"
     ]
    }
   ],
   "source": [
    "i, m = 0, []\n",
    "while i<5:\n",
    "    m.append(i**2)\n",
    "    i+=1\n",
    "else:\n",
    "    print(m)"
   ]
  },
  {
   "cell_type": "markdown",
   "metadata": {},
   "source": [
    "Вычислить площадь окружности с радиусом=1 методом Монте-Карло. Нарисовать окружность. Вывести количество точке внутри окружности и вне (разными цветами). Добавить в kaggle."
   ]
  },
  {
   "cell_type": "code",
   "execution_count": 148,
   "metadata": {},
   "outputs": [
    {
     "data": {
      "image/png": "[encoded data removed]",
      "text/plain": [
       "<Figure size 360x360 with 1 Axes>"
      ]
     },
     "metadata": {
      "needs_background": "light"
     },
     "output_type": "display_data"
    }
   ],
   "source": [
    "plt.figure(figsize=(5,5))\n",
    "i, s = 0, 0\n",
    "while True:\n",
    "    if i >= 1000: \n",
    "        break\n",
    "    else:\n",
    "        i += 1\n",
    "    x = np.random.random()\n",
    "    y = np.random.random()\n",
    "    plt.scatter(x, y, color='b')\n",
    "    if (sqrt(x**2+y**2) < 1):\n",
    "        plt.scatter(x, y, color='r')\n",
    "        s += 1\n",
    "    else:\n",
    "        plt.scatter(x, y, color='b')\n",
    "else:\n",
    "    plt.show()"
   ]
  },
  {
   "cell_type": "code",
   "execution_count": 149,
   "metadata": {},
   "outputs": [
    {
     "name": "stdout",
     "output_type": "stream",
     "text": [
      "3.032\n"
     ]
    }
   ],
   "source": [
    "print(s/1000*4)"
   ]
  },
  {
   "cell_type": "markdown",
   "metadata": {},
   "source": [
    "#### Цикл for <a name='for'></a>"
   ]
  },
  {
   "cell_type": "code",
   "execution_count": 150,
   "metadata": {},
   "outputs": [
    {
     "name": "stdout",
     "output_type": "stream",
     "text": [
      "0 1 4 9 16 25 36 49 64 81 "
     ]
    }
   ],
   "source": [
    "for i in range(10):\n",
    "    print(i**2, end=\" \")"
   ]
  },
  {
   "cell_type": "markdown",
   "metadata": {},
   "source": [
    "#### Обработка исключений (конструкция try-except)"
   ]
  },
  {
   "cell_type": "code",
   "execution_count": 151,
   "metadata": {},
   "outputs": [
    {
     "name": "stdout",
     "output_type": "stream",
     "text": [
      "problem\n"
     ]
    }
   ],
   "source": [
    "try:\n",
    "    print(1/0)\n",
    "except:\n",
    "    print(\"problem\")"
   ]
  },
  {
   "cell_type": "code",
   "execution_count": 152,
   "metadata": {},
   "outputs": [
    {
     "name": "stdout",
     "output_type": "stream",
     "text": [
      "[10, 9, 8, 7, 6, 5, 4, 3, 2, 1, 0]\n"
     ]
    }
   ],
   "source": [
    "a = list(range(0,11))[::-1]\n",
    "print(a)"
   ]
  },
  {
   "cell_type": "code",
   "execution_count": 153,
   "metadata": {},
   "outputs": [
    {
     "name": "stdout",
     "output_type": "stream",
     "text": [
      "1.0 1.11 1.25 1.43 1.67 2.0 2.5 3.33 5.0 10.0 Zero Division error\n"
     ]
    }
   ],
   "source": [
    "for d in a:\n",
    "    try:\n",
    "        print(round(10/d,2), end=\" \")\n",
    "    except ZeroDivisionError:\n",
    "        print(\"Zero Division error\")"
   ]
  },
  {
   "cell_type": "code",
   "execution_count": 154,
   "metadata": {},
   "outputs": [],
   "source": [
    "class MyException(Exception):\n",
    "    pass"
   ]
  },
  {
   "cell_type": "markdown",
   "metadata": {},
   "source": [
    "#### Проверка выполнения условия (оператор assert) <a name='assert'></a>"
   ]
  },
  {
   "cell_type": "code",
   "execution_count": 155,
   "metadata": {},
   "outputs": [
    {
     "name": "stdout",
     "output_type": "stream",
     "text": [
      "0\n",
      "1\n",
      "2\n",
      "3\n",
      "4\n",
      "5\n",
      "Проблема\n",
      "6\n",
      "7\n",
      "8\n",
      "9\n"
     ]
    }
   ],
   "source": [
    "for i in range(10):\n",
    "    print(i)\n",
    "    try:\n",
    "        assert(i!=5)\n",
    "    except:\n",
    "        print(\"Проблема\")"
   ]
  },
  {
   "cell_type": "markdown",
   "metadata": {},
   "source": [
    "<a href='#toc'>Назад к Оглавлению</a>"
   ]
  },
  {
   "cell_type": "markdown",
   "metadata": {},
   "source": [
    "## Ввод и вывод данных <a name='io'></a>"
   ]
  },
  {
   "cell_type": "markdown",
   "metadata": {},
   "source": [
    "#### Работа с консолью"
   ]
  },
  {
   "cell_type": "code",
   "execution_count": 156,
   "metadata": {},
   "outputs": [
    {
     "name": "stdout",
     "output_type": "stream",
     "text": [
      "1.1110\n"
     ]
    }
   ],
   "source": [
    "print(\"{:.4f}\".format(1.111))"
   ]
  },
  {
   "cell_type": "code",
   "execution_count": 157,
   "metadata": {},
   "outputs": [
    {
     "name": "stdout",
     "output_type": "stream",
     "text": [
      "'text'\n",
      "--'text'--\n",
      "--\"'text'\"--\n"
     ]
    }
   ],
   "source": [
    "a = \"\\'text\\'\"\n",
    "print(a)\n",
    "print(\"--{}--\".format(a))\n",
    "print(\"--{!r}--\".format(a))"
   ]
  },
  {
   "cell_type": "markdown",
   "metadata": {},
   "source": [
    "#### Метод join"
   ]
  },
  {
   "cell_type": "code",
   "execution_count": 158,
   "metadata": {},
   "outputs": [
    {
     "name": "stdout",
     "output_type": "stream",
     "text": [
      "0 1 2 3 4\n",
      "1 2 3 4 5\n",
      "2 3 4 5 6\n",
      "3 4 5 6 7\n",
      "4 5 6 7 8\n",
      "5 6 7 8 9\n"
     ]
    }
   ],
   "source": [
    "a = [[i+j for i in range(5)] for j in range(6)]\n",
    "for row in a:\n",
    "    print(\" \".join([str(element) for element in row]))"
   ]
  },
  {
   "cell_type": "markdown",
   "metadata": {},
   "source": [
    "#### Вывод на экран свойств объекта"
   ]
  },
  {
   "cell_type": "code",
   "execution_count": 159,
   "metadata": {},
   "outputs": [
    {
     "name": "stdout",
     "output_type": "stream",
     "text": [
      "my name: Yury, his age: 41\n"
     ]
    }
   ],
   "source": [
    "class person():\n",
    "    name = \"\"\n",
    "    age = 0\n",
    "    def __init__(self, n, a):\n",
    "        self.name = n\n",
    "        self.age = a\n",
    "    def str():\n",
    "        print(\"class person\")\n",
    "\n",
    "me = person(\"Yury\", 42)\n",
    "he = person(\"Ivan\", 41)\n",
    "print(\"my name: {0.name}, his age: {1.age}\".format(me, he))"
   ]
  },
  {
   "cell_type": "markdown",
   "metadata": {},
   "source": [
    "#### Запись в файл"
   ]
  },
  {
   "cell_type": "code",
   "execution_count": 160,
   "metadata": {},
   "outputs": [],
   "source": [
    "with open('a.out', 'w') as f:\n",
    "    f.write(\"hello\")\n",
    "f.close()"
   ]
  },
  {
   "cell_type": "markdown",
   "metadata": {},
   "source": [
    "#### Чтение из файла"
   ]
  },
  {
   "cell_type": "code",
   "execution_count": 161,
   "metadata": {},
   "outputs": [
    {
     "name": "stdout",
     "output_type": "stream",
     "text": [
      "hello\n"
     ]
    }
   ],
   "source": [
    "with open('a.out', 'r') as f:\n",
    "    print(f.read())\n",
    "f.close()"
   ]
  },
  {
   "cell_type": "markdown",
   "metadata": {},
   "source": [
    "#### Сериализация данных с использованием pickle"
   ]
  },
  {
   "cell_type": "code",
   "execution_count": 162,
   "metadata": {},
   "outputs": [],
   "source": [
    "import pickle"
   ]
  },
  {
   "cell_type": "code",
   "execution_count": 163,
   "metadata": {},
   "outputs": [],
   "source": [
    "s = {\"name\": \"Ivan\", \"surname\": \"Ivanov\", \"age\": 20}"
   ]
  },
  {
   "cell_type": "code",
   "execution_count": 164,
   "metadata": {},
   "outputs": [
    {
     "name": "stdout",
     "output_type": "stream",
     "text": [
      "<class 'bytes'> b'\\x80\\x04\\x95.\\x00\\x00\\x00\\x00\\x00\\x00\\x00}\\x94(\\x8c\\x04name\\x94\\x8c\\x04Ivan\\x94\\x8c\\x07surname\\x94\\x8c\\x06Ivanov\\x94\\x8c\\x03age\\x94K\\x14u.'\n",
      "{'name': 'Ivan', 'surname': 'Ivanov', 'age': 20}\n"
     ]
    }
   ],
   "source": [
    "b = pickle.dumps(s)\n",
    "print(type(b), b)\n",
    "s1 = pickle.loads(b)\n",
    "print(s1)"
   ]
  },
  {
   "cell_type": "markdown",
   "metadata": {},
   "source": [
    "#### Ограничение вывода сообщений на экран"
   ]
  },
  {
   "cell_type": "code",
   "execution_count": 165,
   "metadata": {},
   "outputs": [],
   "source": [
    "import warnings\n",
    "warnings.filterwarnings('ignore')"
   ]
  },
  {
   "cell_type": "markdown",
   "metadata": {},
   "source": [
    "<a href='#toc'>Назад к Оглавлению</a>"
   ]
  },
  {
   "cell_type": "markdown",
   "metadata": {},
   "source": [
    "# Объектно-ориентированное программирование <a name='oop'></a>"
   ]
  },
  {
   "cell_type": "markdown",
   "metadata": {},
   "source": [
    "#### Описание классов"
   ]
  },
  {
   "cell_type": "code",
   "execution_count": 166,
   "metadata": {},
   "outputs": [],
   "source": [
    "class A():\n",
    "    def __init__(self, name, number):\n",
    "        self.name = name\n",
    "        self.number = number\n",
    "        self.skill = 0\n",
    "    def __str__(self):\n",
    "        return(\"I am \\\"{}\\\", my number is: {}, skill is {}\".format(self.name, self.number, self.skill))\n",
    "    def setSkill(self, skill):\n",
    "        self.skill = skill\n",
    "    def speak(self, phrase):\n",
    "        print(\"I am \\\"{}\\\", and I want to tell you \\\"{}\\\"\".format(self.name, phrase))"
   ]
  },
  {
   "cell_type": "code",
   "execution_count": 167,
   "metadata": {},
   "outputs": [
    {
     "name": "stdout",
     "output_type": "stream",
     "text": [
      "I am \"Ivan\", my number is: 1, skill is 0\n"
     ]
    }
   ],
   "source": [
    "a = A('Ivan',1)\n",
    "print(a)"
   ]
  },
  {
   "cell_type": "markdown",
   "metadata": {},
   "source": [
    "#### Наследование классов"
   ]
  },
  {
   "cell_type": "code",
   "execution_count": 168,
   "metadata": {},
   "outputs": [],
   "source": [
    "class B():\n",
    "    def __init__(self, name, number):\n",
    "        self.name = name\n",
    "        self.number = number\n",
    "        self.temper = 0\n",
    "        \n",
    "    def __str__(self):\n",
    "        return(\"I am \\\"{}\\\", my number is: {}, temper is {}\".format(self.name, self.number, self.temper))\n",
    "    \n",
    "    def setTemper(self, temper):\n",
    "        self.temper = temper\n",
    "        \n",
    "    def sing(self, phrase):\n",
    "        print(\"I am \\\"{}\\\", and I want to sing \\\"{}\\\"\".format(self.name, phrase))\n",
    "\n",
    "class C(A, B):\n",
    "    def __init__(self, name, number, skill, temper):\n",
    "        super().__init__(name, number)\n",
    "        self.setSkill(skill)\n",
    "        self.setTemper(temper)\n",
    "        \n",
    "    def __str__(self):\n",
    "        return(\"I am \\\"{}\\\", my number is: {}, skill: {}, temper: {}\".format(self.name, self.number, self.skill, self.temper))  "
   ]
  },
  {
   "cell_type": "code",
   "execution_count": 169,
   "metadata": {},
   "outputs": [
    {
     "name": "stdout",
     "output_type": "stream",
     "text": [
      "I am \"Ivan\", my number is: 1, skill is 0\n",
      "I am \"Petr\", my number is: 2, temper is 0\n",
      "I am \"Ivan\", and I want to tell you \"Hi\"\n",
      "I am \"Petr\", and I want to sing \"Hi\"\n"
     ]
    }
   ],
   "source": [
    "a = A('Ivan',1)\n",
    "print(a)\n",
    "b = B('Petr',2)\n",
    "print(b)\n",
    "a.speak('Hi')\n",
    "b.sing('Hi')"
   ]
  },
  {
   "cell_type": "code",
   "execution_count": 170,
   "metadata": {},
   "outputs": [
    {
     "name": "stdout",
     "output_type": "stream",
     "text": [
      "name\n",
      "number\n",
      "setSkill\n",
      "setTemper\n",
      "sing\n",
      "skill\n",
      "speak\n",
      "temper\n",
      "I am \"Yury\", and I want to sing \"We will rock you\"\n",
      "I am \"Yury\", and I want to tell you \"Thanks for listening\"\n",
      "I am \"Yury\", my number is: 3, skill: 11, temper: 111\n",
      "I am \"Petr\", my number is: 2, temper is 0\n"
     ]
    }
   ],
   "source": [
    "c = C('Yury', 3, 11, 111)\n",
    "for i in dir(c):\n",
    "    if not i.startswith('__'):\n",
    "        print(\"{}\".format(i))\n",
    "c.sing(\"We will rock you\")        \n",
    "c.speak(\"Thanks for listening\")   \n",
    "print(c)\n",
    "print(b)"
   ]
  },
  {
   "cell_type": "markdown",
   "metadata": {},
   "source": [
    "#### Строковое описание объекта"
   ]
  },
  {
   "cell_type": "code",
   "execution_count": 171,
   "metadata": {},
   "outputs": [],
   "source": [
    "class D():\n",
    "    def __init__(self, name):\n",
    "        self.name = name\n",
    "        self.surname = 'Ivanov'\n",
    "    \n",
    "    def __str__(self):\n",
    "        return(\"{}----{}\".format(self.name, self.surname))\n",
    "\n",
    "d = D('Ivan')    "
   ]
  },
  {
   "cell_type": "code",
   "execution_count": 172,
   "metadata": {},
   "outputs": [
    {
     "name": "stdout",
     "output_type": "stream",
     "text": [
      "Ivan----Ivanov\n"
     ]
    }
   ],
   "source": [
    "print(d)"
   ]
  },
  {
   "cell_type": "markdown",
   "metadata": {},
   "source": [
    "#### Итератор"
   ]
  },
  {
   "cell_type": "code",
   "execution_count": 173,
   "metadata": {},
   "outputs": [],
   "source": [
    "#__iter__, __next__\n",
    "class MySet():\n",
    "    a = []\n",
    "    def __init__(self):\n",
    "        pass\n",
    "    def __str__(self):\n",
    "        return(\"class MySet, array:{}\".format(self.a))\n",
    "    def add(self, *elems):\n",
    "        for elem in elems:\n",
    "            self.a.append(elem)\n",
    "    def __iter__(self):\n",
    "        for elem in self.a:\n",
    "            yield elem"
   ]
  },
  {
   "cell_type": "code",
   "execution_count": 174,
   "metadata": {},
   "outputs": [],
   "source": [
    "s = MySet()"
   ]
  },
  {
   "cell_type": "code",
   "execution_count": 175,
   "metadata": {},
   "outputs": [
    {
     "name": "stdout",
     "output_type": "stream",
     "text": [
      "class MySet, array:['one', 'two', 'three']\n"
     ]
    }
   ],
   "source": [
    "s.add(\"one\", \"two\", \"three\")\n",
    "print(s)"
   ]
  },
  {
   "cell_type": "code",
   "execution_count": 176,
   "metadata": {},
   "outputs": [
    {
     "name": "stdout",
     "output_type": "stream",
     "text": [
      "one\n",
      "two\n",
      "three\n"
     ]
    }
   ],
   "source": [
    "for i in s:\n",
    "    print(i)"
   ]
  },
  {
   "cell_type": "code",
   "execution_count": 177,
   "metadata": {},
   "outputs": [
    {
     "data": {
      "text/plain": [
       "['two', 'three', 'one']"
      ]
     },
     "execution_count": 177,
     "metadata": {},
     "output_type": "execute_result"
    }
   ],
   "source": [
    "sorted(s, reverse=True)"
   ]
  },
  {
   "cell_type": "markdown",
   "metadata": {},
   "source": [
    "<a href='#toc'>Назад к Оглавлению</a>"
   ]
  },
  {
   "cell_type": "markdown",
   "metadata": {},
   "source": [
    "# Специализированные библиотеки <a name='libs'></a>"
   ]
  },
  {
   "cell_type": "markdown",
   "metadata": {},
   "source": [
    "## Специальные структурированные типы данных (модуль collections) <a name='collections'></a>"
   ]
  },
  {
   "cell_type": "markdown",
   "metadata": {},
   "source": [
    "#### Словарь Counter для подсчета частотности элементов"
   ]
  },
  {
   "cell_type": "markdown",
   "metadata": {
    "slideshow": {
     "slide_type": "subslide"
    }
   },
   "source": [
    "Загрузка."
   ]
  },
  {
   "cell_type": "code",
   "execution_count": 178,
   "metadata": {},
   "outputs": [],
   "source": [
    "from collections import Counter"
   ]
  },
  {
   "cell_type": "markdown",
   "metadata": {},
   "source": [
    "Подсчет частот элементов"
   ]
  },
  {
   "cell_type": "code",
   "execution_count": 179,
   "metadata": {},
   "outputs": [
    {
     "name": "stdout",
     "output_type": "stream",
     "text": [
      "Counter({1: 3, 3: 2, 2: 1})\n",
      "dict_keys([1, 2, 3])\n",
      "dict_values([3, 1, 2])\n",
      "dict_items([(1, 3), (2, 1), (3, 2)])\n"
     ]
    }
   ],
   "source": [
    "a = [1, 2, 1, 3, 1, 3]\n",
    "c = Counter(a)\n",
    "print(c)\n",
    "print(c.keys())\n",
    "print(c.values())\n",
    "print(c.items())"
   ]
  },
  {
   "cell_type": "markdown",
   "metadata": {},
   "source": [
    "Использование для подсчета частоты слов"
   ]
  },
  {
   "cell_type": "code",
   "execution_count": 180,
   "metadata": {},
   "outputs": [],
   "source": [
    "import urllib\n",
    "# скачаем содержимое html страницы www.usurt.ru\n",
    "page = urllib.request.urlopen(\"http://www.usurt.ru\")\n",
    "info = page.read().decode(\"utf-8\")"
   ]
  },
  {
   "cell_type": "code",
   "execution_count": 181,
   "metadata": {},
   "outputs": [
    {
     "name": "stdout",
     "output_type": "stream",
     "text": [
      "Всего 89988 токенов, разделяемых пробелами\n",
      "Среди инх 792 токенов, являющихся словами\n",
      "Среди них 471 уникальных\n"
     ]
    }
   ],
   "source": [
    "# разделим на отдельные слова, отделяемые пробелами\n",
    "tokens = info.replace('\\n', ' ')\n",
    "tokens = tokens.replace('\\r', ' ')\n",
    "tokens = tokens.split(' ')\n",
    "\n",
    "print(\"Всего {} токенов, разделяемых пробелами\".format(len(tokens)))\n",
    "\n",
    "cleaned_tokens = []\n",
    "\n",
    "# оставим только слова\n",
    "for token in tokens:\n",
    "    if token.isalpha():\n",
    "        cleaned_tokens.append(token)\n",
    "\n",
    "print(\"Среди инх {} токенов, являющихся словами\".format(len(cleaned_tokens)))\n",
    "print(\"Среди них {} уникальных\".format(len(set(cleaned_tokens))))"
   ]
  },
  {
   "cell_type": "code",
   "execution_count": 182,
   "metadata": {},
   "outputs": [],
   "source": [
    "tokens_counter = Counter()\n",
    "for token in cleaned_tokens:\n",
    "    tokens_counter[token]+=1"
   ]
  },
  {
   "cell_type": "code",
   "execution_count": 183,
   "metadata": {},
   "outputs": [
    {
     "name": "stdout",
     "output_type": "stream",
     "text": [
      "lte IE lt Головной вуз УрГУПС Modal location Екатеринбург железнодорожного транспорта колледж Челябинск институт путей сообщения Курган Пермь Тюмень в городе Нижний Нижнем Златоуст cached и гостиничное хозяйство железных на планирование организация glyphicon сайта для container cache read ВО Уральский государственный университет State University of Railway кабинет личный должно быть через ОТ inset counter try new var n s f function if else приемной горячая об образовательной clearfix органы управления стандарты обеспечение оснащенность образовательного иные виды материальной образовательные места приема воспитание студентов клуб внутреннего области защиты персональных о структурных этики служебного поведения сотрудников постановке учет налоговом записи почёта менеджмента качестве подготовки заинтересованных СМК аккредитация образовательных транспортных президента труда пожарная безопасность основы охраны Нормативные научные структура школы план с цитированием WoS молодых учёных защита объектов интеллектуальной информационных системы моделирование систем заседаниях диссертационных семинар докторантов замещение должностей научных мировое образовательное международных стран ближнего дальнего программы иностранные международное за иностранных Летняя школа русского языка как почётного профессора к труду Периодические издания ФГБУ ДПО УМЦ помощь ОАО слет молодежи конкурс проектов добровольцы Команда гриппа процесс период пандемии запись ВЫБИРАЮ ПОСТУПИТЬ В И ЗА ПРИЕМНОЙ вашему вниманию методические рекомендации по вакцинации Министерства здравоохранения Российской приглашает принять участие модернизации строительствео новых БАМа У вас есть уникальная возможность поработать важнейшем объекте поступающих документов сдача вступительных испытаний гости приоритетом университета является здоровье благополучие преподавателей Предлагаем информацию которые призваны препятствовать угрозе заражения коронавирусной инфекцией помогут сохранить ваше под призмой техническая площадка Фаблаб стала местом встречи инноваторов со всей Руководители центров молодежного инновационного творчества учреждений из разных городов приехали единственный транспортный чтобы работает высокотехнологичная мастерская молодёжи перенять понимание своего говорят рубрике история выпускницы ФЭУ Арины человек успешный это которой лучшие подводят итог плодотворным годам Артем Хазимуллин магистр факультета процессами кампания самом Уральском государственном университете успешно Несмотря пандемию сопутствующие ей популярность единственного транспортного вуза Урале среди абитуриентов остается Хотя приёмная еще середине число подавших документы значительно чем прошлом Информация согласии того абитуриенту стать ему необходимо подать приемную комиссию заявление подробнее сроках способах подачи такого июля года проводится консультация вступительному испытанию Указаны ссылки подключения поступление абитуриенты Вы можете году несколькими от вакцинацию инфекции могут все желающие старше лет сайтах следующих больниц разделе Вас представлены полезные Вам подготовиться сдаче победителях второго этапа творческих железнодорожники целях выявления наиболее одарённых талантливых обучающихся образовательным программам среднего профессионального находящихся ведении Федерального агентства твоего первого миллиона осталось второй этап конкурса что делать соискание золотых медалей премий выдающихся проводимых РАН академия наук объявляет конкурсы дорогие поздравляю аспирантов окончанием учебного поздравляет Днем Праздником Весны От имени коллектива Троицкого авиационного технического колледжа филиала МГТУ гражданской авиации себя лично сердечно праздником Труда Александр ректор Уральского государственного доктор технических мая Свердловская отличием окончил электромеханический инженеров специальности электронной инженерная олимпиада проекты ТВ интервью Александром Денисом ректора газета партнеры агентство науки высшего образования железные территориальное управление корпорация железная антитеррористической образование против центр информационного противодействия терроризму экстремизму среде сети горячей антикоррупционной вопрос informer данные сегодня визиты уникальные "
     ]
    }
   ],
   "source": [
    "l = list(tokens_counter.keys())\n",
    "for i in l:\n",
    "    print(i, end=\" \")"
   ]
  },
  {
   "cell_type": "code",
   "execution_count": 184,
   "metadata": {},
   "outputs": [
    {
     "name": "stdout",
     "output_type": "stream",
     "text": [
      "['вуз', 'вуз', 'УрГУПС', 'УрГУПС', 'УрГУПС', 'УрГУПС', 'УрГУПС', 'УрГУПС', 'УрГУПС', 'УрГУПС']\n"
     ]
    }
   ],
   "source": [
    "print(list(tokens_counter.elements())[10:20])"
   ]
  },
  {
   "cell_type": "code",
   "execution_count": 185,
   "metadata": {},
   "outputs": [
    {
     "name": "stdout",
     "output_type": "stream",
     "text": [
      "dict_values([2, 4, 1, 1, 4, 11, 2, 2, 1, 10, 6, 1, 1, 4, 7, 4, 1, 1, 1, 36, 3, 1, 1, 1, 8, 55, 3, 3, 3, 25, 3, 3, 2, 1, 7, 1, 1, 1, 1, 2, 3, 3, 1, 1, 1, 1, 1, 1, 2, 2, 2, 1, 1, 6, 3, 3, 3, 3, 3, 3, 3, 3, 3, 2, 1, 3, 3, 9, 1, 2, 1, 1, 1, 1, 1, 1, 1, 1, 1, 1, 1, 3, 1, 1, 2, 1, 1, 10, 1, 1, 1, 1, 1, 1, 1, 1, 1, 2, 2, 1, 1, 1, 1, 1, 4, 2, 1, 1, 1, 1, 1, 1, 1, 2, 1, 1, 1, 11, 1, 1, 1, 2, 1, 1, 1, 1, 1, 1, 1, 1, 1, 1, 1, 1, 1, 2, 1, 1, 1, 2, 1, 1, 2, 1, 1, 3, 1, 1, 1, 1, 1, 2, 1, 1, 3, 1, 1, 2, 1, 1, 1, 1, 1, 1, 1, 1, 3, 1, 1, 1, 1, 1, 1, 1, 1, 1, 1, 1, 1, 1, 2, 2, 1, 1, 4, 1, 1, 1, 1, 1, 1, 1, 1, 1, 1, 1, 1, 3, 1, 1, 1, 1, 1, 1, 3, 3, 1, 2, 1, 1, 1, 2, 1, 1, 1, 1, 1, 1, 2, 1, 1, 1, 1, 3, 1, 2, 1, 1, 1, 1, 1, 1, 1, 1, 1, 1, 1, 1, 1, 1, 1, 1, 1, 1, 1, 1, 1, 1, 1, 1, 1, 2, 1, 1, 1, 1, 1, 1, 1, 2, 1, 1, 1, 1, 1, 1, 1, 1, 1, 1, 1, 1, 1, 1, 1, 1, 1, 1, 1, 3, 1, 1, 1, 1, 1, 1, 1, 1, 1, 1, 1, 1, 1, 1, 1, 2, 1, 1, 1, 1, 1, 1, 1, 2, 1, 1, 1, 1, 2, 1, 1, 1, 1, 1, 2, 2, 2, 1, 1, 1, 1, 2, 1, 1, 1, 2, 1, 1, 1, 1, 1, 1, 2, 1, 1, 1, 2, 1, 3, 1, 1, 1, 1, 1, 1, 1, 1, 1, 1, 1, 2, 1, 1, 1, 1, 1, 1, 1, 1, 2, 2, 1, 1, 1, 1, 1, 1, 1, 1, 1, 1, 1, 1, 1, 1, 1, 1, 1, 1, 1, 1, 1, 1, 1, 2, 2, 2, 2, 2, 1, 1, 1, 1, 1, 1, 1, 2, 1, 2, 1, 1, 2, 2, 3, 1, 1, 1, 1, 1, 1, 1, 1, 1, 1, 1, 1, 1, 1, 1, 1, 1, 1, 1, 1, 1, 1, 1, 1, 1, 1, 1, 1, 1, 1, 1, 1, 1, 1, 2, 1, 1, 1, 1, 1, 1, 1, 1, 1, 1, 1, 1, 1, 3, 1, 1, 1, 1, 1, 1, 1, 1, 1, 1, 1, 1, 1, 2, 1, 1, 1, 1])\n"
     ]
    }
   ],
   "source": [
    "print(tokens_counter.values())"
   ]
  },
  {
   "cell_type": "code",
   "execution_count": 186,
   "metadata": {},
   "outputs": [
    {
     "name": "stdout",
     "output_type": "stream",
     "text": [
      "[('и', 55), ('в', 36), ('на', 25), ('УрГУПС', 11), ('с', 11), ('железнодорожного', 10), ('о', 10), ('clearfix', 9), ('cached', 8), ('путей', 7)]\n"
     ]
    }
   ],
   "source": [
    "print(tokens_counter.most_common(10))"
   ]
  },
  {
   "cell_type": "markdown",
   "metadata": {},
   "source": [
    "Операции над объектами Counter"
   ]
  },
  {
   "cell_type": "code",
   "execution_count": 187,
   "metadata": {},
   "outputs": [
    {
     "name": "stdout",
     "output_type": "stream",
     "text": [
      "Counter({1: 2, 2: 2, 3: 1})\n",
      "Counter({1: 3, 2: 3, 3: 2, 4: 2})\n",
      "Counter({1: 3, 2: 3, 3: 2, 4: 1})\n",
      "Counter({1: 3, 2: 3, 3: 2, 4: 1})\n"
     ]
    }
   ],
   "source": [
    "c1 = Counter([1,2,1,2,3])\n",
    "print(c1)\n",
    "c1 = c1 + Counter([1,2,3,4,4])\n",
    "print(c1)\n",
    "c1 = c1 - Counter([4])\n",
    "print(c1)\n",
    "c1 += Counter() # удалаем все элементы, встречающиеся меньше одного раза\n",
    "print(c1)"
   ]
  },
  {
   "cell_type": "markdown",
   "metadata": {},
   "source": [
    "#### defaultdict()"
   ]
  },
  {
   "cell_type": "markdown",
   "metadata": {},
   "source": [
    "Упрощает работу со словарем - если ключ отсутствует, то автоматически создает его."
   ]
  },
  {
   "cell_type": "code",
   "execution_count": 188,
   "metadata": {},
   "outputs": [
    {
     "name": "stdout",
     "output_type": "stream",
     "text": [
      "defaultdict(<class 'int'>, {1: 2})\n",
      "defaultdict(<class 'list'>, {5: [1, 2]})\n"
     ]
    }
   ],
   "source": [
    "from collections import defaultdict\n",
    "\n",
    "dd_int = defaultdict(int)\n",
    "dd_int[1] = 1\n",
    "dd_int[1] += 1\n",
    "print(dd_int)\n",
    "\n",
    "dd_list = defaultdict(list)\n",
    "dd_list[5].append(1)\n",
    "dd_list[5].append(2)\n",
    "print(dd_list)\n"
   ]
  },
  {
   "cell_type": "markdown",
   "metadata": {},
   "source": [
    "#### deque"
   ]
  },
  {
   "cell_type": "markdown",
   "metadata": {},
   "source": [
    "Динамический массив, позволяет добавлять и читать элементы с начала и с конца."
   ]
  },
  {
   "cell_type": "code",
   "execution_count": 189,
   "metadata": {},
   "outputs": [],
   "source": [
    "from collections import deque"
   ]
  },
  {
   "cell_type": "code",
   "execution_count": 190,
   "metadata": {},
   "outputs": [
    {
     "name": "stdout",
     "output_type": "stream",
     "text": [
      "deque([0], maxlen=7)\n",
      "deque([0, 1], maxlen=7)\n",
      "deque([0, 1, 2], maxlen=7)\n",
      "deque([0, 1, 2, 3], maxlen=7)\n",
      "deque([0, 1, 2, 3, 4], maxlen=7)\n",
      "deque([0, 1, 2, 3, 4, 5], maxlen=7)\n",
      "deque([0, 1, 2, 3, 4, 5, 6], maxlen=7)\n",
      "deque([1, 2, 3, 4, 5, 6, 7], maxlen=7)\n",
      "deque([2, 3, 4, 5, 6, 7, 8], maxlen=7)\n",
      "deque([3, 4, 5, 6, 7, 8, 9], maxlen=7)\n"
     ]
    }
   ],
   "source": [
    "d = deque(maxlen=7)\n",
    "for i in range(10):\n",
    "    d.append(i)\n",
    "    print(d)    "
   ]
  },
  {
   "cell_type": "code",
   "execution_count": 191,
   "metadata": {},
   "outputs": [
    {
     "name": "stdout",
     "output_type": "stream",
     "text": [
      "deque([11, 3, 4, 5, 6, 7, 8], maxlen=7)\n"
     ]
    }
   ],
   "source": [
    "d.appendleft(11)\n",
    "print(d)"
   ]
  },
  {
   "cell_type": "code",
   "execution_count": 192,
   "metadata": {},
   "outputs": [
    {
     "name": "stdout",
     "output_type": "stream",
     "text": [
      "8 deque([11, 3, 4, 5, 6, 7], maxlen=7)\n",
      "11 deque([3, 4, 5, 6, 7], maxlen=7)\n"
     ]
    }
   ],
   "source": [
    "v1 = d.pop()\n",
    "print(v1, d)\n",
    "v2 = d.popleft()\n",
    "print(v2, d)"
   ]
  },
  {
   "cell_type": "markdown",
   "metadata": {},
   "source": [
    "#### OrderedDict"
   ]
  },
  {
   "cell_type": "markdown",
   "metadata": {},
   "source": [
    "Позволяет упорядочивать элементы словаря."
   ]
  },
  {
   "cell_type": "code",
   "execution_count": 193,
   "metadata": {},
   "outputs": [],
   "source": [
    "from collections import OrderedDict\n",
    "import json"
   ]
  },
  {
   "cell_type": "code",
   "execution_count": 194,
   "metadata": {},
   "outputs": [
    {
     "name": "stdout",
     "output_type": "stream",
     "text": [
      "{'name': 'Ivan', 'age': 30, 'surname': 'Ivanov'}\n"
     ]
    }
   ],
   "source": [
    "d1 = {'name': 'Ivan', 'age': 30, 'surname': 'Ivanov'}\n",
    "print(d1)"
   ]
  },
  {
   "cell_type": "code",
   "execution_count": 195,
   "metadata": {},
   "outputs": [
    {
     "name": "stdout",
     "output_type": "stream",
     "text": [
      "OrderedDict([('age', 30), ('name', 'Ivan'), ('surname', 'Ivanov')])\n"
     ]
    }
   ],
   "source": [
    "d2 = OrderedDict()\n",
    "d2['age']  = 30\n",
    "d2['name'] = 'Ivan'\n",
    "d2['surname'] = 'Ivanov'\n",
    "print(d2)"
   ]
  },
  {
   "cell_type": "code",
   "execution_count": 196,
   "metadata": {},
   "outputs": [
    {
     "data": {
      "text/plain": [
       "'{\"age\": 30, \"name\": \"Ivan\", \"surname\": \"Ivanov\"}'"
      ]
     },
     "execution_count": 196,
     "metadata": {},
     "output_type": "execute_result"
    }
   ],
   "source": [
    "json.dumps(d2)"
   ]
  },
  {
   "cell_type": "markdown",
   "metadata": {},
   "source": [
    "<a href='#toc'>Назад к Оглавлению</a>"
   ]
  },
  {
   "cell_type": "markdown",
   "metadata": {},
   "source": [
    "# Работа с системным окружением <a name='env'></a>"
   ]
  },
  {
   "cell_type": "markdown",
   "metadata": {},
   "source": [
    "#### Загрузка библиотеки"
   ]
  },
  {
   "cell_type": "code",
   "execution_count": 197,
   "metadata": {},
   "outputs": [],
   "source": [
    "import os"
   ]
  },
  {
   "cell_type": "markdown",
   "metadata": {},
   "source": [
    "#### Узнать текущий директорий"
   ]
  },
  {
   "cell_type": "code",
   "execution_count": 198,
   "metadata": {},
   "outputs": [
    {
     "data": {
      "text/plain": [
       "'/home/ychernyshov/git/Data-Science-Course-USURT/lessons'"
      ]
     },
     "execution_count": 198,
     "metadata": {},
     "output_type": "execute_result"
    }
   ],
   "source": [
    "os.getcwd()"
   ]
  },
  {
   "cell_type": "markdown",
   "metadata": {},
   "source": [
    "#### Проверка существования файла"
   ]
  },
  {
   "cell_type": "code",
   "execution_count": 199,
   "metadata": {},
   "outputs": [
    {
     "data": {
      "text/plain": [
       "False"
      ]
     },
     "execution_count": 199,
     "metadata": {},
     "output_type": "execute_result"
    }
   ],
   "source": [
    "os.path.exists('a1.out')"
   ]
  },
  {
   "cell_type": "markdown",
   "metadata": {},
   "source": [
    "#### Напечатать названия всех файлов в заданной директории"
   ]
  },
  {
   "cell_type": "code",
   "execution_count": 200,
   "metadata": {},
   "outputs": [],
   "source": [
    "#for dirname, _, filenames in os.walk('.'):\n",
    "#    for filename in filenames:\n",
    "#        print(os.path.join(dirname, filename))"
   ]
  },
  {
   "cell_type": "markdown",
   "metadata": {},
   "source": [
    "#### Получить значение переменной окружения"
   ]
  },
  {
   "cell_type": "code",
   "execution_count": 201,
   "metadata": {},
   "outputs": [
    {
     "name": "stdout",
     "output_type": "stream",
     "text": [
      "/usr/local/sbin:/usr/local/bin:/usr/sbin:/usr/bin:/sbin:/bin\n"
     ]
    }
   ],
   "source": [
    "print(os.environ.get('PATH'))"
   ]
  },
  {
   "cell_type": "markdown",
   "metadata": {},
   "source": [
    "#### Получить информацию о количестве используемых процессоров"
   ]
  },
  {
   "cell_type": "code",
   "execution_count": 202,
   "metadata": {},
   "outputs": [],
   "source": [
    "import multiprocessing"
   ]
  },
  {
   "cell_type": "code",
   "execution_count": 203,
   "metadata": {},
   "outputs": [
    {
     "name": "stdout",
     "output_type": "stream",
     "text": [
      "8\n"
     ]
    }
   ],
   "source": [
    "print(multiprocessing.cpu_count())"
   ]
  },
  {
   "cell_type": "code",
   "execution_count": 204,
   "metadata": {},
   "outputs": [
    {
     "name": "stdout",
     "output_type": "stream",
     "text": [
      "<_MainProcess name='MainProcess' parent=None started>\n"
     ]
    }
   ],
   "source": [
    "print(multiprocessing.current_process())"
   ]
  },
  {
   "cell_type": "markdown",
   "metadata": {},
   "source": [
    "<a href='#toc'>Назад к Оглавлению</a>"
   ]
  },
  {
   "cell_type": "markdown",
   "metadata": {},
   "source": [
    "# Работа со временем (модуль time) <a name='time'></a>"
   ]
  },
  {
   "cell_type": "markdown",
   "metadata": {},
   "source": [
    "#### Загрузка библиотеки"
   ]
  },
  {
   "cell_type": "code",
   "execution_count": 205,
   "metadata": {},
   "outputs": [],
   "source": [
    "import time"
   ]
  },
  {
   "cell_type": "code",
   "execution_count": 206,
   "metadata": {},
   "outputs": [
    {
     "name": "stdout",
     "output_type": "stream",
     "text": [
      "1627086446.8081913\n"
     ]
    }
   ],
   "source": [
    "print(time.time()) # время в секундах с 01.01.1970 (unix-time)"
   ]
  },
  {
   "cell_type": "markdown",
   "metadata": {},
   "source": [
    "#### Демонстрация скорости работы векторизованных данных по сравнению с обычным циклом"
   ]
  },
  {
   "cell_type": "code",
   "execution_count": 207,
   "metadata": {},
   "outputs": [
    {
     "name": "stdout",
     "output_type": "stream",
     "text": [
      "np.dot works 1.1358261108398438 ms\n",
      "for loop works 373.3048439025879 ms\n"
     ]
    }
   ],
   "source": [
    "a = np.random.rand(1000000)\n",
    "b = np.random.rand(1000000)\n",
    "\n",
    "tic = time.time()\n",
    "c = np.dot(a, b)\n",
    "toc = time.time()\n",
    "print(\"np.dot works {} ms\".format(1000*(toc-tic)))\n",
    "\n",
    "c = 0\n",
    "tic = time.time()\n",
    "for i in range(1000000):\n",
    "    c += a[i]*b[i]\n",
    "toc = time.time()\n",
    "print(\"for loop works {} ms\".format(1000*(toc-tic)))\n",
    "    "
   ]
  },
  {
   "cell_type": "markdown",
   "metadata": {},
   "source": [
    "<a href='#toc'>Назад к Оглавлению</a>"
   ]
  },
  {
   "cell_type": "markdown",
   "metadata": {},
   "source": [
    "# Регулярные выражения <a name='regexp'></a>"
   ]
  },
  {
   "cell_type": "code",
   "execution_count": 208,
   "metadata": {},
   "outputs": [],
   "source": [
    "import re"
   ]
  },
  {
   "cell_type": "markdown",
   "metadata": {},
   "source": [
    "#### Проверка, что выражение начинается с заданного символа"
   ]
  },
  {
   "cell_type": "code",
   "execution_count": 209,
   "metadata": {},
   "outputs": [
    {
     "data": {
      "text/plain": [
       "(False, True)"
      ]
     },
     "execution_count": 209,
     "metadata": {},
     "output_type": "execute_result"
    }
   ],
   "source": [
    "bool(re.match(\"a\", \"cat\")), bool(re.match(\"c\", \"cat\"))"
   ]
  },
  {
   "cell_type": "markdown",
   "metadata": {},
   "source": [
    "#### Проверка наличия символа в строке"
   ]
  },
  {
   "cell_type": "code",
   "execution_count": 210,
   "metadata": {},
   "outputs": [
    {
     "data": {
      "text/plain": [
       "(True, False)"
      ]
     },
     "execution_count": 210,
     "metadata": {},
     "output_type": "execute_result"
    }
   ],
   "source": [
    "bool(re.search(\"с\", \"слово\")), bool(re.search(\"ф\", \"слово\"))"
   ]
  },
  {
   "cell_type": "markdown",
   "metadata": {},
   "source": [
    "#### Разбиение"
   ]
  },
  {
   "cell_type": "code",
   "execution_count": 211,
   "metadata": {},
   "outputs": [
    {
     "data": {
      "text/plain": [
       "['', 'бр', 'к', 'д', 'бр', '']"
      ]
     },
     "execution_count": 211,
     "metadata": {},
     "output_type": "execute_result"
    }
   ],
   "source": [
    "re.split(\"[а]\", \"абракадабра\")"
   ]
  },
  {
   "cell_type": "code",
   "execution_count": 212,
   "metadata": {},
   "outputs": [
    {
     "data": {
      "text/plain": [
       "['Это', 'простое', 'предложение', '', 'содержащее', 'пробелы', '']"
      ]
     },
     "execution_count": 212,
     "metadata": {},
     "output_type": "execute_result"
    }
   ],
   "source": [
    "предложение = \"Это простое предложение, содержащее пробелы.\"\n",
    "re.split(\"[ .,]\", предложение)"
   ]
  },
  {
   "cell_type": "markdown",
   "metadata": {},
   "source": [
    "#### Подстановка"
   ]
  },
  {
   "cell_type": "code",
   "execution_count": 213,
   "metadata": {},
   "outputs": [
    {
     "data": {
      "text/plain": [
       "'bbbbbb'"
      ]
     },
     "execution_count": 213,
     "metadata": {},
     "output_type": "execute_result"
    }
   ],
   "source": [
    "re.sub(\"a\", \"b\", \"ababab\")"
   ]
  },
  {
   "cell_type": "markdown",
   "metadata": {},
   "source": [
    "<a href='#toc'>Назад к Оглавлению</a>"
   ]
  },
  {
   "cell_type": "markdown",
   "metadata": {},
   "source": [
    "# Работа с календарем <a name='calendar'></a>"
   ]
  },
  {
   "cell_type": "code",
   "execution_count": 214,
   "metadata": {},
   "outputs": [],
   "source": [
    "import calendar"
   ]
  },
  {
   "cell_type": "markdown",
   "metadata": {},
   "source": [
    "#### Напечатать календарь"
   ]
  },
  {
   "cell_type": "code",
   "execution_count": 215,
   "metadata": {},
   "outputs": [],
   "source": [
    "a = calendar.LocaleHTMLCalendar()\n",
    "with open('calendar.html', 'w') as g:\n",
    "    print(a.formatyear(2021, width=3), file=g)"
   ]
  },
  {
   "cell_type": "code",
   "execution_count": 216,
   "metadata": {},
   "outputs": [
    {
     "data": {
      "text/html": [
       "<table border=\"0\" cellpadding=\"0\" cellspacing=\"0\" class=\"year\">\n",
       "<tr><th colspan=\"3\" class=\"year\">2021</th></tr><tr><td><table border=\"0\" cellpadding=\"0\" cellspacing=\"0\" class=\"month\">\n",
       "<tr><th colspan=\"7\" class=\"month\">January</th></tr>\n",
       "<tr><th class=\"mon\">Mon</th><th class=\"tue\">Tue</th><th class=\"wed\">Wed</th><th class=\"thu\">Thu</th><th class=\"fri\">Fri</th><th class=\"sat\">Sat</th><th class=\"sun\">Sun</th></tr>\n",
       "<tr><td class=\"noday\">&nbsp;</td><td class=\"noday\">&nbsp;</td><td class=\"noday\">&nbsp;</td><td class=\"noday\">&nbsp;</td><td class=\"fri\">1</td><td class=\"sat\">2</td><td class=\"sun\">3</td></tr>\n",
       "<tr><td class=\"mon\">4</td><td class=\"tue\">5</td><td class=\"wed\">6</td><td class=\"thu\">7</td><td class=\"fri\">8</td><td class=\"sat\">9</td><td class=\"sun\">10</td></tr>\n",
       "<tr><td class=\"mon\">11</td><td class=\"tue\">12</td><td class=\"wed\">13</td><td class=\"thu\">14</td><td class=\"fri\">15</td><td class=\"sat\">16</td><td class=\"sun\">17</td></tr>\n",
       "<tr><td class=\"mon\">18</td><td class=\"tue\">19</td><td class=\"wed\">20</td><td class=\"thu\">21</td><td class=\"fri\">22</td><td class=\"sat\">23</td><td class=\"sun\">24</td></tr>\n",
       "<tr><td class=\"mon\">25</td><td class=\"tue\">26</td><td class=\"wed\">27</td><td class=\"thu\">28</td><td class=\"fri\">29</td><td class=\"sat\">30</td><td class=\"sun\">31</td></tr>\n",
       "</table>\n",
       "</td><td><table border=\"0\" cellpadding=\"0\" cellspacing=\"0\" class=\"month\">\n",
       "<tr><th colspan=\"7\" class=\"month\">February</th></tr>\n",
       "<tr><th class=\"mon\">Mon</th><th class=\"tue\">Tue</th><th class=\"wed\">Wed</th><th class=\"thu\">Thu</th><th class=\"fri\">Fri</th><th class=\"sat\">Sat</th><th class=\"sun\">Sun</th></tr>\n",
       "<tr><td class=\"mon\">1</td><td class=\"tue\">2</td><td class=\"wed\">3</td><td class=\"thu\">4</td><td class=\"fri\">5</td><td class=\"sat\">6</td><td class=\"sun\">7</td></tr>\n",
       "<tr><td class=\"mon\">8</td><td class=\"tue\">9</td><td class=\"wed\">10</td><td class=\"thu\">11</td><td class=\"fri\">12</td><td class=\"sat\">13</td><td class=\"sun\">14</td></tr>\n",
       "<tr><td class=\"mon\">15</td><td class=\"tue\">16</td><td class=\"wed\">17</td><td class=\"thu\">18</td><td class=\"fri\">19</td><td class=\"sat\">20</td><td class=\"sun\">21</td></tr>\n",
       "<tr><td class=\"mon\">22</td><td class=\"tue\">23</td><td class=\"wed\">24</td><td class=\"thu\">25</td><td class=\"fri\">26</td><td class=\"sat\">27</td><td class=\"sun\">28</td></tr>\n",
       "</table>\n",
       "</td><td><table border=\"0\" cellpadding=\"0\" cellspacing=\"0\" class=\"month\">\n",
       "<tr><th colspan=\"7\" class=\"month\">March</th></tr>\n",
       "<tr><th class=\"mon\">Mon</th><th class=\"tue\">Tue</th><th class=\"wed\">Wed</th><th class=\"thu\">Thu</th><th class=\"fri\">Fri</th><th class=\"sat\">Sat</th><th class=\"sun\">Sun</th></tr>\n",
       "<tr><td class=\"mon\">1</td><td class=\"tue\">2</td><td class=\"wed\">3</td><td class=\"thu\">4</td><td class=\"fri\">5</td><td class=\"sat\">6</td><td class=\"sun\">7</td></tr>\n",
       "<tr><td class=\"mon\">8</td><td class=\"tue\">9</td><td class=\"wed\">10</td><td class=\"thu\">11</td><td class=\"fri\">12</td><td class=\"sat\">13</td><td class=\"sun\">14</td></tr>\n",
       "<tr><td class=\"mon\">15</td><td class=\"tue\">16</td><td class=\"wed\">17</td><td class=\"thu\">18</td><td class=\"fri\">19</td><td class=\"sat\">20</td><td class=\"sun\">21</td></tr>\n",
       "<tr><td class=\"mon\">22</td><td class=\"tue\">23</td><td class=\"wed\">24</td><td class=\"thu\">25</td><td class=\"fri\">26</td><td class=\"sat\">27</td><td class=\"sun\">28</td></tr>\n",
       "<tr><td class=\"mon\">29</td><td class=\"tue\">30</td><td class=\"wed\">31</td><td class=\"noday\">&nbsp;</td><td class=\"noday\">&nbsp;</td><td class=\"noday\">&nbsp;</td><td class=\"noday\">&nbsp;</td></tr>\n",
       "</table>\n",
       "</td></tr><tr><td><table border=\"0\" cellpadding=\"0\" cellspacing=\"0\" class=\"month\">\n",
       "<tr><th colspan=\"7\" class=\"month\">April</th></tr>\n",
       "<tr><th class=\"mon\">Mon</th><th class=\"tue\">Tue</th><th class=\"wed\">Wed</th><th class=\"thu\">Thu</th><th class=\"fri\">Fri</th><th class=\"sat\">Sat</th><th class=\"sun\">Sun</th></tr>\n",
       "<tr><td class=\"noday\">&nbsp;</td><td class=\"noday\">&nbsp;</td><td class=\"noday\">&nbsp;</td><td class=\"thu\">1</td><td class=\"fri\">2</td><td class=\"sat\">3</td><td class=\"sun\">4</td></tr>\n",
       "<tr><td class=\"mon\">5</td><td class=\"tue\">6</td><td class=\"wed\">7</td><td class=\"thu\">8</td><td class=\"fri\">9</td><td class=\"sat\">10</td><td class=\"sun\">11</td></tr>\n",
       "<tr><td class=\"mon\">12</td><td class=\"tue\">13</td><td class=\"wed\">14</td><td class=\"thu\">15</td><td class=\"fri\">16</td><td class=\"sat\">17</td><td class=\"sun\">18</td></tr>\n",
       "<tr><td class=\"mon\">19</td><td class=\"tue\">20</td><td class=\"wed\">21</td><td class=\"thu\">22</td><td class=\"fri\">23</td><td class=\"sat\">24</td><td class=\"sun\">25</td></tr>\n",
       "<tr><td class=\"mon\">26</td><td class=\"tue\">27</td><td class=\"wed\">28</td><td class=\"thu\">29</td><td class=\"fri\">30</td><td class=\"noday\">&nbsp;</td><td class=\"noday\">&nbsp;</td></tr>\n",
       "</table>\n",
       "</td><td><table border=\"0\" cellpadding=\"0\" cellspacing=\"0\" class=\"month\">\n",
       "<tr><th colspan=\"7\" class=\"month\">May</th></tr>\n",
       "<tr><th class=\"mon\">Mon</th><th class=\"tue\">Tue</th><th class=\"wed\">Wed</th><th class=\"thu\">Thu</th><th class=\"fri\">Fri</th><th class=\"sat\">Sat</th><th class=\"sun\">Sun</th></tr>\n",
       "<tr><td class=\"noday\">&nbsp;</td><td class=\"noday\">&nbsp;</td><td class=\"noday\">&nbsp;</td><td class=\"noday\">&nbsp;</td><td class=\"noday\">&nbsp;</td><td class=\"sat\">1</td><td class=\"sun\">2</td></tr>\n",
       "<tr><td class=\"mon\">3</td><td class=\"tue\">4</td><td class=\"wed\">5</td><td class=\"thu\">6</td><td class=\"fri\">7</td><td class=\"sat\">8</td><td class=\"sun\">9</td></tr>\n",
       "<tr><td class=\"mon\">10</td><td class=\"tue\">11</td><td class=\"wed\">12</td><td class=\"thu\">13</td><td class=\"fri\">14</td><td class=\"sat\">15</td><td class=\"sun\">16</td></tr>\n",
       "<tr><td class=\"mon\">17</td><td class=\"tue\">18</td><td class=\"wed\">19</td><td class=\"thu\">20</td><td class=\"fri\">21</td><td class=\"sat\">22</td><td class=\"sun\">23</td></tr>\n",
       "<tr><td class=\"mon\">24</td><td class=\"tue\">25</td><td class=\"wed\">26</td><td class=\"thu\">27</td><td class=\"fri\">28</td><td class=\"sat\">29</td><td class=\"sun\">30</td></tr>\n",
       "<tr><td class=\"mon\">31</td><td class=\"noday\">&nbsp;</td><td class=\"noday\">&nbsp;</td><td class=\"noday\">&nbsp;</td><td class=\"noday\">&nbsp;</td><td class=\"noday\">&nbsp;</td><td class=\"noday\">&nbsp;</td></tr>\n",
       "</table>\n",
       "</td><td><table border=\"0\" cellpadding=\"0\" cellspacing=\"0\" class=\"month\">\n",
       "<tr><th colspan=\"7\" class=\"month\">June</th></tr>\n",
       "<tr><th class=\"mon\">Mon</th><th class=\"tue\">Tue</th><th class=\"wed\">Wed</th><th class=\"thu\">Thu</th><th class=\"fri\">Fri</th><th class=\"sat\">Sat</th><th class=\"sun\">Sun</th></tr>\n",
       "<tr><td class=\"noday\">&nbsp;</td><td class=\"tue\">1</td><td class=\"wed\">2</td><td class=\"thu\">3</td><td class=\"fri\">4</td><td class=\"sat\">5</td><td class=\"sun\">6</td></tr>\n",
       "<tr><td class=\"mon\">7</td><td class=\"tue\">8</td><td class=\"wed\">9</td><td class=\"thu\">10</td><td class=\"fri\">11</td><td class=\"sat\">12</td><td class=\"sun\">13</td></tr>\n",
       "<tr><td class=\"mon\">14</td><td class=\"tue\">15</td><td class=\"wed\">16</td><td class=\"thu\">17</td><td class=\"fri\">18</td><td class=\"sat\">19</td><td class=\"sun\">20</td></tr>\n",
       "<tr><td class=\"mon\">21</td><td class=\"tue\">22</td><td class=\"wed\">23</td><td class=\"thu\">24</td><td class=\"fri\">25</td><td class=\"sat\">26</td><td class=\"sun\">27</td></tr>\n",
       "<tr><td class=\"mon\">28</td><td class=\"tue\">29</td><td class=\"wed\">30</td><td class=\"noday\">&nbsp;</td><td class=\"noday\">&nbsp;</td><td class=\"noday\">&nbsp;</td><td class=\"noday\">&nbsp;</td></tr>\n",
       "</table>\n",
       "</td></tr><tr><td><table border=\"0\" cellpadding=\"0\" cellspacing=\"0\" class=\"month\">\n",
       "<tr><th colspan=\"7\" class=\"month\">July</th></tr>\n",
       "<tr><th class=\"mon\">Mon</th><th class=\"tue\">Tue</th><th class=\"wed\">Wed</th><th class=\"thu\">Thu</th><th class=\"fri\">Fri</th><th class=\"sat\">Sat</th><th class=\"sun\">Sun</th></tr>\n",
       "<tr><td class=\"noday\">&nbsp;</td><td class=\"noday\">&nbsp;</td><td class=\"noday\">&nbsp;</td><td class=\"thu\">1</td><td class=\"fri\">2</td><td class=\"sat\">3</td><td class=\"sun\">4</td></tr>\n",
       "<tr><td class=\"mon\">5</td><td class=\"tue\">6</td><td class=\"wed\">7</td><td class=\"thu\">8</td><td class=\"fri\">9</td><td class=\"sat\">10</td><td class=\"sun\">11</td></tr>\n",
       "<tr><td class=\"mon\">12</td><td class=\"tue\">13</td><td class=\"wed\">14</td><td class=\"thu\">15</td><td class=\"fri\">16</td><td class=\"sat\">17</td><td class=\"sun\">18</td></tr>\n",
       "<tr><td class=\"mon\">19</td><td class=\"tue\">20</td><td class=\"wed\">21</td><td class=\"thu\">22</td><td class=\"fri\">23</td><td class=\"sat\">24</td><td class=\"sun\">25</td></tr>\n",
       "<tr><td class=\"mon\">26</td><td class=\"tue\">27</td><td class=\"wed\">28</td><td class=\"thu\">29</td><td class=\"fri\">30</td><td class=\"sat\">31</td><td class=\"noday\">&nbsp;</td></tr>\n",
       "</table>\n",
       "</td><td><table border=\"0\" cellpadding=\"0\" cellspacing=\"0\" class=\"month\">\n",
       "<tr><th colspan=\"7\" class=\"month\">August</th></tr>\n",
       "<tr><th class=\"mon\">Mon</th><th class=\"tue\">Tue</th><th class=\"wed\">Wed</th><th class=\"thu\">Thu</th><th class=\"fri\">Fri</th><th class=\"sat\">Sat</th><th class=\"sun\">Sun</th></tr>\n",
       "<tr><td class=\"noday\">&nbsp;</td><td class=\"noday\">&nbsp;</td><td class=\"noday\">&nbsp;</td><td class=\"noday\">&nbsp;</td><td class=\"noday\">&nbsp;</td><td class=\"noday\">&nbsp;</td><td class=\"sun\">1</td></tr>\n",
       "<tr><td class=\"mon\">2</td><td class=\"tue\">3</td><td class=\"wed\">4</td><td class=\"thu\">5</td><td class=\"fri\">6</td><td class=\"sat\">7</td><td class=\"sun\">8</td></tr>\n",
       "<tr><td class=\"mon\">9</td><td class=\"tue\">10</td><td class=\"wed\">11</td><td class=\"thu\">12</td><td class=\"fri\">13</td><td class=\"sat\">14</td><td class=\"sun\">15</td></tr>\n",
       "<tr><td class=\"mon\">16</td><td class=\"tue\">17</td><td class=\"wed\">18</td><td class=\"thu\">19</td><td class=\"fri\">20</td><td class=\"sat\">21</td><td class=\"sun\">22</td></tr>\n",
       "<tr><td class=\"mon\">23</td><td class=\"tue\">24</td><td class=\"wed\">25</td><td class=\"thu\">26</td><td class=\"fri\">27</td><td class=\"sat\">28</td><td class=\"sun\">29</td></tr>\n",
       "<tr><td class=\"mon\">30</td><td class=\"tue\">31</td><td class=\"noday\">&nbsp;</td><td class=\"noday\">&nbsp;</td><td class=\"noday\">&nbsp;</td><td class=\"noday\">&nbsp;</td><td class=\"noday\">&nbsp;</td></tr>\n",
       "</table>\n",
       "</td><td><table border=\"0\" cellpadding=\"0\" cellspacing=\"0\" class=\"month\">\n",
       "<tr><th colspan=\"7\" class=\"month\">September</th></tr>\n",
       "<tr><th class=\"mon\">Mon</th><th class=\"tue\">Tue</th><th class=\"wed\">Wed</th><th class=\"thu\">Thu</th><th class=\"fri\">Fri</th><th class=\"sat\">Sat</th><th class=\"sun\">Sun</th></tr>\n",
       "<tr><td class=\"noday\">&nbsp;</td><td class=\"noday\">&nbsp;</td><td class=\"wed\">1</td><td class=\"thu\">2</td><td class=\"fri\">3</td><td class=\"sat\">4</td><td class=\"sun\">5</td></tr>\n",
       "<tr><td class=\"mon\">6</td><td class=\"tue\">7</td><td class=\"wed\">8</td><td class=\"thu\">9</td><td class=\"fri\">10</td><td class=\"sat\">11</td><td class=\"sun\">12</td></tr>\n",
       "<tr><td class=\"mon\">13</td><td class=\"tue\">14</td><td class=\"wed\">15</td><td class=\"thu\">16</td><td class=\"fri\">17</td><td class=\"sat\">18</td><td class=\"sun\">19</td></tr>\n",
       "<tr><td class=\"mon\">20</td><td class=\"tue\">21</td><td class=\"wed\">22</td><td class=\"thu\">23</td><td class=\"fri\">24</td><td class=\"sat\">25</td><td class=\"sun\">26</td></tr>\n",
       "<tr><td class=\"mon\">27</td><td class=\"tue\">28</td><td class=\"wed\">29</td><td class=\"thu\">30</td><td class=\"noday\">&nbsp;</td><td class=\"noday\">&nbsp;</td><td class=\"noday\">&nbsp;</td></tr>\n",
       "</table>\n",
       "</td></tr><tr><td><table border=\"0\" cellpadding=\"0\" cellspacing=\"0\" class=\"month\">\n",
       "<tr><th colspan=\"7\" class=\"month\">October</th></tr>\n",
       "<tr><th class=\"mon\">Mon</th><th class=\"tue\">Tue</th><th class=\"wed\">Wed</th><th class=\"thu\">Thu</th><th class=\"fri\">Fri</th><th class=\"sat\">Sat</th><th class=\"sun\">Sun</th></tr>\n",
       "<tr><td class=\"noday\">&nbsp;</td><td class=\"noday\">&nbsp;</td><td class=\"noday\">&nbsp;</td><td class=\"noday\">&nbsp;</td><td class=\"fri\">1</td><td class=\"sat\">2</td><td class=\"sun\">3</td></tr>\n",
       "<tr><td class=\"mon\">4</td><td class=\"tue\">5</td><td class=\"wed\">6</td><td class=\"thu\">7</td><td class=\"fri\">8</td><td class=\"sat\">9</td><td class=\"sun\">10</td></tr>\n",
       "<tr><td class=\"mon\">11</td><td class=\"tue\">12</td><td class=\"wed\">13</td><td class=\"thu\">14</td><td class=\"fri\">15</td><td class=\"sat\">16</td><td class=\"sun\">17</td></tr>\n",
       "<tr><td class=\"mon\">18</td><td class=\"tue\">19</td><td class=\"wed\">20</td><td class=\"thu\">21</td><td class=\"fri\">22</td><td class=\"sat\">23</td><td class=\"sun\">24</td></tr>\n",
       "<tr><td class=\"mon\">25</td><td class=\"tue\">26</td><td class=\"wed\">27</td><td class=\"thu\">28</td><td class=\"fri\">29</td><td class=\"sat\">30</td><td class=\"sun\">31</td></tr>\n",
       "</table>\n",
       "</td><td><table border=\"0\" cellpadding=\"0\" cellspacing=\"0\" class=\"month\">\n",
       "<tr><th colspan=\"7\" class=\"month\">November</th></tr>\n",
       "<tr><th class=\"mon\">Mon</th><th class=\"tue\">Tue</th><th class=\"wed\">Wed</th><th class=\"thu\">Thu</th><th class=\"fri\">Fri</th><th class=\"sat\">Sat</th><th class=\"sun\">Sun</th></tr>\n",
       "<tr><td class=\"mon\">1</td><td class=\"tue\">2</td><td class=\"wed\">3</td><td class=\"thu\">4</td><td class=\"fri\">5</td><td class=\"sat\">6</td><td class=\"sun\">7</td></tr>\n",
       "<tr><td class=\"mon\">8</td><td class=\"tue\">9</td><td class=\"wed\">10</td><td class=\"thu\">11</td><td class=\"fri\">12</td><td class=\"sat\">13</td><td class=\"sun\">14</td></tr>\n",
       "<tr><td class=\"mon\">15</td><td class=\"tue\">16</td><td class=\"wed\">17</td><td class=\"thu\">18</td><td class=\"fri\">19</td><td class=\"sat\">20</td><td class=\"sun\">21</td></tr>\n",
       "<tr><td class=\"mon\">22</td><td class=\"tue\">23</td><td class=\"wed\">24</td><td class=\"thu\">25</td><td class=\"fri\">26</td><td class=\"sat\">27</td><td class=\"sun\">28</td></tr>\n",
       "<tr><td class=\"mon\">29</td><td class=\"tue\">30</td><td class=\"noday\">&nbsp;</td><td class=\"noday\">&nbsp;</td><td class=\"noday\">&nbsp;</td><td class=\"noday\">&nbsp;</td><td class=\"noday\">&nbsp;</td></tr>\n",
       "</table>\n",
       "</td><td><table border=\"0\" cellpadding=\"0\" cellspacing=\"0\" class=\"month\">\n",
       "<tr><th colspan=\"7\" class=\"month\">December</th></tr>\n",
       "<tr><th class=\"mon\">Mon</th><th class=\"tue\">Tue</th><th class=\"wed\">Wed</th><th class=\"thu\">Thu</th><th class=\"fri\">Fri</th><th class=\"sat\">Sat</th><th class=\"sun\">Sun</th></tr>\n",
       "<tr><td class=\"noday\">&nbsp;</td><td class=\"noday\">&nbsp;</td><td class=\"wed\">1</td><td class=\"thu\">2</td><td class=\"fri\">3</td><td class=\"sat\">4</td><td class=\"sun\">5</td></tr>\n",
       "<tr><td class=\"mon\">6</td><td class=\"tue\">7</td><td class=\"wed\">8</td><td class=\"thu\">9</td><td class=\"fri\">10</td><td class=\"sat\">11</td><td class=\"sun\">12</td></tr>\n",
       "<tr><td class=\"mon\">13</td><td class=\"tue\">14</td><td class=\"wed\">15</td><td class=\"thu\">16</td><td class=\"fri\">17</td><td class=\"sat\">18</td><td class=\"sun\">19</td></tr>\n",
       "<tr><td class=\"mon\">20</td><td class=\"tue\">21</td><td class=\"wed\">22</td><td class=\"thu\">23</td><td class=\"fri\">24</td><td class=\"sat\">25</td><td class=\"sun\">26</td></tr>\n",
       "<tr><td class=\"mon\">27</td><td class=\"tue\">28</td><td class=\"wed\">29</td><td class=\"thu\">30</td><td class=\"fri\">31</td><td class=\"noday\">&nbsp;</td><td class=\"noday\">&nbsp;</td></tr>\n",
       "</table>\n",
       "</td></tr></table>\n"
      ],
      "text/plain": [
       "<IPython.core.display.HTML object>"
      ]
     },
     "execution_count": 216,
     "metadata": {},
     "output_type": "execute_result"
    }
   ],
   "source": [
    "from IPython.display import HTML\n",
    "HTML(filename=\"calendar.html\")"
   ]
  },
  {
   "cell_type": "code",
   "execution_count": 217,
   "metadata": {},
   "outputs": [],
   "source": [
    "if os.path.exists('calendar.html'):\n",
    "    os.remove('calendar.html')"
   ]
  },
  {
   "cell_type": "markdown",
   "metadata": {},
   "source": [
    "#### Первый день недели"
   ]
  },
  {
   "cell_type": "code",
   "execution_count": 218,
   "metadata": {},
   "outputs": [
    {
     "data": {
      "text/plain": [
       "0"
      ]
     },
     "execution_count": 218,
     "metadata": {},
     "output_type": "execute_result"
    }
   ],
   "source": [
    "calendar.firstweekday()"
   ]
  },
  {
   "cell_type": "markdown",
   "metadata": {},
   "source": [
    "#### Проверка високосности года"
   ]
  },
  {
   "cell_type": "code",
   "execution_count": 219,
   "metadata": {},
   "outputs": [
    {
     "data": {
      "text/plain": [
       "True"
      ]
     },
     "execution_count": 219,
     "metadata": {},
     "output_type": "execute_result"
    }
   ],
   "source": [
    "calendar.isleap(2020)"
   ]
  },
  {
   "cell_type": "markdown",
   "metadata": {},
   "source": [
    "#### Количество дней в месяце"
   ]
  },
  {
   "cell_type": "code",
   "execution_count": 220,
   "metadata": {},
   "outputs": [
    {
     "data": {
      "text/plain": [
       "(3, 30)"
      ]
     },
     "execution_count": 220,
     "metadata": {},
     "output_type": "execute_result"
    }
   ],
   "source": [
    "calendar.monthrange(2021, 4)"
   ]
  },
  {
   "cell_type": "markdown",
   "metadata": {},
   "source": [
    "<a href='#toc'>Назад к Оглавлению</a>"
   ]
  },
  {
   "cell_type": "markdown",
   "metadata": {},
   "source": [
    "# Работа с сетью <a name='network'></a>"
   ]
  },
  {
   "cell_type": "markdown",
   "metadata": {},
   "source": [
    "#### Создать TCP сокет"
   ]
  },
  {
   "cell_type": "code",
   "execution_count": 221,
   "metadata": {},
   "outputs": [],
   "source": [
    "import socket"
   ]
  },
  {
   "cell_type": "markdown",
   "metadata": {},
   "source": [
    "server_socket = socket.socket(socket.AF_INET, socket.SOCK_STREAM)\n",
    "server_socket.setsockopt(socket.SOL_SOCKET, socket.SO_REUSEADDR, 1)\n",
    "server_socket.bind(('127.0.0.1', 5001))\n",
    "server_socket.listen()\n",
    "while True:\n",
    "    client_socket, addr = server_socket.accept()\n",
    "    print(\"Received connection from {}\".format(addr))\n",
    "    while True:\n",
    "        request = client_socket.recv(1024)\n",
    "        if request:\n",
    "            print(\"Received data: {}\".format(request))\n",
    "            client_socket.send(b\"Hi! I just receive a message from you.\\n\")\n",
    "        else:\n",
    "            break"
   ]
  },
  {
   "cell_type": "markdown",
   "metadata": {},
   "source": [
    "remote_socket = socket.socket(socket.AF_INET, socket.SOCK_STREAM)\n",
    "remote_socket.connect('127.0.0.1',5001)"
   ]
  },
  {
   "cell_type": "markdown",
   "metadata": {},
   "source": [
    "<a href='#toc'>Назад к Оглавлению</a>"
   ]
  },
  {
   "cell_type": "markdown",
   "metadata": {},
   "source": [
    "# Магические команды <a name='magic'></a>"
   ]
  },
  {
   "cell_type": "markdown",
   "metadata": {},
   "source": [
    "Команды, привязанные к строке, начинаются с %. Команды, привязанные к ячейке, начинаются с %%."
   ]
  },
  {
   "cell_type": "markdown",
   "metadata": {},
   "source": [
    "#### Список всех магических команд"
   ]
  },
  {
   "cell_type": "code",
   "execution_count": 222,
   "metadata": {},
   "outputs": [
    {
     "data": {
      "application/json": {
       "cell": {
        "!": "OSMagics",
        "HTML": "Other",
        "SVG": "Other",
        "bash": "Other",
        "capture": "ExecutionMagics",
        "debug": "ExecutionMagics",
        "file": "Other",
        "html": "DisplayMagics",
        "javascript": "DisplayMagics",
        "js": "DisplayMagics",
        "latex": "DisplayMagics",
        "markdown": "DisplayMagics",
        "perl": "Other",
        "prun": "ExecutionMagics",
        "pypy": "Other",
        "python": "Other",
        "python2": "Other",
        "python3": "Other",
        "ruby": "Other",
        "script": "ScriptMagics",
        "sh": "Other",
        "svg": "DisplayMagics",
        "sx": "OSMagics",
        "system": "OSMagics",
        "time": "ExecutionMagics",
        "timeit": "ExecutionMagics",
        "writefile": "OSMagics"
       },
       "line": {
        "alias": "OSMagics",
        "alias_magic": "BasicMagics",
        "autoawait": "AsyncMagics",
        "autocall": "AutoMagics",
        "automagic": "AutoMagics",
        "autosave": "KernelMagics",
        "bookmark": "OSMagics",
        "cat": "Other",
        "cd": "OSMagics",
        "clear": "KernelMagics",
        "colors": "BasicMagics",
        "conda": "PackagingMagics",
        "config": "ConfigMagics",
        "connect_info": "KernelMagics",
        "cp": "Other",
        "debug": "ExecutionMagics",
        "dhist": "OSMagics",
        "dirs": "OSMagics",
        "doctest_mode": "BasicMagics",
        "ed": "Other",
        "edit": "KernelMagics",
        "env": "OSMagics",
        "gui": "BasicMagics",
        "hist": "Other",
        "history": "HistoryMagics",
        "killbgscripts": "ScriptMagics",
        "ldir": "Other",
        "less": "KernelMagics",
        "lf": "Other",
        "lk": "Other",
        "ll": "Other",
        "load": "CodeMagics",
        "load_ext": "ExtensionMagics",
        "loadpy": "CodeMagics",
        "logoff": "LoggingMagics",
        "logon": "LoggingMagics",
        "logstart": "LoggingMagics",
        "logstate": "LoggingMagics",
        "logstop": "LoggingMagics",
        "ls": "Other",
        "lsmagic": "BasicMagics",
        "lx": "Other",
        "macro": "ExecutionMagics",
        "magic": "BasicMagics",
        "man": "KernelMagics",
        "matplotlib": "PylabMagics",
        "mkdir": "Other",
        "more": "KernelMagics",
        "mv": "Other",
        "notebook": "BasicMagics",
        "page": "BasicMagics",
        "pastebin": "CodeMagics",
        "pdb": "ExecutionMagics",
        "pdef": "NamespaceMagics",
        "pdoc": "NamespaceMagics",
        "pfile": "NamespaceMagics",
        "pinfo": "NamespaceMagics",
        "pinfo2": "NamespaceMagics",
        "pip": "PackagingMagics",
        "popd": "OSMagics",
        "pprint": "BasicMagics",
        "precision": "BasicMagics",
        "prun": "ExecutionMagics",
        "psearch": "NamespaceMagics",
        "psource": "NamespaceMagics",
        "pushd": "OSMagics",
        "pwd": "OSMagics",
        "pycat": "OSMagics",
        "pylab": "PylabMagics",
        "qtconsole": "KernelMagics",
        "quickref": "BasicMagics",
        "recall": "HistoryMagics",
        "rehashx": "OSMagics",
        "reload_ext": "ExtensionMagics",
        "rep": "Other",
        "rerun": "HistoryMagics",
        "reset": "NamespaceMagics",
        "reset_selective": "NamespaceMagics",
        "rm": "Other",
        "rmdir": "Other",
        "run": "ExecutionMagics",
        "save": "CodeMagics",
        "sc": "OSMagics",
        "set_env": "OSMagics",
        "store": "StoreMagics",
        "sx": "OSMagics",
        "system": "OSMagics",
        "tb": "ExecutionMagics",
        "time": "ExecutionMagics",
        "timeit": "ExecutionMagics",
        "unalias": "OSMagics",
        "unload_ext": "ExtensionMagics",
        "who": "NamespaceMagics",
        "who_ls": "NamespaceMagics",
        "whos": "NamespaceMagics",
        "xdel": "NamespaceMagics",
        "xmode": "BasicMagics"
       }
      },
      "text/plain": [
       "Available line magics:\n",
       "%alias  %alias_magic  %autoawait  %autocall  %automagic  %autosave  %bookmark  %cat  %cd  %clear  %colors  %conda  %config  %connect_info  %cp  %debug  %dhist  %dirs  %doctest_mode  %ed  %edit  %env  %gui  %hist  %history  %killbgscripts  %ldir  %less  %lf  %lk  %ll  %load  %load_ext  %loadpy  %logoff  %logon  %logstart  %logstate  %logstop  %ls  %lsmagic  %lx  %macro  %magic  %man  %matplotlib  %mkdir  %more  %mv  %notebook  %page  %pastebin  %pdb  %pdef  %pdoc  %pfile  %pinfo  %pinfo2  %pip  %popd  %pprint  %precision  %prun  %psearch  %psource  %pushd  %pwd  %pycat  %pylab  %qtconsole  %quickref  %recall  %rehashx  %reload_ext  %rep  %rerun  %reset  %reset_selective  %rm  %rmdir  %run  %save  %sc  %set_env  %store  %sx  %system  %tb  %time  %timeit  %unalias  %unload_ext  %who  %who_ls  %whos  %xdel  %xmode\n",
       "\n",
       "Available cell magics:\n",
       "%%!  %%HTML  %%SVG  %%bash  %%capture  %%debug  %%file  %%html  %%javascript  %%js  %%latex  %%markdown  %%perl  %%prun  %%pypy  %%python  %%python2  %%python3  %%ruby  %%script  %%sh  %%svg  %%sx  %%system  %%time  %%timeit  %%writefile\n",
       "\n",
       "Automagic is ON, % prefix IS NOT needed for line magics."
      ]
     },
     "execution_count": 222,
     "metadata": {},
     "output_type": "execute_result"
    }
   ],
   "source": [
    "%lsmagic"
   ]
  },
  {
   "cell_type": "markdown",
   "metadata": {},
   "source": [
    "#### Выполнение скрипта из внешнего файла"
   ]
  },
  {
   "cell_type": "code",
   "execution_count": 223,
   "metadata": {},
   "outputs": [
    {
     "name": "stdout",
     "output_type": "stream",
     "text": [
      "Hello\n"
     ]
    }
   ],
   "source": [
    "with open('script.py', 'w') as f:\n",
    "    f.write(\"print('Hello')\")\n",
    "f.close()\n",
    "%run script.py"
   ]
  },
  {
   "cell_type": "markdown",
   "metadata": {},
   "source": [
    "#### Оценка времени выполнения строки кода"
   ]
  },
  {
   "cell_type": "code",
   "execution_count": 224,
   "metadata": {},
   "outputs": [
    {
     "name": "stdout",
     "output_type": "stream",
     "text": [
      "CPU times: user 25.3 ms, sys: 11 µs, total: 25.3 ms\n",
      "Wall time: 25.2 ms\n"
     ]
    },
    {
     "data": {
      "text/plain": [
       "166661666708333333332500000000"
      ]
     },
     "execution_count": 224,
     "metadata": {},
     "output_type": "execute_result"
    }
   ],
   "source": [
    "%time sum([i**5 for i in range(100000)])"
   ]
  },
  {
   "cell_type": "code",
   "execution_count": 225,
   "metadata": {},
   "outputs": [
    {
     "name": "stdout",
     "output_type": "stream",
     "text": [
      "30.9 ms ± 40.9 µs per loop (mean ± std. dev. of 7 runs, 10 loops each)\n"
     ]
    }
   ],
   "source": [
    "%timeit 7 in [i**5 for i in range(100000)]"
   ]
  },
  {
   "cell_type": "code",
   "execution_count": 226,
   "metadata": {},
   "outputs": [
    {
     "name": "stdout",
     "output_type": "stream",
     "text": [
      "878 µs ± 16 µs per loop (mean ± std. dev. of 7 runs, 1000 loops each)\n"
     ]
    }
   ],
   "source": [
    "a = np.array([i**5 for i in range(100000)])\n",
    "%timeit 7 in a"
   ]
  },
  {
   "cell_type": "markdown",
   "metadata": {},
   "source": [
    "#### Оценка времени выполнения кода в ячейке"
   ]
  },
  {
   "cell_type": "code",
   "execution_count": 227,
   "metadata": {},
   "outputs": [
    {
     "name": "stdout",
     "output_type": "stream",
     "text": [
      "333332833333500000\n",
      "CPU times: user 164 ms, sys: 20.2 ms, total: 185 ms\n",
      "Wall time: 183 ms\n"
     ]
    }
   ],
   "source": [
    "%%time\n",
    "s = 0\n",
    "a = [i for i in range(1000000)]\n",
    "b = [i for i in range(1000000)]\n",
    "for i in range(len(a)):\n",
    "    s += a[i]*b[i]\n",
    "print(s)    "
   ]
  },
  {
   "cell_type": "markdown",
   "metadata": {},
   "source": [
    "#### Запись в файл"
   ]
  },
  {
   "cell_type": "code",
   "execution_count": 228,
   "metadata": {},
   "outputs": [
    {
     "name": "stdout",
     "output_type": "stream",
     "text": [
      "Overwriting script.py\n"
     ]
    }
   ],
   "source": [
    "%%writefile script.py\n",
    "\n",
    "def f(a):\n",
    "    print(a**2)\n",
    "f(2)"
   ]
  },
  {
   "cell_type": "code",
   "execution_count": 229,
   "metadata": {},
   "outputs": [
    {
     "name": "stdout",
     "output_type": "stream",
     "text": [
      "4\n"
     ]
    }
   ],
   "source": [
    "%run script.py"
   ]
  },
  {
   "cell_type": "markdown",
   "metadata": {},
   "source": [
    "#### Просмотр содержимого файла"
   ]
  },
  {
   "cell_type": "code",
   "execution_count": 230,
   "metadata": {},
   "outputs": [],
   "source": [
    "%pycat script.py"
   ]
  },
  {
   "cell_type": "markdown",
   "metadata": {},
   "source": [
    "#### Получение информации обо всех используемых глобальных переменных"
   ]
  },
  {
   "cell_type": "code",
   "execution_count": 231,
   "metadata": {},
   "outputs": [
    {
     "name": "stdout",
     "output_type": "stream",
     "text": [
      "A\t B\t C\t Counter\t D\t HTML\t MyException\t MySet\t OrderedDict\t \n",
      "SLICE\t a\t acos\t acosh\t age\t asin\t asinh\t atan\t atan2\t \n",
      "atanh\t b\t c\t c1\t calendar\t ceil\t cleaned_tokens\t comb\t copysign\t \n",
      "cos\t cosh\t d\t d1\t d2\t data\t dd_int\t dd_list\t defaultdict\t \n",
      "degrees\t deque\t dist\t e\t elem\t erf\t erfc\t exp\t expm1\t \n",
      "f\t f1\t f2\t fDecorator\t fSquare\t fSum\t fSum1\t f_hardworking_slave\t f_lazy_slave\t \n",
      "f_master\t fabs\t factorial\t floor\t fmod\t frexp\t fs\t fsum\t g\t \n",
      "g1\t g2\t gamma\t gcd\t gen1\t gen2\t gen3\t gen4\t gen5\t \n",
      "gen6\t gen7\t he\t hello\t hypot\t i\t ifEven\t inf\t info\t \n",
      "inspect\t isclose\t isfinite\t isinf\t isnan\t isqrt\t j\t json\t l\t \n",
      "lcm\t ldexp\t lgamma\t log\t log10\t log1p\t log2\t m\t main\t \n",
      "makebold\t makeitalic\t me\t modf\t multiprocessing\t myDecorator\t nan\t nextafter\t np\t \n",
      "os\t page\t partial\t perm\t person\t pi\t pickle\t plt\t pow\t \n",
      "prod\t r\t radians\t re\t reduce\t remainder\t row\t s\t s1\t \n",
      "s2\t s3\t s4\t s5\t s6\t sin\t sinh\t socket\t sqrt\t \n",
      "sys\t tan\t tanh\t task\t tasks\t tau\t text\t tic\t time\t \n",
      "toc\t token\t tokens\t tokens_counter\t trunc\t ulp\t urllib\t v\t v1\t \n",
      "v2\t warnings\t x\t y\t предложение\t \n"
     ]
    }
   ],
   "source": [
    "%who"
   ]
  },
  {
   "cell_type": "code",
   "execution_count": 232,
   "metadata": {},
   "outputs": [
    {
     "name": "stdout",
     "output_type": "stream",
     "text": [
      "info\t text\t token\t предложение\t \n"
     ]
    }
   ],
   "source": [
    "%who str"
   ]
  },
  {
   "cell_type": "code",
   "execution_count": 233,
   "metadata": {},
   "outputs": [
    {
     "name": "stdout",
     "output_type": "stream",
     "text": [
      "age\t elem\t i\t j\t r\t s\t v\t v1\t v2\t \n",
      "\n"
     ]
    }
   ],
   "source": [
    "%who int"
   ]
  },
  {
   "cell_type": "code",
   "execution_count": 234,
   "metadata": {},
   "outputs": [
    {
     "name": "stdout",
     "output_type": "stream",
     "text": [
      "e\t inf\t nan\t pi\t s2\t tau\t tic\t toc\t x\t \n",
      "y\t \n"
     ]
    }
   ],
   "source": [
    "%who float"
   ]
  },
  {
   "cell_type": "code",
   "execution_count": 235,
   "metadata": {},
   "outputs": [
    {
     "name": "stdout",
     "output_type": "stream",
     "text": [
      "a\t b\t cleaned_tokens\t data\t l\t m\t row\t tasks\t tokens\t \n",
      "\n"
     ]
    }
   ],
   "source": [
    "%who list"
   ]
  },
  {
   "cell_type": "code",
   "execution_count": 236,
   "metadata": {},
   "outputs": [
    {
     "name": "stdout",
     "output_type": "stream",
     "text": [
      "d1\t s1\t \n"
     ]
    }
   ],
   "source": [
    "%who dict"
   ]
  },
  {
   "cell_type": "code",
   "execution_count": 237,
   "metadata": {},
   "outputs": [
    {
     "name": "stdout",
     "output_type": "stream",
     "text": [
      "f\t f1\t f2\t fDecorator\t fSquare\t fSum\t f_hardworking_slave\t f_lazy_slave\t f_master\t \n",
      "gen1\t gen2\t gen3\t gen4\t gen5\t gen6\t gen7\t hello\t ifEven\t \n",
      "main\t makebold\t makeitalic\t myDecorator\t \n"
     ]
    }
   ],
   "source": [
    "%who function"
   ]
  },
  {
   "cell_type": "markdown",
   "metadata": {},
   "source": [
    "#### Использование html кода в блокноте"
   ]
  },
  {
   "cell_type": "code",
   "execution_count": 238,
   "metadata": {},
   "outputs": [
    {
     "data": {
      "text/html": [
       "\n",
       "<h1>Таблица с информацией</h1>\n",
       "<table>\n",
       "<tr>\n",
       "    <td>A</td> <td>B</td>\n",
       "</tr>\n",
       "<tr>\n",
       "    <td>C</td> <td>D</td>\n",
       "</tr>\n",
       "</table>\n"
      ],
      "text/plain": [
       "<IPython.core.display.HTML object>"
      ]
     },
     "metadata": {},
     "output_type": "display_data"
    }
   ],
   "source": [
    "%%html\n",
    "\n",
    "<h1>Таблица с информацией</h1>\n",
    "<table>\n",
    "<tr>\n",
    "    <td>A</td> <td>B</td>\n",
    "</tr>\n",
    "<tr>\n",
    "    <td>C</td> <td>D</td>\n",
    "</tr>\n",
    "</table>"
   ]
  },
  {
   "cell_type": "markdown",
   "metadata": {},
   "source": [
    "#### Работа с matplotlib в блокноте"
   ]
  },
  {
   "cell_type": "markdown",
   "metadata": {},
   "source": [
    "Доступные backend"
   ]
  },
  {
   "cell_type": "code",
   "execution_count": 239,
   "metadata": {},
   "outputs": [
    {
     "name": "stdout",
     "output_type": "stream",
     "text": [
      "Available matplotlib backends: ['tk', 'gtk', 'gtk3', 'wx', 'qt4', 'qt5', 'qt', 'osx', 'nbagg', 'notebook', 'agg', 'svg', 'pdf', 'ps', 'inline', 'ipympl', 'widget']\n"
     ]
    }
   ],
   "source": [
    "%matplotlib --list"
   ]
  },
  {
   "cell_type": "code",
   "execution_count": 240,
   "metadata": {},
   "outputs": [],
   "source": [
    "import matplotlib.pyplot as plt\n",
    "%matplotlib inline"
   ]
  },
  {
   "cell_type": "code",
   "execution_count": 241,
   "metadata": {},
   "outputs": [
    {
     "data": {
      "text/plain": [
       "<matplotlib.collections.PathCollection at 0x7fc7eb72ebe0>"
      ]
     },
     "execution_count": 241,
     "metadata": {},
     "output_type": "execute_result"
    },
    {
     "data": {
      "image/png": "[encoded data removed]",
      "text/plain": [
       "<Figure size 432x288 with 1 Axes>"
      ]
     },
     "metadata": {
      "needs_background": "light"
     },
     "output_type": "display_data"
    }
   ],
   "source": [
    "plt.scatter([1,2,3], [1,2,3])"
   ]
  },
  {
   "cell_type": "markdown",
   "metadata": {},
   "source": [
    "#### Переменные среды"
   ]
  },
  {
   "cell_type": "code",
   "execution_count": 242,
   "metadata": {},
   "outputs": [
    {
     "data": {
      "text/plain": [
       "'/usr/local/sbin:/usr/local/bin:/usr/sbin:/usr/bin:/sbin:/bin'"
      ]
     },
     "execution_count": 242,
     "metadata": {},
     "output_type": "execute_result"
    }
   ],
   "source": [
    "%env PATH"
   ]
  },
  {
   "cell_type": "markdown",
   "metadata": {},
   "source": [
    "#### Получение подробной информации об объекте"
   ]
  },
  {
   "cell_type": "code",
   "execution_count": 243,
   "metadata": {},
   "outputs": [],
   "source": [
    "a = [1, 2, 3]\n",
    "%pinfo a"
   ]
  },
  {
   "cell_type": "markdown",
   "metadata": {},
   "source": [
    "<a href='#toc'>Назад к Оглавлению</a>"
   ]
  },
  {
   "cell_type": "markdown",
   "metadata": {},
   "source": [
    "# Трюки Python <a name='tricks'></a>"
   ]
  },
  {
   "cell_type": "markdown",
   "metadata": {},
   "source": [
    "#### Выполнение строки как команды"
   ]
  },
  {
   "cell_type": "code",
   "execution_count": 244,
   "metadata": {},
   "outputs": [
    {
     "name": "stdout",
     "output_type": "stream",
     "text": [
      "0\n",
      "1\n",
      "4\n"
     ]
    }
   ],
   "source": [
    "for i in range(3):\n",
    "    exec(\"print({}**2)\".format(i))"
   ]
  },
  {
   "cell_type": "markdown",
   "metadata": {},
   "source": [
    "#### Распаковка итерируемого объекта переменной длины"
   ]
  },
  {
   "cell_type": "code",
   "execution_count": 245,
   "metadata": {},
   "outputs": [],
   "source": [
    "s = ['Ivan', 'Ivanov', 'Ivanov@mail.com', '+7111111111', '+7211111111']"
   ]
  },
  {
   "cell_type": "code",
   "execution_count": 246,
   "metadata": {},
   "outputs": [],
   "source": [
    "name, surname, email, *phones = s"
   ]
  },
  {
   "cell_type": "code",
   "execution_count": 247,
   "metadata": {},
   "outputs": [
    {
     "name": "stdout",
     "output_type": "stream",
     "text": [
      "Ivan\n"
     ]
    }
   ],
   "source": [
    "print(name)"
   ]
  },
  {
   "cell_type": "code",
   "execution_count": 248,
   "metadata": {},
   "outputs": [
    {
     "name": "stdout",
     "output_type": "stream",
     "text": [
      "['+7111111111', '+7211111111']\n"
     ]
    }
   ],
   "source": [
    "print(phones)"
   ]
  },
  {
   "cell_type": "markdown",
   "metadata": {},
   "source": [
    "#### Вывести n наибольших и наименьших элементов списка"
   ]
  },
  {
   "cell_type": "code",
   "execution_count": 249,
   "metadata": {},
   "outputs": [],
   "source": [
    "import heapq"
   ]
  },
  {
   "cell_type": "code",
   "execution_count": 250,
   "metadata": {},
   "outputs": [
    {
     "name": "stdout",
     "output_type": "stream",
     "text": [
      "[0, 8, 0, 0, 4, -10, 1, -5, 5, 6]\n"
     ]
    }
   ],
   "source": [
    "a = [np.random.randint(-10,10) for _ in range(10)]\n",
    "print(a)"
   ]
  },
  {
   "cell_type": "code",
   "execution_count": 251,
   "metadata": {},
   "outputs": [
    {
     "name": "stdout",
     "output_type": "stream",
     "text": [
      "[8, 6, 5]\n",
      "[-10, -5, 0]\n",
      "[-10, 8, 6]\n"
     ]
    }
   ],
   "source": [
    "print(heapq.nlargest(3,a))\n",
    "print(heapq.nsmallest(3,a))\n",
    "print(heapq.nlargest(3,a,key=lambda x:x**2))"
   ]
  },
  {
   "cell_type": "code",
   "execution_count": 252,
   "metadata": {},
   "outputs": [
    {
     "name": "stdout",
     "output_type": "stream",
     "text": [
      "[-10, -5, 0, 0, 4, 0, 1, 8, 5, 6]\n"
     ]
    }
   ],
   "source": [
    "heapq.heapify(a)\n",
    "print(a)"
   ]
  },
  {
   "cell_type": "code",
   "execution_count": 253,
   "metadata": {},
   "outputs": [
    {
     "name": "stdout",
     "output_type": "stream",
     "text": [
      "-10\n",
      "[-5, 0, 0, 5, 4, 0, 1, 8, 6]\n"
     ]
    }
   ],
   "source": [
    "d = heapq.heappop(a)\n",
    "print(d)\n",
    "print(a)"
   ]
  },
  {
   "cell_type": "markdown",
   "metadata": {},
   "source": [
    "#### Создать класс, упорядочивающий элементы (объекты) по приоритету (поле объекта)"
   ]
  },
  {
   "cell_type": "code",
   "execution_count": 254,
   "metadata": {},
   "outputs": [],
   "source": [
    "class PriorityQueue:\n",
    "    def __init__(self):\n",
    "        self._queue = []\n",
    "        self._index = 0\n",
    "    def fAddItem(self,item,priority):\n",
    "        heapq.heappush(self._queue,(-priority, self._index, item))\n",
    "        self._index += 1\n",
    "    def fGetItem(self):\n",
    "        return heapq.heappop(self._queue)"
   ]
  },
  {
   "cell_type": "code",
   "execution_count": 255,
   "metadata": {},
   "outputs": [],
   "source": [
    "class Item:   \n",
    "    def __init__(self, name):\n",
    "        self.name = name\n",
    "    def __repr__(self):\n",
    "        return \"Item: name {!r}\".format(self.name)"
   ]
  },
  {
   "cell_type": "code",
   "execution_count": 256,
   "metadata": {},
   "outputs": [],
   "source": [
    "q = PriorityQueue()\n",
    "q.fAddItem(Item(\"Ivan\"),1)\n",
    "q.fAddItem(Item(\"Petr\"),20)\n",
    "q.fAddItem(Item(\"Yury\"),3)"
   ]
  },
  {
   "cell_type": "code",
   "execution_count": 257,
   "metadata": {},
   "outputs": [
    {
     "name": "stdout",
     "output_type": "stream",
     "text": [
      "(-20, 1, Item: name 'Petr')\n",
      "(-3, 2, Item: name 'Yury')\n"
     ]
    }
   ],
   "source": [
    "print(q.fGetItem())\n",
    "print(q.fGetItem())"
   ]
  },
  {
   "cell_type": "markdown",
   "metadata": {},
   "source": [
    "#### Создать словарь, в котором по одному ключу находятся несколько элкментов."
   ]
  },
  {
   "cell_type": "code",
   "execution_count": 258,
   "metadata": {},
   "outputs": [
    {
     "name": "stdout",
     "output_type": "stream",
     "text": [
      "defaultdict(<class 'list'>, {'a': [1]})\n",
      "defaultdict(<class 'list'>, {'a': [1], 'b': [2]})\n",
      "defaultdict(<class 'list'>, {'a': [1], 'b': [2, 3]})\n"
     ]
    }
   ],
   "source": [
    "d = defaultdict(list)\n",
    "d['a'].append(1)\n",
    "print(d)\n",
    "d['b'].append(2)\n",
    "print(d)\n",
    "d['b'].append(3)\n",
    "print(d)"
   ]
  },
  {
   "cell_type": "markdown",
   "metadata": {},
   "source": [
    "#### В словаре найти пару \"ключ\"-\"значение\" с наименьшим значением"
   ]
  },
  {
   "cell_type": "code",
   "execution_count": 259,
   "metadata": {},
   "outputs": [
    {
     "name": "stdout",
     "output_type": "stream",
     "text": [
      "{'a': 1, 'b': 12, 'c': -1}\n"
     ]
    }
   ],
   "source": [
    "s = {\n",
    "    \"a\": 1,\n",
    "    \"b\": 12,\n",
    "    \"c\": -1\n",
    "}\n",
    "print(s)"
   ]
  },
  {
   "cell_type": "code",
   "execution_count": 260,
   "metadata": {},
   "outputs": [
    {
     "name": "stdout",
     "output_type": "stream",
     "text": [
      "c\n",
      "-1\n"
     ]
    }
   ],
   "source": [
    "print(min(s,key=lambda k: s[k]))\n",
    "print(s[min(s,key=lambda k: s[k])])"
   ]
  },
  {
   "cell_type": "code",
   "execution_count": 261,
   "metadata": {},
   "outputs": [
    {
     "name": "stdout",
     "output_type": "stream",
     "text": [
      "(1, 'a')\n",
      "(12, 'b')\n",
      "(-1, 'c')\n",
      "----\n",
      "(-1, 'c')\n",
      "(12, 'b')\n"
     ]
    }
   ],
   "source": [
    "for elem in zip(s.values(),s.keys()):\n",
    "    print(elem)\n",
    "print('-'*4)\n",
    "print(min(zip(s.values(),s.keys())))\n",
    "print(max(zip(s.values(),s.keys())))"
   ]
  },
  {
   "cell_type": "markdown",
   "metadata": {},
   "source": [
    "#### У двух словарей найти общие ключи и значения"
   ]
  },
  {
   "cell_type": "code",
   "execution_count": 262,
   "metadata": {},
   "outputs": [],
   "source": [
    "s1 = {\"a\": 1, \"b\": 12, \"c\": -1}\n",
    "s2 = {\"a\": 1, \"d\": 3,  \"e\": -1}"
   ]
  },
  {
   "cell_type": "code",
   "execution_count": 263,
   "metadata": {},
   "outputs": [
    {
     "name": "stdout",
     "output_type": "stream",
     "text": [
      "{'a'}\n",
      "{'b', 'c'}\n",
      "{'d', 'e'}\n",
      "{('a', 1)}\n"
     ]
    }
   ],
   "source": [
    "print(s1.keys() & s2.keys())\n",
    "print(s1.keys() - s2.keys())\n",
    "print(s2.keys() - s1.keys())\n",
    "print(s1.items() & s2.items())"
   ]
  },
  {
   "cell_type": "markdown",
   "metadata": {},
   "source": [
    "#### Создать новый словарь на основе старого из которого удалить элементы с определенными ключами"
   ]
  },
  {
   "cell_type": "code",
   "execution_count": 264,
   "metadata": {},
   "outputs": [
    {
     "name": "stdout",
     "output_type": "stream",
     "text": [
      "{'a': 1, 'b': 12, 'c': -1}\n"
     ]
    }
   ],
   "source": [
    "print(s1)"
   ]
  },
  {
   "cell_type": "code",
   "execution_count": 265,
   "metadata": {},
   "outputs": [
    {
     "name": "stdout",
     "output_type": "stream",
     "text": [
      "{'c': -1}\n"
     ]
    }
   ],
   "source": [
    "s3 = {k: s1[k] for k in s1.keys() - {'a','b'}}\n",
    "print(s3)"
   ]
  },
  {
   "cell_type": "markdown",
   "metadata": {},
   "source": [
    "#### Удалить повторяющиеся элементы из хэшируемого и нехэшируемого типа"
   ]
  },
  {
   "cell_type": "code",
   "execution_count": 266,
   "metadata": {},
   "outputs": [],
   "source": [
    "def fDelDuplicate(items, key=None):\n",
    "    seen = set()\n",
    "    for item in items:\n",
    "        val = item if key is None else key(item)\n",
    "        if val not in seen:\n",
    "            yield item\n",
    "            seen.add(val)"
   ]
  },
  {
   "cell_type": "code",
   "execution_count": 267,
   "metadata": {},
   "outputs": [
    {
     "name": "stdout",
     "output_type": "stream",
     "text": [
      "{1, 2, -3, -1}\n",
      "[1, 2, -3, -1]\n"
     ]
    }
   ],
   "source": [
    "a = [1,2,-3,1,2,-1]\n",
    "print(set(a))\n",
    "print(list(fDelDuplicate(a)))"
   ]
  },
  {
   "cell_type": "code",
   "execution_count": 268,
   "metadata": {},
   "outputs": [
    {
     "name": "stdout",
     "output_type": "stream",
     "text": [
      "[{'name': 'Ivan', 'age': 20}, {'name': 'Ivan', 'age': 20}, {'name': 'Ivan', 'age': 30}, {'name': 'Petr', 'age': 30}]\n",
      "[{'name': 'Ivan', 'age': 20}, {'name': 'Ivan', 'age': 30}, {'name': 'Petr', 'age': 30}]\n",
      "[{'name': 'Ivan', 'age': 20}, {'name': 'Petr', 'age': 30}]\n",
      "[{'name': 'Ivan', 'age': 20}, {'name': 'Ivan', 'age': 30}]\n"
     ]
    }
   ],
   "source": [
    "s = [{'name':'Ivan', 'age': 20}, {'name':'Ivan', 'age': 20}, {'name':'Ivan', 'age': 30},{'name':'Petr', 'age': 30}]\n",
    "print(s)\n",
    "print(list(fDelDuplicate(s,key=lambda t: (t['name'], t['age']))))\n",
    "print(list(fDelDuplicate(s,key=lambda t: t['name'])))\n",
    "print(list(fDelDuplicate(s,key=lambda t: t['age'])))"
   ]
  },
  {
   "cell_type": "markdown",
   "metadata": {},
   "source": [
    "#### Создать древовидную структуру и пройти по ее узлам поиском в глубину"
   ]
  },
  {
   "cell_type": "code",
   "execution_count": 269,
   "metadata": {},
   "outputs": [],
   "source": [
    "class Node():\n",
    "    def __init__(self, value):\n",
    "        self._value = value\n",
    "        self._children = []\n",
    "    def __repr__(self):\n",
    "        return \"Node {!r}\".format(self._value)\n",
    "    def add_child(self, child_node):\n",
    "        self._children.append(child_node)\n",
    "    def __iter__(self):\n",
    "        return iter(self._children)\n",
    "    def depth(self):\n",
    "        yield self\n",
    "        for c in self:\n",
    "            yield from c.depth()"
   ]
  },
  {
   "cell_type": "code",
   "execution_count": 270,
   "metadata": {},
   "outputs": [
    {
     "name": "stdout",
     "output_type": "stream",
     "text": [
      "Node 0\n",
      "Node 1\n",
      "Node 11\n",
      "Node 2\n"
     ]
    }
   ],
   "source": [
    "root = Node(0)\n",
    "child1 = Node(1)\n",
    "child11 = Node(11)\n",
    "child2 = Node(2)\n",
    "root.add_child(child1)\n",
    "child1.add_child(child11)\n",
    "root.add_child(child2)\n",
    "for c in root.depth():\n",
    "    print(c)"
   ]
  },
  {
   "cell_type": "markdown",
   "metadata": {},
   "source": [
    "#### Сделать срез для генератора"
   ]
  },
  {
   "cell_type": "code",
   "execution_count": 271,
   "metadata": {},
   "outputs": [],
   "source": [
    "def gSquare(n):\n",
    "    for i in range(n):\n",
    "        yield i**2"
   ]
  },
  {
   "cell_type": "code",
   "execution_count": 272,
   "metadata": {},
   "outputs": [
    {
     "name": "stdout",
     "output_type": "stream",
     "text": [
      "0 1 4 9 16 25 36 49 64 81 100 121 144 169 196 225 256 289 324 361 400 441 484 529 576 625 676 729 784 841 900 961 1024 1089 1156 1225 1296 1369 1444 1521 1600 1681 1764 1849 1936 2025 2116 2209 2304 2401 2500 2601 2704 2809 2916 3025 3136 3249 3364 3481 3600 3721 3844 3969 4096 4225 4356 4489 4624 4761 4900 5041 5184 5329 5476 5625 5776 5929 6084 6241 6400 6561 6724 6889 7056 7225 7396 7569 7744 7921 8100 8281 8464 8649 8836 9025 9216 9409 9604 9801 "
     ]
    }
   ],
   "source": [
    "a = gSquare(100)\n",
    "for elem in a:\n",
    "    print(elem, end=\" \")"
   ]
  },
  {
   "cell_type": "code",
   "execution_count": 273,
   "metadata": {},
   "outputs": [],
   "source": [
    "import itertools"
   ]
  },
  {
   "cell_type": "code",
   "execution_count": 274,
   "metadata": {},
   "outputs": [
    {
     "name": "stdout",
     "output_type": "stream",
     "text": [
      "8100 8281 8464 8649 8836 9025 9216 9409 9604 9801 "
     ]
    }
   ],
   "source": [
    "a = gSquare(100)\n",
    "for elem in itertools.islice(a,90,100):\n",
    "    print(elem, end=\" \")"
   ]
  },
  {
   "cell_type": "markdown",
   "metadata": {},
   "source": [
    "<a href='#toc'>Назад к Оглавлению</a>"
   ]
  },
  {
   "cell_type": "markdown",
   "metadata": {},
   "source": [
    "# Полезные ссылки <a name='links'></a>"
   ]
  },
  {
   "cell_type": "markdown",
   "metadata": {},
   "source": [
    "- python.org\n",
    "\n",
    "- colab.research.google.com"
   ]
  },
  {
   "cell_type": "markdown",
   "metadata": {},
   "source": [
    "<a href='#toc'>Назад к Оглавлению</a>"
   ]
  }
 ],
 "metadata": {
  "kernelspec": {
   "display_name": "Python 3",
   "language": "python",
   "name": "python3"
  },
  "language_info": {
   "codemirror_mode": {
    "name": "ipython",
    "version": 3
   },
   "file_extension": ".py",
   "mimetype": "text/x-python",
   "name": "python",
   "nbconvert_exporter": "python",
   "pygments_lexer": "ipython3",
   "version": "3.9.2"
  }
 },
 "nbformat": 4,
 "nbformat_minor": 2
}
