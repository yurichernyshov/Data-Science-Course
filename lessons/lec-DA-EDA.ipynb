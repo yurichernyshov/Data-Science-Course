{
 "cells": [
  {
   "cell_type": "code",
   "execution_count": 65,
   "metadata": {
    "slideshow": {
     "slide_type": "skip"
    }
   },
   "outputs": [],
   "source": [
    "import os\n",
    "\n",
    "import numpy as np\n",
    "import pandas as pd\n",
    "from matplotlib import pyplot as plt\n",
    "import seaborn as sns\n",
    "\n",
    "from sklearn.model_selection import train_test_split\n",
    "from sklearn.preprocessing import MinMaxScaler, StandardScaler\n",
    "from sklearn.preprocessing import PolynomialFeatures\n",
    "\n",
    "from sklearn.linear_model import LinearRegression, LogisticRegression\n",
    "from sklearn.tree import DecisionTreeClassifier\n",
    "from sklearn.cluster import KMeans\n",
    "from sklearn.dummy import DummyClassifier, DummyRegressor\n",
    "\n",
    "from sklearn.pipeline import make_pipeline"
   ]
  },
  {
   "cell_type": "markdown",
   "metadata": {
    "slideshow": {
     "slide_type": "slide"
    }
   },
   "source": [
    "# Получение и первичное исследование данных (EDA, exploratory data analyze)\n",
    "\n",
    "<p>Курс \"Модели и методы интеллектуального анализа данных\"</p>\n",
    "<p>Чернышов Юрий</p>\n",
    "<p>к.ф.-м.н., доцент кафедры ИТЗИ УрГУПС (Екатеринбург)</p>\n",
    "<p>yuchernyshov@usurt.ru</p>\n",
    "<p>ychernyshov@ussc.ru</p>"
   ]
  },
  {
   "cell_type": "markdown",
   "metadata": {},
   "source": [
    "# Оглавление <a name='toc'></a>\n",
    "<ol>\n",
    "<li><a href='#intro'>Введение</a></li>\n",
    "<li><a href='#sources'>Источники данных</a></li>\n",
    "    <ol>\n",
    "        <li> <a href='#text_files'>Текстовые файлы (txt, csv, xml, json)</a> </li>\n",
    "        <li><a href='#api'>Открытые программные интерфейсы (API)</a></li>\n",
    "        <li><a href='#databases'>Базы данных</a></li>\n",
    "        <li><a href='#kaggle_datasets'>Датасеты kaggle</a></li>\n",
    "        <li><a href='#sklearn_datasets'>sklearn.datasets</a></li>\n",
    "        <li><a href='#cifar'>CIFAR</a></li>\n",
    "        <li><a href='#mnist'>MNIST</a></li>\n",
    "        <li><a href='#other'>Другие источники данных</a></li>\n",
    "    </ol>    \n",
    "<li><a href='#eda'>Этапы предварительного (разведочного) анализа данных</a>\n",
    "<ol>\n",
    "<li><a href='#first_look'>Предварительное изучение данных: правильность получения, природа, целостность, актуальность, адекватность</a>\n",
    "</li>\n",
    "<li><a href='#connections'>Выявление в данных взаимосвязей, кластеров</a></li>\n",
    "<li><a href='#anomaly'>Анализ аномалий - причина, повторяемость, угроза для выборки</a></li>\n",
    "<li><a href='#scale'>Шкалирование признаков</a></li>\n",
    "<li><a href='#importance'>Выявление наиболее актуальных параметров</a></li>\n",
    "<li><a href='#combination'>Комбинирование признаков</a></li>\n",
    "<li><a href='#gipotese'>Проверка основных гипотез</a></li>\n",
    "</ol>    \n",
    "<li><a href='#models'>Модели</a></li>\n",
    "    <ol>\n",
    "    <li><a href='#simple_models'>Разработка и применение начальных простых моделей</a></li>\n",
    "    <li><a href='#pipelines'>Построение конвейеров (pipelines)</a></li>\n",
    "    </ol>    \n",
    "<li><a href='#links'>Ссылки</a></li>\n",
    "</ol>"
   ]
  },
  {
   "cell_type": "markdown",
   "metadata": {
    "slideshow": {
     "slide_type": "slide"
    }
   },
   "source": [
    "# Введение <a name='intro'></a>\n",
    "\n",
    "Для работы с данными нужны сами данные :-) Большинство рабочего времени специалиста по работе с данными уходит на получение, очистку, преобразование, предварительное исследование данных. От качества этой предварительной работы зависит качество, скорость, результативность работы моделей, использующих данные. Исходные данные низкого качества не может исправить никакая модель машинного обучения (принцип garbage-in-garbage-out).\n",
    "\n",
    "Далее рассмотрены способы (источники) получения данных, этапы разведочного анализа данных (EDA), приведены примеры использования функций стандартных библиотек.\n",
    "\n",
    "Для начала практического изучения рассматриваемых вопросов можно воспользоваться ресурсом \"Google colab\" https://colab.research.google.com/\n",
    "\n",
    "Для удобства задачи разбиты на группы, к которым можно быстро перейти в <a href='#toc'>Оглавлении</a>."
   ]
  },
  {
   "cell_type": "markdown",
   "metadata": {
    "slideshow": {
     "slide_type": "slide"
    }
   },
   "source": [
    "Для работы с данными существуют различные возможности, от самых простых до сложных систем бизнес-аналитики (Business Intelligence, BI)\n",
    "- Excel, в т.ч. множество встроенных функций и возможность простого программирования с помощью макросов Visual Basic\n",
    "- различные математические пакеты программ: Statistica, MathCad, Maple,...\n",
    "- встроенные инструменты фреймворков (PostgreSQL, Oracle)\n",
    "- Python (pandas, matplotlib, numpy, sklearn, scipy и другие специализированные библиотеки)\n",
    "\n",
    "Мы будем рассматривать инструментарий python."
   ]
  },
  {
   "cell_type": "markdown",
   "metadata": {},
   "source": [
    "<a href='#toc'>Назад к Оглавлению</a>"
   ]
  },
  {
   "cell_type": "markdown",
   "metadata": {
    "slideshow": {
     "slide_type": "slide"
    }
   },
   "source": [
    "# Источники данных <a name='sources'></a>\n",
    "\n",
    "Самый нерациональный (но тем не менее часто применяющийся и в настоящее время) способ создания данных - ручное внесение информации (заполнение таблиц, создание отчетов, \"набивалки\"). Однако все чаще появляются проекты с автоматизированным и унифицированным способом сбора, хранения, преобразования данных (что гораздо эффективнее)."
   ]
  },
  {
   "cell_type": "markdown",
   "metadata": {
    "slideshow": {
     "slide_type": "fragment"
    }
   },
   "source": [
    "Некоторые стандартные источники данных:\n",
    "- текстовые файлы (txt, csv, xml, json и другие форматы)\n",
    "- API для доступа к вебсервисам (yandex, facebook, Twitter, социальные сети, ...)\n",
    "- базы данных\n",
    "- OLAP-кубы\n",
    "- результаты работы IoT устройств (датчики, счетчики)\n",
    "- данные систем мониторинга\n",
    "\n",
    "Кроме того, создано множество наборов данных (dataset), применяющихся как для обучения, так и для глобальных исследований\n",
    "- \"игрушечные\" датасеты sklearn.datasets\n",
    "- наборы данных на площадке соревнований по машинному обучению kaggle (kaggle.com)\n",
    "- наборы изображений MNIST, CIFAR\n",
    "\n",
    "Получение качественного набора данных часто еще более важная задача, чем построение модели машинного обучения. Такие данные представляют собой большую интеллектуальную ценность. В конкретных проектах таже необходимо учитывать законодательство - требования о защите персональных данных, коммерческой тайны и пр."
   ]
  },
  {
   "cell_type": "markdown",
   "metadata": {},
   "source": [
    "<a href='#toc'>Назад к Оглавлению</a>"
   ]
  },
  {
   "cell_type": "markdown",
   "metadata": {
    "slideshow": {
     "slide_type": "slide"
    }
   },
   "source": [
    "## Текстовые файлы (txt, csv, xml, json) <a name='text_files'></a>"
   ]
  },
  {
   "cell_type": "markdown",
   "metadata": {
    "slideshow": {
     "slide_type": "fragment"
    }
   },
   "source": [
    "При чтении и записи для текстового файла этот файл необходимо открыть в соответствующем режиме ('r' - read/чтение, 'w' - write/запись, 'a' - append/добавление)."
   ]
  },
  {
   "cell_type": "code",
   "execution_count": 2,
   "metadata": {
    "slideshow": {
     "slide_type": "fragment"
    }
   },
   "outputs": [
    {
     "name": "stdout",
     "output_type": "stream",
     "text": [
      "1,2,3\n"
     ]
    }
   ],
   "source": [
    "path_ = './data.txt'\n",
    "\n",
    "with open(path_, 'w') as f: \n",
    "    f.write('1,2,3\\n')\n",
    "f.close()\n",
    "\n",
    "with open(path_, 'r') as f: \n",
    "    s = f.read()\n",
    "f.close()\n",
    "\n",
    "print(s, end=\"\")\n",
    "\n",
    "if os.path.isfile(path_):\n",
    "    os.remove(path_)    "
   ]
  },
  {
   "cell_type": "markdown",
   "metadata": {
    "slideshow": {
     "slide_type": "fragment"
    }
   },
   "source": [
    "csv (comma sepatered value) это текстовые файлы специального вида, данные разделены специальным символом, чаще всего запятой."
   ]
  },
  {
   "cell_type": "code",
   "execution_count": 3,
   "metadata": {
    "slideshow": {
     "slide_type": "fragment"
    }
   },
   "outputs": [
    {
     "name": "stdout",
     "output_type": "stream",
     "text": [
      "[['1', '2', '3'], ['4', '5', '6']]\n"
     ]
    },
    {
     "data": {
      "text/html": [
       "<div>\n",
       "<style scoped>\n",
       "    .dataframe tbody tr th:only-of-type {\n",
       "        vertical-align: middle;\n",
       "    }\n",
       "\n",
       "    .dataframe tbody tr th {\n",
       "        vertical-align: top;\n",
       "    }\n",
       "\n",
       "    .dataframe thead th {\n",
       "        text-align: right;\n",
       "    }\n",
       "</style>\n",
       "<table border=\"1\" class=\"dataframe\">\n",
       "  <thead>\n",
       "    <tr style=\"text-align: right;\">\n",
       "      <th></th>\n",
       "      <th>A</th>\n",
       "      <th>B</th>\n",
       "      <th>C</th>\n",
       "    </tr>\n",
       "  </thead>\n",
       "  <tbody>\n",
       "    <tr>\n",
       "      <th>0</th>\n",
       "      <td>1</td>\n",
       "      <td>2</td>\n",
       "      <td>3</td>\n",
       "    </tr>\n",
       "    <tr>\n",
       "      <th>1</th>\n",
       "      <td>4</td>\n",
       "      <td>5</td>\n",
       "      <td>6</td>\n",
       "    </tr>\n",
       "  </tbody>\n",
       "</table>\n",
       "</div>"
      ],
      "text/plain": [
       "   A  B  C\n",
       "0  1  2  3\n",
       "1  4  5  6"
      ]
     },
     "metadata": {},
     "output_type": "display_data"
    }
   ],
   "source": [
    "path_ = './data.csv'\n",
    "\n",
    "with open(path_, 'w') as f: \n",
    "    f.write('1,2,3\\n')\n",
    "    f.write('4,5,6')\n",
    "f.close()\n",
    "\n",
    "with open(path_, 'r') as f: \n",
    "    data = [s.split(\",\") for s in f.read().split('\\n')]\n",
    "f.close()\n",
    "\n",
    "print(data)\n",
    "\n",
    "df = pd.read_csv(path_, names=list(\"ABC\"))\n",
    "display(df)\n",
    "\n",
    "if os.path.isfile(path_):\n",
    "    os.remove(path_)  "
   ]
  },
  {
   "cell_type": "markdown",
   "metadata": {
    "slideshow": {
     "slide_type": "fragment"
    }
   },
   "source": [
    "xml (extensible markup language) - язык разметки данных с использованием специальный блоков, обозначаемых тегами. Пример xml файла:"
   ]
  },
  {
   "cell_type": "code",
   "execution_count": 4,
   "metadata": {
    "slideshow": {
     "slide_type": "fragment"
    }
   },
   "outputs": [
    {
     "data": {
      "text/html": [
       "<xmp>\n",
       "<?xml version=\"1.0\" ?>\n",
       "<Appointments>\n",
       "    <appointment>\n",
       "        <begin>1181251680</begin>\n",
       "        <uid>040000008200E000</uid>\n",
       "        <alarmTime>1181572063</alarmTime>\n",
       "    </appointment>\n",
       "</Appointments>\n",
       "</xmp>\n"
      ],
      "text/plain": [
       "<IPython.core.display.HTML object>"
      ]
     },
     "metadata": {},
     "output_type": "display_data"
    }
   ],
   "source": [
    "%%html\n",
    "<xmp>\n",
    "<?xml version=\"1.0\" ?>\n",
    "<Appointments>\n",
    "    <appointment>\n",
    "        <begin>1181251680</begin>\n",
    "        <uid>040000008200E000</uid>\n",
    "        <alarmTime>1181572063</alarmTime>\n",
    "    </appointment>\n",
    "</Appointments>\n",
    "</xmp>"
   ]
  },
  {
   "cell_type": "markdown",
   "metadata": {
    "slideshow": {
     "slide_type": "fragment"
    }
   },
   "source": [
    "Существуют различные стандартные билиотеки для работы с xml, например, в Python это minidom, ElementTree, BeautifulSoap"
   ]
  },
  {
   "cell_type": "markdown",
   "metadata": {
    "slideshow": {
     "slide_type": "slide"
    }
   },
   "source": [
    "Объектная нотация JSON (JavaScript Object Notation) используется при сериализации структур данных (преобразованию к виду, похожему на словарь)."
   ]
  },
  {
   "cell_type": "code",
   "execution_count": 5,
   "metadata": {
    "slideshow": {
     "slide_type": "fragment"
    }
   },
   "outputs": [
    {
     "name": "stdout",
     "output_type": "stream",
     "text": [
      "{'personal data': {'surname': 'Ivanov', 'name': 'Ivan'}, 'age': 42, 'height': 171, 'weight': 80}\n",
      "{\"personal data\": {\"surname\": \"Ivanov\", \"name\": \"Ivan\"}, \"age\": 42, \"height\": 171, \"weight\": 80}\n",
      "{'personal data': {'surname': 'Ivanov', 'name': 'Ivan'}, 'age': 42, 'height': 171, 'weight': 80}\n"
     ]
    }
   ],
   "source": [
    "import json\n",
    "d = {'personal data': {   \n",
    "                        'surname': 'Ivanov', \n",
    "                        'name': 'Ivan'\n",
    "                    },\n",
    "    'age': 42, 'height': 171, 'weight': 80}\n",
    "print(d)\n",
    "\n",
    "s = json.dumps(d)\n",
    "print(s)\n",
    "\n",
    "d = json.loads(s)\n",
    "print(d)"
   ]
  },
  {
   "cell_type": "markdown",
   "metadata": {
    "slideshow": {
     "slide_type": "fragment"
    }
   },
   "source": [
    "<a href='#toc'>Назад к Оглавлению</a>"
   ]
  },
  {
   "cell_type": "markdown",
   "metadata": {
    "slideshow": {
     "slide_type": "slide"
    }
   },
   "source": [
    "## Открытые программные интерфейсы API <a name='api'></a>"
   ]
  },
  {
   "cell_type": "markdown",
   "metadata": {
    "slideshow": {
     "slide_type": "slide"
    }
   },
   "source": [
    "Экспортируем данные из открытого API github.com"
   ]
  },
  {
   "cell_type": "code",
   "execution_count": 6,
   "metadata": {
    "slideshow": {
     "slide_type": "fragment"
    }
   },
   "outputs": [
    {
     "name": "stdout",
     "output_type": "stream",
     "text": [
      "BlogNote\n",
      "Data-Science-Course-USURT\n",
      "datasets\n",
      "Examples\n",
      "Games\n",
      "Information-Systems-Course-USURT\n",
      "PRE\n",
      "simbank\n",
      "usurt-docker-practice\n"
     ]
    }
   ],
   "source": [
    "import requests\n",
    "endpoint = 'https://api.github.com/users/yurichernyshov/repos'\n",
    "repos = json.loads(requests.get(endpoint).text)\n",
    "for elem in repos:\n",
    "    print(elem['name'])"
   ]
  },
  {
   "cell_type": "markdown",
   "metadata": {},
   "source": [
    "В большинстве API вебсервисов перед использованием необходимо зарегистрироваться и получить ключ. Пример испольнования запроса с истекшим токеном:"
   ]
  },
  {
   "cell_type": "code",
   "execution_count": 7,
   "metadata": {},
   "outputs": [
    {
     "name": "stdout",
     "output_type": "stream",
     "text": [
      "{\"meta\":{\"message\":\"Invalid token. Check the 'X-Gismeteo-Token' header\",\"code\":401},\"response\":{}}\r\n"
     ]
    }
   ],
   "source": [
    "!curl -H 'X-Gismeteo-Token: 56b30cb255.3443075' 'https://api.gismeteo.net/v2/weather/current/4368/'"
   ]
  },
  {
   "cell_type": "markdown",
   "metadata": {
    "slideshow": {
     "slide_type": "fragment"
    }
   },
   "source": [
    "<a href='#toc'>Назад к Оглавлению</a>"
   ]
  },
  {
   "cell_type": "markdown",
   "metadata": {
    "slideshow": {
     "slide_type": "slide"
    }
   },
   "source": [
    "## Базы данных <a name='databases'></a>\n"
   ]
  },
  {
   "cell_type": "markdown",
   "metadata": {
    "slideshow": {
     "slide_type": "fragment"
    }
   },
   "source": [
    "Стандартным источником информации в производственных информационных системах являются базы данных - хранилища большого объема информации. В зависимости от прикладных задач для хранения данных может быть выбран соответствующий тип базы данных (реляционная, NoSQL, графовая). На выбор типа БД является: структура информации для хранения (эффективно ли зранить в таблицах), тип файлов, необходимая скорость доступа, взаимосвязи между элементами."
   ]
  },
  {
   "cell_type": "markdown",
   "metadata": {
    "slideshow": {
     "slide_type": "fragment"
    }
   },
   "source": [
    "Для работы с реляционными базами данных используют SQL запросы.\n",
    "\n",
    "Примеры SQL запросов:\n",
    "\n",
    "<b><font color='green'>SELECT</font> model, speed, hd <font color='green'>FROM</font> PC <font color='green'>WHERE</font> price<500 </b>\n",
    "\n",
    "<b><font color='green'>SELECT</font> model,price <font color='green'>FROM</font> Printer<b>  \n",
    "<b>\n",
    "    <font color='green'>WHERE</font> price=(<font color='green'>SELECT MAX</font>(price) <font color='green'>FROM</font> Printer)\n",
    "    </b>\n",
    "\n",
    "<b><font color='green'>SELECT DISTINCT</font> Product.type, Laptop.model, Laptop.speed <font color='green'>FROM</font> Product</b>\n",
    "    <b><font color='green'>JOIN</font> Laptop <font color='green'>ON</font> Laptop.model=Product.model</b>\n",
    "    <b><font color='green'>WHERE</font> speed < <font color='green'>ANY</font> (<font color='green'>SELECT MIN</font>(speed)<font color='green'>FROM</font> PC)</b>"
   ]
  },
  {
   "cell_type": "markdown",
   "metadata": {},
   "source": [
    "Для python существует легкая база данных SQLite, хорошо подходящая для небольших проектов."
   ]
  },
  {
   "cell_type": "code",
   "execution_count": 8,
   "metadata": {},
   "outputs": [
    {
     "data": {
      "text/plain": [
       "[('Petr', 1)]"
      ]
     },
     "execution_count": 8,
     "metadata": {},
     "output_type": "execute_result"
    }
   ],
   "source": [
    "import sqlite3\n",
    "\n",
    "path_ = './mydb.db'\n",
    "\n",
    "conn = sqlite3.connect(path_)\n",
    "\n",
    "c = conn.cursor()\n",
    "c.execute(\"CREATE TABLE test (name char(255), id int);\")\n",
    "c.fetchall()\n",
    "\n",
    "c = conn.cursor()\n",
    "c.execute(\"INSERT INTO test VALUES ('Petr', 1);\")\n",
    "c.fetchall()\n",
    "\n",
    "c = conn.cursor()\n",
    "c.execute(\"SELECT * FROM test;\")\n",
    "c.fetchall()"
   ]
  },
  {
   "cell_type": "code",
   "execution_count": 9,
   "metadata": {},
   "outputs": [
    {
     "data": {
      "text/plain": [
       "False"
      ]
     },
     "execution_count": 9,
     "metadata": {},
     "output_type": "execute_result"
    }
   ],
   "source": [
    "# удалим файл с базой данных\n",
    "if os.path.isfile(path_):\n",
    "    os.remove(path_)\n",
    "    \n",
    "os.path.isfile(path_)"
   ]
  },
  {
   "cell_type": "markdown",
   "metadata": {
    "slideshow": {
     "slide_type": "fragment"
    }
   },
   "source": [
    "<a href='#toc'>Назад к Оглавлению</a>"
   ]
  },
  {
   "cell_type": "markdown",
   "metadata": {
    "slideshow": {
     "slide_type": "slide"
    }
   },
   "source": [
    "## Датасеты kaggle <a name='kaggle_datasets'></a>"
   ]
  },
  {
   "cell_type": "markdown",
   "metadata": {
    "slideshow": {
     "slide_type": "fragment"
    }
   },
   "source": [
    "Платформа для соревнований по машинному обучению https://www.kaggle.com/datasets содержит большое количество данных, один из критериев оценки участников сообщества kaggle - оценка размещенных участниками датасетов. Содержит как тренировочные данные, так и данные для решения глобальных задач (предсказание объема продаж Walmart, предсказание динамики распространения коронавируса)"
   ]
  },
  {
   "cell_type": "markdown",
   "metadata": {},
   "source": [
    "## sklearn.datasets <a name='sklearn_datasets'></a>"
   ]
  },
  {
   "cell_type": "markdown",
   "metadata": {},
   "source": [
    "sklearn.datasets содержит много заранее подготовленных \"игрушечных\" датасетов небольшого размера, на которых удобно изучать применение различных методов машинного обучения. Есть датасеты для задач классификации, регрессии, распознавания текстов, разпознавания изображений. Например:\n",
    "\n",
    "- load_digits() - 1797 образцов рукописных цифр, для тренировки алгоритмов классификации изображений\n",
    "- load_boston() - 697 образцов цен на жилье, для тренировки алгоритмов регрессии\n",
    "- load_iris() - 150 образцов измерений цветка ириса, для тренировки алгоритмов классификации\n",
    "\n",
    "Также можно создать наборы данных самостоятельно с использованием функций sklearn make_regression, make_classification, make_blobs"
   ]
  },
  {
   "cell_type": "code",
   "execution_count": 10,
   "metadata": {
    "slideshow": {
     "slide_type": "fragment"
    }
   },
   "outputs": [
    {
     "name": "stdout",
     "output_type": "stream",
     "text": [
      "50 10\n"
     ]
    }
   ],
   "source": [
    "from sklearn.datasets import make_friedman1\n",
    "X, y = make_friedman1(n_samples=50, n_features=10, random_state=0)\n",
    "print(len(X), len(X[0]))"
   ]
  },
  {
   "cell_type": "markdown",
   "metadata": {},
   "source": [
    "С помощью функции sklear.dataset.make_circles можно создать множество точек."
   ]
  },
  {
   "cell_type": "code",
   "execution_count": 11,
   "metadata": {},
   "outputs": [
    {
     "data": {
      "image/png": "[encoded data removed]",
      "text/plain": [
       "<Figure size 432x288 with 1 Axes>"
      ]
     },
     "metadata": {
      "needs_background": "light"
     },
     "output_type": "display_data"
    }
   ],
   "source": [
    "from matplotlib import pyplot as plt\n",
    "import numpy as np\n",
    "from sklearn.datasets import make_circles\n",
    "points, color = make_circles(n_samples=1000, shuffle=True, noise=0.3, random_state=1, factor=0.3)\n",
    "plt.scatter(np.array(points)[:,0],np.array(points)[:,1], c=color)\n",
    "plt.show()"
   ]
  },
  {
   "cell_type": "markdown",
   "metadata": {},
   "source": [
    "Набор рукописных цифр."
   ]
  },
  {
   "cell_type": "code",
   "execution_count": 12,
   "metadata": {},
   "outputs": [
    {
     "data": {
      "image/png": "[encoded data removed]",
      "text/plain": [
       "<Figure size 720x360 with 10 Axes>"
      ]
     },
     "metadata": {
      "needs_background": "light"
     },
     "output_type": "display_data"
    }
   ],
   "source": [
    "from sklearn.datasets import load_digits\n",
    "data = load_digits()\n",
    "fig, ax = plt.subplots(1, 10, figsize=(10,5))\n",
    "for i in range(10):\n",
    "    ax[i].imshow(data.data[i].reshape(8,8), cmap='gray')\n",
    "    ax[i].grid(False)\n",
    "    ax[i].axis('off')\n",
    "    ax[i].set_title(data.target[i])"
   ]
  },
  {
   "cell_type": "code",
   "execution_count": 13,
   "metadata": {},
   "outputs": [
    {
     "data": {
      "text/plain": [
       "['DESCR', 'data', 'feature_names', 'frame', 'images', 'target', 'target_names']"
      ]
     },
     "execution_count": 13,
     "metadata": {},
     "output_type": "execute_result"
    }
   ],
   "source": [
    "dir(data)"
   ]
  },
  {
   "cell_type": "markdown",
   "metadata": {},
   "source": [
    "Набор изображений."
   ]
  },
  {
   "cell_type": "code",
   "execution_count": 14,
   "metadata": {},
   "outputs": [
    {
     "data": {
      "image/png": "[encoded data removed]",
      "text/plain": [
       "<Figure size 432x288 with 1 Axes>"
      ]
     },
     "metadata": {
      "needs_background": "light"
     },
     "output_type": "display_data"
    }
   ],
   "source": [
    "from sklearn.datasets import load_sample_images\n",
    "data = load_sample_images()\n",
    "plt.imshow(data.images[1])\n",
    "plt.show()"
   ]
  },
  {
   "cell_type": "markdown",
   "metadata": {},
   "source": [
    "Также в scikit-learn есть удобная функция, которая позволяет импортировать данные напрямую с сайта openml.org, на котором хранится более 21000 различных датасетов."
   ]
  },
  {
   "cell_type": "code",
   "execution_count": 15,
   "metadata": {},
   "outputs": [],
   "source": [
    "from sklearn.datasets import fetch_openml"
   ]
  },
  {
   "cell_type": "code",
   "execution_count": 16,
   "metadata": {},
   "outputs": [
    {
     "data": {
      "text/plain": [
       "((178, 13), (178,))"
      ]
     },
     "execution_count": 16,
     "metadata": {},
     "output_type": "execute_result"
    }
   ],
   "source": [
    "X, y = fetch_openml(\"wine\", version=1, as_frame=True, return_X_y=True)\n",
    "X.shape, y.shape"
   ]
  },
  {
   "cell_type": "code",
   "execution_count": 17,
   "metadata": {},
   "outputs": [
    {
     "data": {
      "text/html": [
       "<div>\n",
       "<style scoped>\n",
       "    .dataframe tbody tr th:only-of-type {\n",
       "        vertical-align: middle;\n",
       "    }\n",
       "\n",
       "    .dataframe tbody tr th {\n",
       "        vertical-align: top;\n",
       "    }\n",
       "\n",
       "    .dataframe thead th {\n",
       "        text-align: right;\n",
       "    }\n",
       "</style>\n",
       "<table border=\"1\" class=\"dataframe\">\n",
       "  <thead>\n",
       "    <tr style=\"text-align: right;\">\n",
       "      <th></th>\n",
       "      <th>Alcohol</th>\n",
       "      <th>Malic_acid</th>\n",
       "      <th>Ash</th>\n",
       "      <th>Alcalinity_of_ash</th>\n",
       "      <th>Magnesium</th>\n",
       "      <th>Total_phenols</th>\n",
       "      <th>Flavanoids</th>\n",
       "      <th>Nonflavanoid_phenols</th>\n",
       "      <th>Proanthocyanins</th>\n",
       "      <th>Color_intensity</th>\n",
       "      <th>Hue</th>\n",
       "      <th>OD280%2FOD315_of_diluted_wines</th>\n",
       "      <th>Proline</th>\n",
       "    </tr>\n",
       "  </thead>\n",
       "  <tbody>\n",
       "    <tr>\n",
       "      <th>0</th>\n",
       "      <td>14.23</td>\n",
       "      <td>1.71</td>\n",
       "      <td>2.43</td>\n",
       "      <td>15.6</td>\n",
       "      <td>127.0</td>\n",
       "      <td>2.80</td>\n",
       "      <td>3.06</td>\n",
       "      <td>0.28</td>\n",
       "      <td>2.29</td>\n",
       "      <td>5.64</td>\n",
       "      <td>1.04</td>\n",
       "      <td>3.92</td>\n",
       "      <td>1065.0</td>\n",
       "    </tr>\n",
       "    <tr>\n",
       "      <th>1</th>\n",
       "      <td>13.20</td>\n",
       "      <td>1.78</td>\n",
       "      <td>2.14</td>\n",
       "      <td>11.2</td>\n",
       "      <td>100.0</td>\n",
       "      <td>2.65</td>\n",
       "      <td>2.76</td>\n",
       "      <td>0.26</td>\n",
       "      <td>1.28</td>\n",
       "      <td>4.38</td>\n",
       "      <td>1.05</td>\n",
       "      <td>3.40</td>\n",
       "      <td>1050.0</td>\n",
       "    </tr>\n",
       "    <tr>\n",
       "      <th>2</th>\n",
       "      <td>13.16</td>\n",
       "      <td>2.36</td>\n",
       "      <td>2.67</td>\n",
       "      <td>18.6</td>\n",
       "      <td>101.0</td>\n",
       "      <td>2.80</td>\n",
       "      <td>3.24</td>\n",
       "      <td>0.30</td>\n",
       "      <td>2.81</td>\n",
       "      <td>5.68</td>\n",
       "      <td>1.03</td>\n",
       "      <td>3.17</td>\n",
       "      <td>1185.0</td>\n",
       "    </tr>\n",
       "    <tr>\n",
       "      <th>3</th>\n",
       "      <td>14.37</td>\n",
       "      <td>1.95</td>\n",
       "      <td>2.50</td>\n",
       "      <td>16.8</td>\n",
       "      <td>113.0</td>\n",
       "      <td>3.85</td>\n",
       "      <td>3.49</td>\n",
       "      <td>0.24</td>\n",
       "      <td>2.18</td>\n",
       "      <td>7.80</td>\n",
       "      <td>0.86</td>\n",
       "      <td>3.45</td>\n",
       "      <td>1480.0</td>\n",
       "    </tr>\n",
       "    <tr>\n",
       "      <th>4</th>\n",
       "      <td>13.24</td>\n",
       "      <td>2.59</td>\n",
       "      <td>2.87</td>\n",
       "      <td>21.0</td>\n",
       "      <td>118.0</td>\n",
       "      <td>2.80</td>\n",
       "      <td>2.69</td>\n",
       "      <td>0.39</td>\n",
       "      <td>1.82</td>\n",
       "      <td>4.32</td>\n",
       "      <td>1.04</td>\n",
       "      <td>2.93</td>\n",
       "      <td>735.0</td>\n",
       "    </tr>\n",
       "    <tr>\n",
       "      <th>...</th>\n",
       "      <td>...</td>\n",
       "      <td>...</td>\n",
       "      <td>...</td>\n",
       "      <td>...</td>\n",
       "      <td>...</td>\n",
       "      <td>...</td>\n",
       "      <td>...</td>\n",
       "      <td>...</td>\n",
       "      <td>...</td>\n",
       "      <td>...</td>\n",
       "      <td>...</td>\n",
       "      <td>...</td>\n",
       "      <td>...</td>\n",
       "    </tr>\n",
       "    <tr>\n",
       "      <th>173</th>\n",
       "      <td>13.71</td>\n",
       "      <td>5.65</td>\n",
       "      <td>2.45</td>\n",
       "      <td>20.5</td>\n",
       "      <td>95.0</td>\n",
       "      <td>1.68</td>\n",
       "      <td>0.61</td>\n",
       "      <td>0.52</td>\n",
       "      <td>1.06</td>\n",
       "      <td>7.70</td>\n",
       "      <td>0.64</td>\n",
       "      <td>1.74</td>\n",
       "      <td>740.0</td>\n",
       "    </tr>\n",
       "    <tr>\n",
       "      <th>174</th>\n",
       "      <td>13.40</td>\n",
       "      <td>3.91</td>\n",
       "      <td>2.48</td>\n",
       "      <td>23.0</td>\n",
       "      <td>102.0</td>\n",
       "      <td>1.80</td>\n",
       "      <td>0.75</td>\n",
       "      <td>0.43</td>\n",
       "      <td>1.41</td>\n",
       "      <td>7.30</td>\n",
       "      <td>0.70</td>\n",
       "      <td>1.56</td>\n",
       "      <td>750.0</td>\n",
       "    </tr>\n",
       "    <tr>\n",
       "      <th>175</th>\n",
       "      <td>13.27</td>\n",
       "      <td>4.28</td>\n",
       "      <td>2.26</td>\n",
       "      <td>20.0</td>\n",
       "      <td>120.0</td>\n",
       "      <td>1.59</td>\n",
       "      <td>0.69</td>\n",
       "      <td>0.43</td>\n",
       "      <td>1.35</td>\n",
       "      <td>10.20</td>\n",
       "      <td>0.59</td>\n",
       "      <td>1.56</td>\n",
       "      <td>835.0</td>\n",
       "    </tr>\n",
       "    <tr>\n",
       "      <th>176</th>\n",
       "      <td>13.17</td>\n",
       "      <td>2.59</td>\n",
       "      <td>2.37</td>\n",
       "      <td>20.0</td>\n",
       "      <td>120.0</td>\n",
       "      <td>1.65</td>\n",
       "      <td>0.68</td>\n",
       "      <td>0.53</td>\n",
       "      <td>1.46</td>\n",
       "      <td>9.30</td>\n",
       "      <td>0.60</td>\n",
       "      <td>1.62</td>\n",
       "      <td>840.0</td>\n",
       "    </tr>\n",
       "    <tr>\n",
       "      <th>177</th>\n",
       "      <td>14.13</td>\n",
       "      <td>4.10</td>\n",
       "      <td>2.74</td>\n",
       "      <td>24.5</td>\n",
       "      <td>96.0</td>\n",
       "      <td>2.05</td>\n",
       "      <td>0.76</td>\n",
       "      <td>0.56</td>\n",
       "      <td>1.35</td>\n",
       "      <td>9.20</td>\n",
       "      <td>0.61</td>\n",
       "      <td>1.60</td>\n",
       "      <td>560.0</td>\n",
       "    </tr>\n",
       "  </tbody>\n",
       "</table>\n",
       "<p>178 rows × 13 columns</p>\n",
       "</div>"
      ],
      "text/plain": [
       "     Alcohol  Malic_acid   Ash  Alcalinity_of_ash  Magnesium  Total_phenols  \\\n",
       "0      14.23        1.71  2.43               15.6      127.0           2.80   \n",
       "1      13.20        1.78  2.14               11.2      100.0           2.65   \n",
       "2      13.16        2.36  2.67               18.6      101.0           2.80   \n",
       "3      14.37        1.95  2.50               16.8      113.0           3.85   \n",
       "4      13.24        2.59  2.87               21.0      118.0           2.80   \n",
       "..       ...         ...   ...                ...        ...            ...   \n",
       "173    13.71        5.65  2.45               20.5       95.0           1.68   \n",
       "174    13.40        3.91  2.48               23.0      102.0           1.80   \n",
       "175    13.27        4.28  2.26               20.0      120.0           1.59   \n",
       "176    13.17        2.59  2.37               20.0      120.0           1.65   \n",
       "177    14.13        4.10  2.74               24.5       96.0           2.05   \n",
       "\n",
       "     Flavanoids  Nonflavanoid_phenols  Proanthocyanins  Color_intensity   Hue  \\\n",
       "0          3.06                  0.28             2.29             5.64  1.04   \n",
       "1          2.76                  0.26             1.28             4.38  1.05   \n",
       "2          3.24                  0.30             2.81             5.68  1.03   \n",
       "3          3.49                  0.24             2.18             7.80  0.86   \n",
       "4          2.69                  0.39             1.82             4.32  1.04   \n",
       "..          ...                   ...              ...              ...   ...   \n",
       "173        0.61                  0.52             1.06             7.70  0.64   \n",
       "174        0.75                  0.43             1.41             7.30  0.70   \n",
       "175        0.69                  0.43             1.35            10.20  0.59   \n",
       "176        0.68                  0.53             1.46             9.30  0.60   \n",
       "177        0.76                  0.56             1.35             9.20  0.61   \n",
       "\n",
       "     OD280%2FOD315_of_diluted_wines  Proline  \n",
       "0                              3.92   1065.0  \n",
       "1                              3.40   1050.0  \n",
       "2                              3.17   1185.0  \n",
       "3                              3.45   1480.0  \n",
       "4                              2.93    735.0  \n",
       "..                              ...      ...  \n",
       "173                            1.74    740.0  \n",
       "174                            1.56    750.0  \n",
       "175                            1.56    835.0  \n",
       "176                            1.62    840.0  \n",
       "177                            1.60    560.0  \n",
       "\n",
       "[178 rows x 13 columns]"
      ]
     },
     "execution_count": 17,
     "metadata": {},
     "output_type": "execute_result"
    }
   ],
   "source": [
    "X"
   ]
  },
  {
   "cell_type": "code",
   "execution_count": 18,
   "metadata": {},
   "outputs": [
    {
     "data": {
      "text/plain": [
       "0      1\n",
       "1      1\n",
       "2      1\n",
       "3      1\n",
       "4      1\n",
       "      ..\n",
       "173    3\n",
       "174    3\n",
       "175    3\n",
       "176    3\n",
       "177    3\n",
       "Name: class, Length: 178, dtype: category\n",
       "Categories (3, object): ['1', '2', '3']"
      ]
     },
     "execution_count": 18,
     "metadata": {},
     "output_type": "execute_result"
    }
   ],
   "source": [
    "y"
   ]
  },
  {
   "cell_type": "markdown",
   "metadata": {
    "slideshow": {
     "slide_type": "fragment"
    }
   },
   "source": [
    "<a href='#toc'>Назад к Оглавлению</a>"
   ]
  },
  {
   "cell_type": "markdown",
   "metadata": {
    "slideshow": {
     "slide_type": "slide"
    }
   },
   "source": [
    "## CIFAR <a name='cifar'></a>"
   ]
  },
  {
   "cell_type": "markdown",
   "metadata": {
    "slideshow": {
     "slide_type": "fragment"
    }
   },
   "source": []
  },
  {
   "cell_type": "markdown",
   "metadata": {
    "slideshow": {
     "slide_type": "fragment"
    }
   },
   "source": [
    "<a href='#toc'>Назад к Оглавлению</a>"
   ]
  },
  {
   "cell_type": "markdown",
   "metadata": {
    "slideshow": {
     "slide_type": "slide"
    }
   },
   "source": [
    "## MNIST <a name='mnist'></a>"
   ]
  },
  {
   "cell_type": "markdown",
   "metadata": {
    "slideshow": {
     "slide_type": "fragment"
    }
   },
   "source": []
  },
  {
   "cell_type": "markdown",
   "metadata": {
    "slideshow": {
     "slide_type": "fragment"
    }
   },
   "source": [
    "<a href='#toc'>Назад к Оглавлению</a>"
   ]
  },
  {
   "cell_type": "markdown",
   "metadata": {
    "slideshow": {
     "slide_type": "slide"
    }
   },
   "source": [
    "## Другие источники данных <a name='other'></a>"
   ]
  },
  {
   "cell_type": "markdown",
   "metadata": {
    "slideshow": {
     "slide_type": "fragment"
    }
   },
   "source": [
    "Через открытые источники можно получать информацию для анализа из социальных сетей, twitter и т.п.\n",
    "\n",
    "Перечень популярных API (например, прогноз погоды, фильмы, финансовый анализ) для Python можно найти здесь: https://rapidapi.com/collection/list-of-python-apis"
   ]
  },
  {
   "cell_type": "markdown",
   "metadata": {
    "slideshow": {
     "slide_type": "fragment"
    }
   },
   "source": [
    "<a href='#toc'>Назад к Оглавлению</a>"
   ]
  },
  {
   "cell_type": "markdown",
   "metadata": {
    "slideshow": {
     "slide_type": "slide"
    }
   },
   "source": [
    "# Этапы предварительного (разведочного) анализа данных <a name='eda'></a>"
   ]
  },
  {
   "cell_type": "markdown",
   "metadata": {},
   "source": [
    "#### Типовой набор данных для демонстрации работы методов"
   ]
  },
  {
   "cell_type": "code",
   "execution_count": 19,
   "metadata": {
    "slideshow": {
     "slide_type": "fragment"
    }
   },
   "outputs": [
    {
     "data": {
      "text/html": [
       "<div>\n",
       "<style scoped>\n",
       "    .dataframe tbody tr th:only-of-type {\n",
       "        vertical-align: middle;\n",
       "    }\n",
       "\n",
       "    .dataframe tbody tr th {\n",
       "        vertical-align: top;\n",
       "    }\n",
       "\n",
       "    .dataframe thead th {\n",
       "        text-align: right;\n",
       "    }\n",
       "</style>\n",
       "<table border=\"1\" class=\"dataframe\">\n",
       "  <thead>\n",
       "    <tr style=\"text-align: right;\">\n",
       "      <th></th>\n",
       "      <th>Date</th>\n",
       "      <th>Visitors</th>\n",
       "      <th>Income</th>\n",
       "      <th>Type</th>\n",
       "      <th>Par1</th>\n",
       "    </tr>\n",
       "  </thead>\n",
       "  <tbody>\n",
       "    <tr>\n",
       "      <th>0</th>\n",
       "      <td>2013-01-06</td>\n",
       "      <td>2</td>\n",
       "      <td>39.136707</td>\n",
       "      <td>Regular</td>\n",
       "      <td>-5.789474</td>\n",
       "    </tr>\n",
       "    <tr>\n",
       "      <th>1</th>\n",
       "      <td>2013-01-13</td>\n",
       "      <td>1</td>\n",
       "      <td>27.894806</td>\n",
       "      <td>Regular</td>\n",
       "      <td>-3.684211</td>\n",
       "    </tr>\n",
       "    <tr>\n",
       "      <th>2</th>\n",
       "      <td>2013-01-20</td>\n",
       "      <td>1</td>\n",
       "      <td>16.990417</td>\n",
       "      <td>Regular</td>\n",
       "      <td>3.684211</td>\n",
       "    </tr>\n",
       "    <tr>\n",
       "      <th>3</th>\n",
       "      <td>2013-01-27</td>\n",
       "      <td>2</td>\n",
       "      <td>18.871052</td>\n",
       "      <td>Unique</td>\n",
       "      <td>-0.526316</td>\n",
       "    </tr>\n",
       "    <tr>\n",
       "      <th>4</th>\n",
       "      <td>2013-02-03</td>\n",
       "      <td>2</td>\n",
       "      <td>55.389991</td>\n",
       "      <td>Irregular</td>\n",
       "      <td>-2.631579</td>\n",
       "    </tr>\n",
       "    <tr>\n",
       "      <th>...</th>\n",
       "      <td>...</td>\n",
       "      <td>...</td>\n",
       "      <td>...</td>\n",
       "      <td>...</td>\n",
       "      <td>...</td>\n",
       "    </tr>\n",
       "    <tr>\n",
       "      <th>95</th>\n",
       "      <td>2014-11-02</td>\n",
       "      <td>7</td>\n",
       "      <td>64.887560</td>\n",
       "      <td>Regular</td>\n",
       "      <td>-8.947368</td>\n",
       "    </tr>\n",
       "    <tr>\n",
       "      <th>96</th>\n",
       "      <td>2014-11-09</td>\n",
       "      <td>0</td>\n",
       "      <td>82.476198</td>\n",
       "      <td>Regular</td>\n",
       "      <td>-7.894737</td>\n",
       "    </tr>\n",
       "    <tr>\n",
       "      <th>97</th>\n",
       "      <td>2014-11-16</td>\n",
       "      <td>0</td>\n",
       "      <td>12.668036</td>\n",
       "      <td>Unique</td>\n",
       "      <td>-1.578947</td>\n",
       "    </tr>\n",
       "    <tr>\n",
       "      <th>98</th>\n",
       "      <td>2014-11-23</td>\n",
       "      <td>7</td>\n",
       "      <td>39.070912</td>\n",
       "      <td>Irregular</td>\n",
       "      <td>-0.526316</td>\n",
       "    </tr>\n",
       "    <tr>\n",
       "      <th>99</th>\n",
       "      <td>2014-11-30</td>\n",
       "      <td>0</td>\n",
       "      <td>45.178190</td>\n",
       "      <td>Regular</td>\n",
       "      <td>NaN</td>\n",
       "    </tr>\n",
       "  </tbody>\n",
       "</table>\n",
       "<p>100 rows × 5 columns</p>\n",
       "</div>"
      ],
      "text/plain": [
       "         Date  Visitors     Income       Type      Par1\n",
       "0  2013-01-06         2  39.136707    Regular -5.789474\n",
       "1  2013-01-13         1  27.894806    Regular -3.684211\n",
       "2  2013-01-20         1  16.990417    Regular  3.684211\n",
       "3  2013-01-27         2  18.871052     Unique -0.526316\n",
       "4  2013-02-03         2  55.389991  Irregular -2.631579\n",
       "..        ...       ...        ...        ...       ...\n",
       "95 2014-11-02         7  64.887560    Regular -8.947368\n",
       "96 2014-11-09         0  82.476198    Regular -7.894737\n",
       "97 2014-11-16         0  12.668036     Unique -1.578947\n",
       "98 2014-11-23         7  39.070912  Irregular -0.526316\n",
       "99 2014-11-30         0  45.178190    Regular       NaN\n",
       "\n",
       "[100 rows x 5 columns]"
      ]
     },
     "execution_count": 19,
     "metadata": {},
     "output_type": "execute_result"
    }
   ],
   "source": [
    "num = 100\n",
    "df = pd.DataFrame({\n",
    "        'Date': pd.date_range('20130102', periods=num, freq='1w'),\n",
    "        'Visitors': np.random.randint(0,10, num),\n",
    "        'Income': np.random.random(num)*100,\n",
    "        'Type': pd.Categorical(np.random.choice(['Regular', 'Unique', 'Irregular'], size=num)),\n",
    "        'Par1': np.random.choice(np.r_[np.linspace(-10,10,20), np.NaN*10], size=num)\n",
    "                  })\n",
    "df"
   ]
  },
  {
   "cell_type": "code",
   "execution_count": 20,
   "metadata": {
    "slideshow": {
     "slide_type": "slide"
    }
   },
   "outputs": [
    {
     "data": {
      "text/html": [
       "<div>\n",
       "<style scoped>\n",
       "    .dataframe tbody tr th:only-of-type {\n",
       "        vertical-align: middle;\n",
       "    }\n",
       "\n",
       "    .dataframe tbody tr th {\n",
       "        vertical-align: top;\n",
       "    }\n",
       "\n",
       "    .dataframe thead th {\n",
       "        text-align: right;\n",
       "    }\n",
       "</style>\n",
       "<table border=\"1\" class=\"dataframe\">\n",
       "  <thead>\n",
       "    <tr style=\"text-align: right;\">\n",
       "      <th></th>\n",
       "      <th>Date</th>\n",
       "      <th>Visitors</th>\n",
       "      <th>Income</th>\n",
       "      <th>Type</th>\n",
       "      <th>Par1</th>\n",
       "    </tr>\n",
       "  </thead>\n",
       "  <tbody>\n",
       "    <tr>\n",
       "      <th>0</th>\n",
       "      <td>2013-01-06</td>\n",
       "      <td>2</td>\n",
       "      <td>39.136707</td>\n",
       "      <td>Regular</td>\n",
       "      <td>-5.789474</td>\n",
       "    </tr>\n",
       "    <tr>\n",
       "      <th>1</th>\n",
       "      <td>2013-01-13</td>\n",
       "      <td>1</td>\n",
       "      <td>27.894806</td>\n",
       "      <td>Regular</td>\n",
       "      <td>-3.684211</td>\n",
       "    </tr>\n",
       "  </tbody>\n",
       "</table>\n",
       "</div>"
      ],
      "text/plain": [
       "        Date  Visitors     Income     Type      Par1\n",
       "0 2013-01-06         2  39.136707  Regular -5.789474\n",
       "1 2013-01-13         1  27.894806  Regular -3.684211"
      ]
     },
     "execution_count": 20,
     "metadata": {},
     "output_type": "execute_result"
    }
   ],
   "source": [
    "df.head(2)"
   ]
  },
  {
   "cell_type": "code",
   "execution_count": 21,
   "metadata": {
    "slideshow": {
     "slide_type": "fragment"
    }
   },
   "outputs": [
    {
     "data": {
      "text/html": [
       "<div>\n",
       "<style scoped>\n",
       "    .dataframe tbody tr th:only-of-type {\n",
       "        vertical-align: middle;\n",
       "    }\n",
       "\n",
       "    .dataframe tbody tr th {\n",
       "        vertical-align: top;\n",
       "    }\n",
       "\n",
       "    .dataframe thead th {\n",
       "        text-align: right;\n",
       "    }\n",
       "</style>\n",
       "<table border=\"1\" class=\"dataframe\">\n",
       "  <thead>\n",
       "    <tr style=\"text-align: right;\">\n",
       "      <th></th>\n",
       "      <th>Date</th>\n",
       "      <th>Visitors</th>\n",
       "      <th>Income</th>\n",
       "      <th>Type</th>\n",
       "      <th>Par1</th>\n",
       "    </tr>\n",
       "  </thead>\n",
       "  <tbody>\n",
       "    <tr>\n",
       "      <th>99</th>\n",
       "      <td>2014-11-30</td>\n",
       "      <td>0</td>\n",
       "      <td>45.17819</td>\n",
       "      <td>Regular</td>\n",
       "      <td>NaN</td>\n",
       "    </tr>\n",
       "  </tbody>\n",
       "</table>\n",
       "</div>"
      ],
      "text/plain": [
       "         Date  Visitors    Income     Type  Par1\n",
       "99 2014-11-30         0  45.17819  Regular   NaN"
      ]
     },
     "execution_count": 21,
     "metadata": {},
     "output_type": "execute_result"
    }
   ],
   "source": [
    "df.tail(1)"
   ]
  },
  {
   "cell_type": "code",
   "execution_count": 22,
   "metadata": {
    "slideshow": {
     "slide_type": "fragment"
    }
   },
   "outputs": [
    {
     "name": "stdout",
     "output_type": "stream",
     "text": [
      "df.shape: (100, 5), rows: 100, columns: 5\n"
     ]
    }
   ],
   "source": [
    "print(\"df.shape: {}, rows: {}, columns: {}\".format(df.shape, df.shape[0], df.shape[1]))"
   ]
  },
  {
   "cell_type": "code",
   "execution_count": 23,
   "metadata": {},
   "outputs": [
    {
     "name": "stdout",
     "output_type": "stream",
     "text": [
      "<class 'pandas.core.frame.DataFrame'>\n",
      "RangeIndex: 100 entries, 0 to 99\n",
      "Data columns (total 5 columns):\n",
      " #   Column    Non-Null Count  Dtype         \n",
      "---  ------    --------------  -----         \n",
      " 0   Date      100 non-null    datetime64[ns]\n",
      " 1   Visitors  100 non-null    int64         \n",
      " 2   Income    100 non-null    float64       \n",
      " 3   Type      100 non-null    category      \n",
      " 4   Par1      99 non-null     float64       \n",
      "dtypes: category(1), datetime64[ns](1), float64(2), int64(1)\n",
      "memory usage: 3.5 KB\n"
     ]
    },
    {
     "data": {
      "text/plain": [
       "(None, 1)"
      ]
     },
     "execution_count": 23,
     "metadata": {},
     "output_type": "execute_result"
    }
   ],
   "source": [
    "df.info(), df.Par1.isna().sum()"
   ]
  },
  {
   "cell_type": "code",
   "execution_count": 24,
   "metadata": {},
   "outputs": [
    {
     "data": {
      "text/html": [
       "<div>\n",
       "<style scoped>\n",
       "    .dataframe tbody tr th:only-of-type {\n",
       "        vertical-align: middle;\n",
       "    }\n",
       "\n",
       "    .dataframe tbody tr th {\n",
       "        vertical-align: top;\n",
       "    }\n",
       "\n",
       "    .dataframe thead th {\n",
       "        text-align: right;\n",
       "    }\n",
       "</style>\n",
       "<table border=\"1\" class=\"dataframe\">\n",
       "  <thead>\n",
       "    <tr style=\"text-align: right;\">\n",
       "      <th></th>\n",
       "      <th>Visitors</th>\n",
       "      <th>Income</th>\n",
       "      <th>Par1</th>\n",
       "    </tr>\n",
       "  </thead>\n",
       "  <tbody>\n",
       "    <tr>\n",
       "      <th>count</th>\n",
       "      <td>100.000000</td>\n",
       "      <td>100.000000</td>\n",
       "      <td>99.000000</td>\n",
       "    </tr>\n",
       "    <tr>\n",
       "      <th>mean</th>\n",
       "      <td>4.340000</td>\n",
       "      <td>50.631312</td>\n",
       "      <td>-0.760234</td>\n",
       "    </tr>\n",
       "    <tr>\n",
       "      <th>std</th>\n",
       "      <td>2.656115</td>\n",
       "      <td>28.073929</td>\n",
       "      <td>6.171930</td>\n",
       "    </tr>\n",
       "    <tr>\n",
       "      <th>min</th>\n",
       "      <td>0.000000</td>\n",
       "      <td>0.781008</td>\n",
       "      <td>-10.000000</td>\n",
       "    </tr>\n",
       "    <tr>\n",
       "      <th>25%</th>\n",
       "      <td>2.000000</td>\n",
       "      <td>28.798334</td>\n",
       "      <td>-6.842105</td>\n",
       "    </tr>\n",
       "    <tr>\n",
       "      <th>50%</th>\n",
       "      <td>4.000000</td>\n",
       "      <td>48.832762</td>\n",
       "      <td>-0.526316</td>\n",
       "    </tr>\n",
       "    <tr>\n",
       "      <th>75%</th>\n",
       "      <td>7.000000</td>\n",
       "      <td>73.872511</td>\n",
       "      <td>3.684211</td>\n",
       "    </tr>\n",
       "    <tr>\n",
       "      <th>max</th>\n",
       "      <td>9.000000</td>\n",
       "      <td>99.693807</td>\n",
       "      <td>10.000000</td>\n",
       "    </tr>\n",
       "  </tbody>\n",
       "</table>\n",
       "</div>"
      ],
      "text/plain": [
       "         Visitors      Income       Par1\n",
       "count  100.000000  100.000000  99.000000\n",
       "mean     4.340000   50.631312  -0.760234\n",
       "std      2.656115   28.073929   6.171930\n",
       "min      0.000000    0.781008 -10.000000\n",
       "25%      2.000000   28.798334  -6.842105\n",
       "50%      4.000000   48.832762  -0.526316\n",
       "75%      7.000000   73.872511   3.684211\n",
       "max      9.000000   99.693807  10.000000"
      ]
     },
     "execution_count": 24,
     "metadata": {},
     "output_type": "execute_result"
    }
   ],
   "source": [
    "df.describe()"
   ]
  },
  {
   "cell_type": "markdown",
   "metadata": {
    "slideshow": {
     "slide_type": "fragment"
    }
   },
   "source": [
    "<a href='#toc'>Назад к Оглавлению</a>"
   ]
  },
  {
   "cell_type": "markdown",
   "metadata": {
    "slideshow": {
     "slide_type": "slide"
    }
   },
   "source": [
    "## Предварительное изучение данных: правильность получения, природа, целостность, актуальность, адекватность <a name='first_look'></a>"
   ]
  },
  {
   "cell_type": "markdown",
   "metadata": {},
   "source": [
    "#### Пример некорректных данных"
   ]
  },
  {
   "cell_type": "markdown",
   "metadata": {},
   "source": [
    "<table border=1>\n",
    "    <thead><th>Дата</th><th>ФИО</th><th>Результат</th></thead>\n",
    "    <tr>\n",
    "        <td>29 декабря 2019</td><td>Иванов И.И.</td><td>14.01</td>\n",
    "    </tr>\n",
    "    <tr>\n",
    "        <td>29 декабря 1019</td><td>Иванов Ваня</td><td>12,02</td>\n",
    "    </tr>\n",
    "    <tr>\n",
    "        <td>31 февраля 2020</td><td></td><td>14</td>\n",
    "    </tr>\n",
    "    <tr>\n",
    "        <td>01 апреля 2020</td><td>Петров П.П.</td><td>-100</td>\n",
    "    </tr>\n",
    "</table>"
   ]
  },
  {
   "cell_type": "markdown",
   "metadata": {},
   "source": [
    "Типичные ошибки: некорректные даты, разные форматы ФИО (отсутствует отчество), разные форматы чисел, пропущенные данные."
   ]
  },
  {
   "cell_type": "markdown",
   "metadata": {
    "slideshow": {
     "slide_type": "slide"
    }
   },
   "source": [
    "В библиотеке pandas реализовано множество методов для анализа данных.\n",
    "\n",
    "<li>Общая информация о данных</li>\n",
    "<ul>    <li>df.info() - общая информация о таблице (индексы, строки, типы, ненулевые значения),</li>\n",
    "        <li>df.shape() - размеры, </li>\n",
    "        <li>df.columns(), df.index() - колонки, индексы</li>\n",
    "        <li>df.describe(), df.describe(include=['object', 'bool']) - общая статистическая информация по численным значениям</li>\n",
    "</ul>\n",
    "<li>Агрегированная информация о данных</li>\n",
    "<ul>\n",
    "    <li>df.value_counts() - подсчет частотности значений для типов Categorical и Boolean,</li>\n",
    "    <li>df.sort_values(by='название столбца', ascending=False/True) - сортировка,</li>\n",
    "    <li>df.mean(), .min(), .max(), .std(), .var(), .count() - агрегационные функции,</li>\n",
    "    <li>groupby, crosstab, pivot_table - сводные таблицы</li>\n",
    "</ul>\n",
    "</ol>"
   ]
  },
  {
   "cell_type": "markdown",
   "metadata": {
    "slideshow": {
     "slide_type": "slide"
    }
   },
   "source": [
    "#### Типы данных, пропущенные значения"
   ]
  },
  {
   "cell_type": "code",
   "execution_count": 25,
   "metadata": {
    "slideshow": {
     "slide_type": "fragment"
    }
   },
   "outputs": [
    {
     "name": "stdout",
     "output_type": "stream",
     "text": [
      "<class 'pandas.core.frame.DataFrame'>\n",
      "RangeIndex: 100 entries, 0 to 99\n",
      "Data columns (total 5 columns):\n",
      " #   Column    Non-Null Count  Dtype         \n",
      "---  ------    --------------  -----         \n",
      " 0   Date      100 non-null    datetime64[ns]\n",
      " 1   Visitors  100 non-null    int64         \n",
      " 2   Income    100 non-null    float64       \n",
      " 3   Type      100 non-null    category      \n",
      " 4   Par1      99 non-null     float64       \n",
      "dtypes: category(1), datetime64[ns](1), float64(2), int64(1)\n",
      "memory usage: 3.5 KB\n"
     ]
    }
   ],
   "source": [
    "df.info()"
   ]
  },
  {
   "cell_type": "markdown",
   "metadata": {},
   "source": [
    "#### Информация о столбцах df.columns"
   ]
  },
  {
   "cell_type": "code",
   "execution_count": 26,
   "metadata": {
    "slideshow": {
     "slide_type": "slide"
    }
   },
   "outputs": [
    {
     "name": "stdout",
     "output_type": "stream",
     "text": [
      "Index(['Date', 'Visitors', 'Income', 'Type', 'Par1'], dtype='object')\n",
      "Visitors: [2 1 5 0 4 6 8 3 9 7]\n",
      "Type: ['Regular', 'Unique', 'Irregular']\n",
      "Categories (3, object): ['Regular', 'Unique', 'Irregular']\n"
     ]
    }
   ],
   "source": [
    "print(df.columns)\n",
    "for vColName in df.columns[1::2]:\n",
    "    print(\"{}: {}\".format(vColName, df[vColName].unique()))"
   ]
  },
  {
   "cell_type": "markdown",
   "metadata": {
    "slideshow": {
     "slide_type": "slide"
    }
   },
   "source": [
    "#### Статистическая информация"
   ]
  },
  {
   "cell_type": "code",
   "execution_count": 27,
   "metadata": {
    "slideshow": {
     "slide_type": "fragment"
    }
   },
   "outputs": [
    {
     "data": {
      "text/html": [
       "<div>\n",
       "<style scoped>\n",
       "    .dataframe tbody tr th:only-of-type {\n",
       "        vertical-align: middle;\n",
       "    }\n",
       "\n",
       "    .dataframe tbody tr th {\n",
       "        vertical-align: top;\n",
       "    }\n",
       "\n",
       "    .dataframe thead th {\n",
       "        text-align: right;\n",
       "    }\n",
       "</style>\n",
       "<table border=\"1\" class=\"dataframe\">\n",
       "  <thead>\n",
       "    <tr style=\"text-align: right;\">\n",
       "      <th></th>\n",
       "      <th>Date</th>\n",
       "      <th>Visitors</th>\n",
       "      <th>Income</th>\n",
       "      <th>Type</th>\n",
       "      <th>Par1</th>\n",
       "    </tr>\n",
       "  </thead>\n",
       "  <tbody>\n",
       "    <tr>\n",
       "      <th>0</th>\n",
       "      <td>2013-01-06</td>\n",
       "      <td>2</td>\n",
       "      <td>39.136707</td>\n",
       "      <td>Regular</td>\n",
       "      <td>-5.789474</td>\n",
       "    </tr>\n",
       "    <tr>\n",
       "      <th>1</th>\n",
       "      <td>2013-01-13</td>\n",
       "      <td>1</td>\n",
       "      <td>27.894806</td>\n",
       "      <td>Regular</td>\n",
       "      <td>-3.684211</td>\n",
       "    </tr>\n",
       "    <tr>\n",
       "      <th>2</th>\n",
       "      <td>2013-01-20</td>\n",
       "      <td>1</td>\n",
       "      <td>16.990417</td>\n",
       "      <td>Regular</td>\n",
       "      <td>3.684211</td>\n",
       "    </tr>\n",
       "    <tr>\n",
       "      <th>3</th>\n",
       "      <td>2013-01-27</td>\n",
       "      <td>2</td>\n",
       "      <td>18.871052</td>\n",
       "      <td>Unique</td>\n",
       "      <td>-0.526316</td>\n",
       "    </tr>\n",
       "    <tr>\n",
       "      <th>4</th>\n",
       "      <td>2013-02-03</td>\n",
       "      <td>2</td>\n",
       "      <td>55.389991</td>\n",
       "      <td>Irregular</td>\n",
       "      <td>-2.631579</td>\n",
       "    </tr>\n",
       "    <tr>\n",
       "      <th>...</th>\n",
       "      <td>...</td>\n",
       "      <td>...</td>\n",
       "      <td>...</td>\n",
       "      <td>...</td>\n",
       "      <td>...</td>\n",
       "    </tr>\n",
       "    <tr>\n",
       "      <th>95</th>\n",
       "      <td>2014-11-02</td>\n",
       "      <td>7</td>\n",
       "      <td>64.887560</td>\n",
       "      <td>Regular</td>\n",
       "      <td>-8.947368</td>\n",
       "    </tr>\n",
       "    <tr>\n",
       "      <th>96</th>\n",
       "      <td>2014-11-09</td>\n",
       "      <td>0</td>\n",
       "      <td>82.476198</td>\n",
       "      <td>Regular</td>\n",
       "      <td>-7.894737</td>\n",
       "    </tr>\n",
       "    <tr>\n",
       "      <th>97</th>\n",
       "      <td>2014-11-16</td>\n",
       "      <td>0</td>\n",
       "      <td>12.668036</td>\n",
       "      <td>Unique</td>\n",
       "      <td>-1.578947</td>\n",
       "    </tr>\n",
       "    <tr>\n",
       "      <th>98</th>\n",
       "      <td>2014-11-23</td>\n",
       "      <td>7</td>\n",
       "      <td>39.070912</td>\n",
       "      <td>Irregular</td>\n",
       "      <td>-0.526316</td>\n",
       "    </tr>\n",
       "    <tr>\n",
       "      <th>99</th>\n",
       "      <td>2014-11-30</td>\n",
       "      <td>0</td>\n",
       "      <td>45.178190</td>\n",
       "      <td>Regular</td>\n",
       "      <td>NaN</td>\n",
       "    </tr>\n",
       "  </tbody>\n",
       "</table>\n",
       "<p>100 rows × 5 columns</p>\n",
       "</div>"
      ],
      "text/plain": [
       "         Date  Visitors     Income       Type      Par1\n",
       "0  2013-01-06         2  39.136707    Regular -5.789474\n",
       "1  2013-01-13         1  27.894806    Regular -3.684211\n",
       "2  2013-01-20         1  16.990417    Regular  3.684211\n",
       "3  2013-01-27         2  18.871052     Unique -0.526316\n",
       "4  2013-02-03         2  55.389991  Irregular -2.631579\n",
       "..        ...       ...        ...        ...       ...\n",
       "95 2014-11-02         7  64.887560    Regular -8.947368\n",
       "96 2014-11-09         0  82.476198    Regular -7.894737\n",
       "97 2014-11-16         0  12.668036     Unique -1.578947\n",
       "98 2014-11-23         7  39.070912  Irregular -0.526316\n",
       "99 2014-11-30         0  45.178190    Regular       NaN\n",
       "\n",
       "[100 rows x 5 columns]"
      ]
     },
     "execution_count": 27,
     "metadata": {},
     "output_type": "execute_result"
    }
   ],
   "source": [
    "df"
   ]
  },
  {
   "cell_type": "code",
   "execution_count": 28,
   "metadata": {
    "slideshow": {
     "slide_type": "fragment"
    }
   },
   "outputs": [
    {
     "data": {
      "image/png": "[encoded data removed]",
      "text/plain": [
       "<Figure size 1080x144 with 3 Axes>"
      ]
     },
     "metadata": {
      "needs_background": "light"
     },
     "output_type": "display_data"
    }
   ],
   "source": [
    "fig, ax = plt.subplots(1,3)\n",
    "fig.set_figwidth(15)\n",
    "fig.set_figheight(2)\n",
    "for i, vColName in enumerate(['Visitors', 'Income','Par1']):\n",
    "    ax[i].boxplot(df[vColName].dropna())\n",
    "    ax[i].set_xlabel(vColName)  \n",
    "    ax[i].legend([round(f(df[vColName].dropna()),2) for f in [min,max,np.mean,np.median]],loc=1)\n",
    "plt.show()"
   ]
  },
  {
   "cell_type": "code",
   "execution_count": 29,
   "metadata": {
    "slideshow": {
     "slide_type": "slide"
    }
   },
   "outputs": [
    {
     "data": {
      "text/html": [
       "<div>\n",
       "<style scoped>\n",
       "    .dataframe tbody tr th:only-of-type {\n",
       "        vertical-align: middle;\n",
       "    }\n",
       "\n",
       "    .dataframe tbody tr th {\n",
       "        vertical-align: top;\n",
       "    }\n",
       "\n",
       "    .dataframe thead th {\n",
       "        text-align: right;\n",
       "    }\n",
       "</style>\n",
       "<table border=\"1\" class=\"dataframe\">\n",
       "  <thead>\n",
       "    <tr style=\"text-align: right;\">\n",
       "      <th></th>\n",
       "      <th>Visitors</th>\n",
       "      <th>Income</th>\n",
       "      <th>Par1</th>\n",
       "    </tr>\n",
       "  </thead>\n",
       "  <tbody>\n",
       "    <tr>\n",
       "      <th>count</th>\n",
       "      <td>100.000000</td>\n",
       "      <td>100.000000</td>\n",
       "      <td>99.000000</td>\n",
       "    </tr>\n",
       "    <tr>\n",
       "      <th>mean</th>\n",
       "      <td>4.340000</td>\n",
       "      <td>50.631312</td>\n",
       "      <td>-0.760234</td>\n",
       "    </tr>\n",
       "    <tr>\n",
       "      <th>std</th>\n",
       "      <td>2.656115</td>\n",
       "      <td>28.073929</td>\n",
       "      <td>6.171930</td>\n",
       "    </tr>\n",
       "    <tr>\n",
       "      <th>min</th>\n",
       "      <td>0.000000</td>\n",
       "      <td>0.781008</td>\n",
       "      <td>-10.000000</td>\n",
       "    </tr>\n",
       "    <tr>\n",
       "      <th>25%</th>\n",
       "      <td>2.000000</td>\n",
       "      <td>28.798334</td>\n",
       "      <td>-6.842105</td>\n",
       "    </tr>\n",
       "    <tr>\n",
       "      <th>50%</th>\n",
       "      <td>4.000000</td>\n",
       "      <td>48.832762</td>\n",
       "      <td>-0.526316</td>\n",
       "    </tr>\n",
       "    <tr>\n",
       "      <th>75%</th>\n",
       "      <td>7.000000</td>\n",
       "      <td>73.872511</td>\n",
       "      <td>3.684211</td>\n",
       "    </tr>\n",
       "    <tr>\n",
       "      <th>max</th>\n",
       "      <td>9.000000</td>\n",
       "      <td>99.693807</td>\n",
       "      <td>10.000000</td>\n",
       "    </tr>\n",
       "  </tbody>\n",
       "</table>\n",
       "</div>"
      ],
      "text/plain": [
       "         Visitors      Income       Par1\n",
       "count  100.000000  100.000000  99.000000\n",
       "mean     4.340000   50.631312  -0.760234\n",
       "std      2.656115   28.073929   6.171930\n",
       "min      0.000000    0.781008 -10.000000\n",
       "25%      2.000000   28.798334  -6.842105\n",
       "50%      4.000000   48.832762  -0.526316\n",
       "75%      7.000000   73.872511   3.684211\n",
       "max      9.000000   99.693807  10.000000"
      ]
     },
     "execution_count": 29,
     "metadata": {},
     "output_type": "execute_result"
    }
   ],
   "source": [
    "df.describe()"
   ]
  },
  {
   "cell_type": "code",
   "execution_count": 30,
   "metadata": {},
   "outputs": [
    {
     "data": {
      "text/html": [
       "<div>\n",
       "<style scoped>\n",
       "    .dataframe tbody tr th:only-of-type {\n",
       "        vertical-align: middle;\n",
       "    }\n",
       "\n",
       "    .dataframe tbody tr th {\n",
       "        vertical-align: top;\n",
       "    }\n",
       "\n",
       "    .dataframe thead th {\n",
       "        text-align: right;\n",
       "    }\n",
       "</style>\n",
       "<table border=\"1\" class=\"dataframe\">\n",
       "  <thead>\n",
       "    <tr style=\"text-align: right;\">\n",
       "      <th></th>\n",
       "      <th>Date</th>\n",
       "      <th>Visitors</th>\n",
       "      <th>Income</th>\n",
       "      <th>Type</th>\n",
       "      <th>Par1</th>\n",
       "    </tr>\n",
       "  </thead>\n",
       "  <tbody>\n",
       "    <tr>\n",
       "      <th>0</th>\n",
       "      <td>2013-01-06</td>\n",
       "      <td>2</td>\n",
       "      <td>39.136707</td>\n",
       "      <td>Regular</td>\n",
       "      <td>-5.789474</td>\n",
       "    </tr>\n",
       "    <tr>\n",
       "      <th>1</th>\n",
       "      <td>2013-01-13</td>\n",
       "      <td>1</td>\n",
       "      <td>27.894806</td>\n",
       "      <td>Regular</td>\n",
       "      <td>-3.684211</td>\n",
       "    </tr>\n",
       "    <tr>\n",
       "      <th>2</th>\n",
       "      <td>2013-01-20</td>\n",
       "      <td>1</td>\n",
       "      <td>16.990417</td>\n",
       "      <td>Regular</td>\n",
       "      <td>3.684211</td>\n",
       "    </tr>\n",
       "    <tr>\n",
       "      <th>3</th>\n",
       "      <td>2013-01-27</td>\n",
       "      <td>2</td>\n",
       "      <td>18.871052</td>\n",
       "      <td>Unique</td>\n",
       "      <td>-0.526316</td>\n",
       "    </tr>\n",
       "    <tr>\n",
       "      <th>4</th>\n",
       "      <td>2013-02-03</td>\n",
       "      <td>2</td>\n",
       "      <td>55.389991</td>\n",
       "      <td>Irregular</td>\n",
       "      <td>-2.631579</td>\n",
       "    </tr>\n",
       "    <tr>\n",
       "      <th>...</th>\n",
       "      <td>...</td>\n",
       "      <td>...</td>\n",
       "      <td>...</td>\n",
       "      <td>...</td>\n",
       "      <td>...</td>\n",
       "    </tr>\n",
       "    <tr>\n",
       "      <th>95</th>\n",
       "      <td>2014-11-02</td>\n",
       "      <td>7</td>\n",
       "      <td>64.887560</td>\n",
       "      <td>Regular</td>\n",
       "      <td>-8.947368</td>\n",
       "    </tr>\n",
       "    <tr>\n",
       "      <th>96</th>\n",
       "      <td>2014-11-09</td>\n",
       "      <td>0</td>\n",
       "      <td>82.476198</td>\n",
       "      <td>Regular</td>\n",
       "      <td>-7.894737</td>\n",
       "    </tr>\n",
       "    <tr>\n",
       "      <th>97</th>\n",
       "      <td>2014-11-16</td>\n",
       "      <td>0</td>\n",
       "      <td>12.668036</td>\n",
       "      <td>Unique</td>\n",
       "      <td>-1.578947</td>\n",
       "    </tr>\n",
       "    <tr>\n",
       "      <th>98</th>\n",
       "      <td>2014-11-23</td>\n",
       "      <td>7</td>\n",
       "      <td>39.070912</td>\n",
       "      <td>Irregular</td>\n",
       "      <td>-0.526316</td>\n",
       "    </tr>\n",
       "    <tr>\n",
       "      <th>99</th>\n",
       "      <td>2014-11-30</td>\n",
       "      <td>0</td>\n",
       "      <td>45.178190</td>\n",
       "      <td>Regular</td>\n",
       "      <td>NaN</td>\n",
       "    </tr>\n",
       "  </tbody>\n",
       "</table>\n",
       "<p>100 rows × 5 columns</p>\n",
       "</div>"
      ],
      "text/plain": [
       "         Date  Visitors     Income       Type      Par1\n",
       "0  2013-01-06         2  39.136707    Regular -5.789474\n",
       "1  2013-01-13         1  27.894806    Regular -3.684211\n",
       "2  2013-01-20         1  16.990417    Regular  3.684211\n",
       "3  2013-01-27         2  18.871052     Unique -0.526316\n",
       "4  2013-02-03         2  55.389991  Irregular -2.631579\n",
       "..        ...       ...        ...        ...       ...\n",
       "95 2014-11-02         7  64.887560    Regular -8.947368\n",
       "96 2014-11-09         0  82.476198    Regular -7.894737\n",
       "97 2014-11-16         0  12.668036     Unique -1.578947\n",
       "98 2014-11-23         7  39.070912  Irregular -0.526316\n",
       "99 2014-11-30         0  45.178190    Regular       NaN\n",
       "\n",
       "[100 rows x 5 columns]"
      ]
     },
     "execution_count": 30,
     "metadata": {},
     "output_type": "execute_result"
    }
   ],
   "source": [
    "df"
   ]
  },
  {
   "cell_type": "markdown",
   "metadata": {},
   "source": [
    "#### groupby"
   ]
  },
  {
   "cell_type": "code",
   "execution_count": 31,
   "metadata": {
    "slideshow": {
     "slide_type": "slide"
    }
   },
   "outputs": [
    {
     "data": {
      "text/plain": [
       "Type\n",
       "Irregular    99.693807\n",
       "Regular      98.640564\n",
       "Unique       99.586717\n",
       "Name: Income, dtype: float64"
      ]
     },
     "execution_count": 31,
     "metadata": {},
     "output_type": "execute_result"
    }
   ],
   "source": [
    "df.groupby('Type')['Income'].max()"
   ]
  },
  {
   "cell_type": "code",
   "execution_count": 32,
   "metadata": {},
   "outputs": [
    {
     "data": {
      "image/png": "[encoded data removed]",
      "text/plain": [
       "<Figure size 432x288 with 1 Axes>"
      ]
     },
     "metadata": {
      "needs_background": "light"
     },
     "output_type": "display_data"
    }
   ],
   "source": [
    "df.groupby('Type')['Income'].max().plot(kind='bar')\n",
    "plt.show()"
   ]
  },
  {
   "cell_type": "code",
   "execution_count": 33,
   "metadata": {
    "slideshow": {
     "slide_type": "slide"
    }
   },
   "outputs": [
    {
     "data": {
      "text/plain": [
       "Type\n",
       "Irregular    1718.992797\n",
       "Regular      1919.324450\n",
       "Unique       1424.813932\n",
       "Name: Income, dtype: float64"
      ]
     },
     "execution_count": 33,
     "metadata": {},
     "output_type": "execute_result"
    }
   ],
   "source": [
    "df.groupby('Type')['Income'].sum()"
   ]
  },
  {
   "cell_type": "markdown",
   "metadata": {},
   "source": [
    "#### crosstab"
   ]
  },
  {
   "cell_type": "markdown",
   "metadata": {},
   "source": [
    "Показывает для двух категориальных типов количество пересечений их значений."
   ]
  },
  {
   "cell_type": "code",
   "execution_count": 34,
   "metadata": {
    "slideshow": {
     "slide_type": "fragment"
    }
   },
   "outputs": [
    {
     "data": {
      "text/html": [
       "<div>\n",
       "<style scoped>\n",
       "    .dataframe tbody tr th:only-of-type {\n",
       "        vertical-align: middle;\n",
       "    }\n",
       "\n",
       "    .dataframe tbody tr th {\n",
       "        vertical-align: top;\n",
       "    }\n",
       "\n",
       "    .dataframe thead th {\n",
       "        text-align: right;\n",
       "    }\n",
       "</style>\n",
       "<table border=\"1\" class=\"dataframe\">\n",
       "  <thead>\n",
       "    <tr style=\"text-align: right;\">\n",
       "      <th>Visitors</th>\n",
       "      <th>0</th>\n",
       "      <th>1</th>\n",
       "      <th>2</th>\n",
       "      <th>3</th>\n",
       "      <th>4</th>\n",
       "      <th>5</th>\n",
       "      <th>6</th>\n",
       "      <th>7</th>\n",
       "      <th>8</th>\n",
       "      <th>9</th>\n",
       "    </tr>\n",
       "    <tr>\n",
       "      <th>Type</th>\n",
       "      <th></th>\n",
       "      <th></th>\n",
       "      <th></th>\n",
       "      <th></th>\n",
       "      <th></th>\n",
       "      <th></th>\n",
       "      <th></th>\n",
       "      <th></th>\n",
       "      <th></th>\n",
       "      <th></th>\n",
       "    </tr>\n",
       "  </thead>\n",
       "  <tbody>\n",
       "    <tr>\n",
       "      <th>Irregular</th>\n",
       "      <td>2</td>\n",
       "      <td>2</td>\n",
       "      <td>3</td>\n",
       "      <td>4</td>\n",
       "      <td>4</td>\n",
       "      <td>4</td>\n",
       "      <td>3</td>\n",
       "      <td>5</td>\n",
       "      <td>7</td>\n",
       "      <td>3</td>\n",
       "    </tr>\n",
       "    <tr>\n",
       "      <th>Regular</th>\n",
       "      <td>4</td>\n",
       "      <td>5</td>\n",
       "      <td>5</td>\n",
       "      <td>2</td>\n",
       "      <td>5</td>\n",
       "      <td>3</td>\n",
       "      <td>3</td>\n",
       "      <td>5</td>\n",
       "      <td>3</td>\n",
       "      <td>1</td>\n",
       "    </tr>\n",
       "    <tr>\n",
       "      <th>Unique</th>\n",
       "      <td>2</td>\n",
       "      <td>1</td>\n",
       "      <td>8</td>\n",
       "      <td>3</td>\n",
       "      <td>3</td>\n",
       "      <td>2</td>\n",
       "      <td>5</td>\n",
       "      <td>2</td>\n",
       "      <td>1</td>\n",
       "      <td>0</td>\n",
       "    </tr>\n",
       "  </tbody>\n",
       "</table>\n",
       "</div>"
      ],
      "text/plain": [
       "Visitors   0  1  2  3  4  5  6  7  8  9\n",
       "Type                                   \n",
       "Irregular  2  2  3  4  4  4  3  5  7  3\n",
       "Regular    4  5  5  2  5  3  3  5  3  1\n",
       "Unique     2  1  8  3  3  2  5  2  1  0"
      ]
     },
     "execution_count": 34,
     "metadata": {},
     "output_type": "execute_result"
    }
   ],
   "source": [
    "pd.crosstab(df['Type'], df['Visitors'])"
   ]
  },
  {
   "cell_type": "markdown",
   "metadata": {},
   "source": [
    "#### pivot_table"
   ]
  },
  {
   "cell_type": "markdown",
   "metadata": {},
   "source": [
    "Строит агрегирующие статистические таблицы - столбцы и колонки объединяются в группы по определенным признакам и для этих групп вычисляются агрегационные функции (сумма, минимум, максимум всех значений в группе и т.п.)"
   ]
  },
  {
   "cell_type": "code",
   "execution_count": 35,
   "metadata": {},
   "outputs": [
    {
     "data": {
      "text/html": [
       "<div>\n",
       "<style scoped>\n",
       "    .dataframe tbody tr th:only-of-type {\n",
       "        vertical-align: middle;\n",
       "    }\n",
       "\n",
       "    .dataframe tbody tr th {\n",
       "        vertical-align: top;\n",
       "    }\n",
       "\n",
       "    .dataframe thead th {\n",
       "        text-align: right;\n",
       "    }\n",
       "</style>\n",
       "<table border=\"1\" class=\"dataframe\">\n",
       "  <thead>\n",
       "    <tr style=\"text-align: right;\">\n",
       "      <th></th>\n",
       "      <th>Date</th>\n",
       "      <th>Visitors</th>\n",
       "      <th>Income</th>\n",
       "      <th>Type</th>\n",
       "      <th>Par1</th>\n",
       "    </tr>\n",
       "  </thead>\n",
       "  <tbody>\n",
       "    <tr>\n",
       "      <th>0</th>\n",
       "      <td>2013-01-06</td>\n",
       "      <td>2</td>\n",
       "      <td>39.136707</td>\n",
       "      <td>Regular</td>\n",
       "      <td>-5.789474</td>\n",
       "    </tr>\n",
       "    <tr>\n",
       "      <th>1</th>\n",
       "      <td>2013-01-13</td>\n",
       "      <td>1</td>\n",
       "      <td>27.894806</td>\n",
       "      <td>Regular</td>\n",
       "      <td>-3.684211</td>\n",
       "    </tr>\n",
       "    <tr>\n",
       "      <th>2</th>\n",
       "      <td>2013-01-20</td>\n",
       "      <td>1</td>\n",
       "      <td>16.990417</td>\n",
       "      <td>Regular</td>\n",
       "      <td>3.684211</td>\n",
       "    </tr>\n",
       "    <tr>\n",
       "      <th>3</th>\n",
       "      <td>2013-01-27</td>\n",
       "      <td>2</td>\n",
       "      <td>18.871052</td>\n",
       "      <td>Unique</td>\n",
       "      <td>-0.526316</td>\n",
       "    </tr>\n",
       "    <tr>\n",
       "      <th>4</th>\n",
       "      <td>2013-02-03</td>\n",
       "      <td>2</td>\n",
       "      <td>55.389991</td>\n",
       "      <td>Irregular</td>\n",
       "      <td>-2.631579</td>\n",
       "    </tr>\n",
       "    <tr>\n",
       "      <th>...</th>\n",
       "      <td>...</td>\n",
       "      <td>...</td>\n",
       "      <td>...</td>\n",
       "      <td>...</td>\n",
       "      <td>...</td>\n",
       "    </tr>\n",
       "    <tr>\n",
       "      <th>95</th>\n",
       "      <td>2014-11-02</td>\n",
       "      <td>7</td>\n",
       "      <td>64.887560</td>\n",
       "      <td>Regular</td>\n",
       "      <td>-8.947368</td>\n",
       "    </tr>\n",
       "    <tr>\n",
       "      <th>96</th>\n",
       "      <td>2014-11-09</td>\n",
       "      <td>0</td>\n",
       "      <td>82.476198</td>\n",
       "      <td>Regular</td>\n",
       "      <td>-7.894737</td>\n",
       "    </tr>\n",
       "    <tr>\n",
       "      <th>97</th>\n",
       "      <td>2014-11-16</td>\n",
       "      <td>0</td>\n",
       "      <td>12.668036</td>\n",
       "      <td>Unique</td>\n",
       "      <td>-1.578947</td>\n",
       "    </tr>\n",
       "    <tr>\n",
       "      <th>98</th>\n",
       "      <td>2014-11-23</td>\n",
       "      <td>7</td>\n",
       "      <td>39.070912</td>\n",
       "      <td>Irregular</td>\n",
       "      <td>-0.526316</td>\n",
       "    </tr>\n",
       "    <tr>\n",
       "      <th>99</th>\n",
       "      <td>2014-11-30</td>\n",
       "      <td>0</td>\n",
       "      <td>45.178190</td>\n",
       "      <td>Regular</td>\n",
       "      <td>NaN</td>\n",
       "    </tr>\n",
       "  </tbody>\n",
       "</table>\n",
       "<p>100 rows × 5 columns</p>\n",
       "</div>"
      ],
      "text/plain": [
       "         Date  Visitors     Income       Type      Par1\n",
       "0  2013-01-06         2  39.136707    Regular -5.789474\n",
       "1  2013-01-13         1  27.894806    Regular -3.684211\n",
       "2  2013-01-20         1  16.990417    Regular  3.684211\n",
       "3  2013-01-27         2  18.871052     Unique -0.526316\n",
       "4  2013-02-03         2  55.389991  Irregular -2.631579\n",
       "..        ...       ...        ...        ...       ...\n",
       "95 2014-11-02         7  64.887560    Regular -8.947368\n",
       "96 2014-11-09         0  82.476198    Regular -7.894737\n",
       "97 2014-11-16         0  12.668036     Unique -1.578947\n",
       "98 2014-11-23         7  39.070912  Irregular -0.526316\n",
       "99 2014-11-30         0  45.178190    Regular       NaN\n",
       "\n",
       "[100 rows x 5 columns]"
      ]
     },
     "execution_count": 35,
     "metadata": {},
     "output_type": "execute_result"
    }
   ],
   "source": [
    "df"
   ]
  },
  {
   "cell_type": "markdown",
   "metadata": {},
   "source": [
    "Найти сумму выручки ('Income') для конкретных значений Type и Visitor."
   ]
  },
  {
   "cell_type": "code",
   "execution_count": 36,
   "metadata": {
    "slideshow": {
     "slide_type": "slide"
    }
   },
   "outputs": [
    {
     "data": {
      "text/html": [
       "<div>\n",
       "<style scoped>\n",
       "    .dataframe tbody tr th:only-of-type {\n",
       "        vertical-align: middle;\n",
       "    }\n",
       "\n",
       "    .dataframe tbody tr th {\n",
       "        vertical-align: top;\n",
       "    }\n",
       "\n",
       "    .dataframe thead tr th {\n",
       "        text-align: left;\n",
       "    }\n",
       "\n",
       "    .dataframe thead tr:last-of-type th {\n",
       "        text-align: right;\n",
       "    }\n",
       "</style>\n",
       "<table border=\"1\" class=\"dataframe\">\n",
       "  <thead>\n",
       "    <tr>\n",
       "      <th></th>\n",
       "      <th colspan=\"10\" halign=\"left\">sum</th>\n",
       "    </tr>\n",
       "    <tr>\n",
       "      <th>Visitors</th>\n",
       "      <th>0</th>\n",
       "      <th>1</th>\n",
       "      <th>2</th>\n",
       "      <th>3</th>\n",
       "      <th>4</th>\n",
       "      <th>5</th>\n",
       "      <th>6</th>\n",
       "      <th>7</th>\n",
       "      <th>8</th>\n",
       "      <th>9</th>\n",
       "    </tr>\n",
       "    <tr>\n",
       "      <th>Type</th>\n",
       "      <th></th>\n",
       "      <th></th>\n",
       "      <th></th>\n",
       "      <th></th>\n",
       "      <th></th>\n",
       "      <th></th>\n",
       "      <th></th>\n",
       "      <th></th>\n",
       "      <th></th>\n",
       "      <th></th>\n",
       "    </tr>\n",
       "  </thead>\n",
       "  <tbody>\n",
       "    <tr>\n",
       "      <th>Irregular</th>\n",
       "      <td>94.146354</td>\n",
       "      <td>109.736945</td>\n",
       "      <td>165.818560</td>\n",
       "      <td>215.047388</td>\n",
       "      <td>182.601961</td>\n",
       "      <td>174.853002</td>\n",
       "      <td>108.516526</td>\n",
       "      <td>239.754885</td>\n",
       "      <td>247.603981</td>\n",
       "      <td>180.913195</td>\n",
       "    </tr>\n",
       "    <tr>\n",
       "      <th>Regular</th>\n",
       "      <td>226.133619</td>\n",
       "      <td>300.649600</td>\n",
       "      <td>240.045705</td>\n",
       "      <td>73.618663</td>\n",
       "      <td>392.667527</td>\n",
       "      <td>127.377172</td>\n",
       "      <td>80.357414</td>\n",
       "      <td>207.402395</td>\n",
       "      <td>229.638017</td>\n",
       "      <td>41.434338</td>\n",
       "    </tr>\n",
       "    <tr>\n",
       "      <th>Unique</th>\n",
       "      <td>48.967510</td>\n",
       "      <td>74.236489</td>\n",
       "      <td>440.433850</td>\n",
       "      <td>191.353188</td>\n",
       "      <td>175.859710</td>\n",
       "      <td>191.293017</td>\n",
       "      <td>173.235193</td>\n",
       "      <td>103.935843</td>\n",
       "      <td>25.499133</td>\n",
       "      <td>0.000000</td>\n",
       "    </tr>\n",
       "  </tbody>\n",
       "</table>\n",
       "</div>"
      ],
      "text/plain": [
       "                  sum                                                  \\\n",
       "Visitors            0           1           2           3           4   \n",
       "Type                                                                    \n",
       "Irregular   94.146354  109.736945  165.818560  215.047388  182.601961   \n",
       "Regular    226.133619  300.649600  240.045705   73.618663  392.667527   \n",
       "Unique      48.967510   74.236489  440.433850  191.353188  175.859710   \n",
       "\n",
       "                                                                       \n",
       "Visitors            5           6           7           8           9  \n",
       "Type                                                                   \n",
       "Irregular  174.853002  108.516526  239.754885  247.603981  180.913195  \n",
       "Regular    127.377172   80.357414  207.402395  229.638017   41.434338  \n",
       "Unique     191.293017  173.235193  103.935843   25.499133    0.000000  "
      ]
     },
     "execution_count": 36,
     "metadata": {},
     "output_type": "execute_result"
    }
   ],
   "source": [
    "df.pivot_table(index='Type', columns='Visitors', values='Income', aggfunc={np.sum}, fill_value=0)"
   ]
  },
  {
   "cell_type": "markdown",
   "metadata": {
    "slideshow": {
     "slide_type": "fragment"
    }
   },
   "source": [
    "<a href='#toc'>Назад к Оглавлению</a>"
   ]
  },
  {
   "cell_type": "markdown",
   "metadata": {
    "slideshow": {
     "slide_type": "slide"
    }
   },
   "source": [
    "## Выявление в данных взаимосвязей, кластеров <a name='connections'></a>"
   ]
  },
  {
   "cell_type": "markdown",
   "metadata": {},
   "source": [
    "#### Парадокс Симпсона"
   ]
  },
  {
   "cell_type": "markdown",
   "metadata": {},
   "source": [
    "Выявленные закономерности в отдельных частях выборки могут коренным образом отличаться от аналогичных закономерностей для всей выборки, что может вводить исследователей данных в заблуждение. Ниже пример, когда для каждой из двух частей (синей и желтой) выборки корреляция отрицательная, а в целом для выборки (зеленая) - положительная."
   ]
  },
  {
   "cell_type": "code",
   "execution_count": 37,
   "metadata": {
    "slideshow": {
     "slide_type": "fragment"
    }
   },
   "outputs": [
    {
     "data": {
      "image/png": "[encoded data removed]",
      "text/plain": [
       "<Figure size 432x288 with 1 Axes>"
      ]
     },
     "metadata": {
      "needs_background": "light"
     },
     "output_type": "display_data"
    }
   ],
   "source": [
    "np.random.seed(7)\n",
    "Yellows = np.random.random(size=(10,2))+1\n",
    "Blues = np.random.random(size=(10,2))+2\n",
    "Greens = np.r_[Yellows, Blues]\n",
    "plt.scatter(Yellows[:, 0], Yellows[:, 1], color=\"y\", s=200)\n",
    "plt.scatter(Blues[:, 0], Blues[:, 1], color=\"b\", s=200)\n",
    "plt.scatter(Greens[:, 0], Greens[:, 1], color=\"g\")\n",
    "plt.show()"
   ]
  },
  {
   "cell_type": "code",
   "execution_count": 38,
   "metadata": {
    "slideshow": {
     "slide_type": "fragment"
    }
   },
   "outputs": [
    {
     "data": {
      "image/png": "[encoded data removed]",
      "text/plain": [
       "<Figure size 432x288 with 1 Axes>"
      ]
     },
     "metadata": {
      "needs_background": "light"
     },
     "output_type": "display_data"
    }
   ],
   "source": [
    "plt.scatter(Yellows[:, 0], Yellows[:, 1], color=\"y\", s=200)\n",
    "plt.scatter(Blues[:, 0], Blues[:, 1], color=\"b\", s=200)\n",
    "plt.scatter(Greens[:, 0], Greens[:, 1], color=\"g\", s=50)\n",
    "\n",
    "model = LinearRegression()\n",
    "\n",
    "model.fit(Blues[:, 0].reshape(-1, 1), Blues[:, 1])\n",
    "plt.plot(Blues[:, 0], model.predict(Blues[:, 0].reshape(-1,1)), color=\"b\")\n",
    "\n",
    "model.fit(Yellows[:, 0].reshape(-1, 1), Yellows[:, 1])\n",
    "plt.plot(Yellows[:, 0], model.predict(Yellows[:, 0].reshape(-1, 1)), color=\"y\")\n",
    "\n",
    "model.fit(Greens[:, 0].reshape(-1, 1), Greens[:, 1])\n",
    "plt.plot(Greens[:, 0], model.predict(Greens[:, 0].reshape(-1, 1)), color=\"g\")\n",
    "\n",
    "plt.show()"
   ]
  },
  {
   "cell_type": "markdown",
   "metadata": {},
   "source": [
    "#### Корреляция"
   ]
  },
  {
   "cell_type": "markdown",
   "metadata": {},
   "source": [
    "Показывает линейную взаимосвязь между отдельными столбцами данных."
   ]
  },
  {
   "cell_type": "code",
   "execution_count": 39,
   "metadata": {
    "slideshow": {
     "slide_type": "slide"
    }
   },
   "outputs": [
    {
     "data": {
      "text/html": [
       "<div>\n",
       "<style scoped>\n",
       "    .dataframe tbody tr th:only-of-type {\n",
       "        vertical-align: middle;\n",
       "    }\n",
       "\n",
       "    .dataframe tbody tr th {\n",
       "        vertical-align: top;\n",
       "    }\n",
       "\n",
       "    .dataframe thead th {\n",
       "        text-align: right;\n",
       "    }\n",
       "</style>\n",
       "<table border=\"1\" class=\"dataframe\">\n",
       "  <thead>\n",
       "    <tr style=\"text-align: right;\">\n",
       "      <th></th>\n",
       "      <th>Visitors</th>\n",
       "      <th>Income</th>\n",
       "      <th>Par1</th>\n",
       "    </tr>\n",
       "  </thead>\n",
       "  <tbody>\n",
       "    <tr>\n",
       "      <th>Visitors</th>\n",
       "      <td>1.000000</td>\n",
       "      <td>-0.112597</td>\n",
       "      <td>0.215767</td>\n",
       "    </tr>\n",
       "    <tr>\n",
       "      <th>Income</th>\n",
       "      <td>-0.112597</td>\n",
       "      <td>1.000000</td>\n",
       "      <td>0.030688</td>\n",
       "    </tr>\n",
       "    <tr>\n",
       "      <th>Par1</th>\n",
       "      <td>0.215767</td>\n",
       "      <td>0.030688</td>\n",
       "      <td>1.000000</td>\n",
       "    </tr>\n",
       "  </tbody>\n",
       "</table>\n",
       "</div>"
      ],
      "text/plain": [
       "          Visitors    Income      Par1\n",
       "Visitors  1.000000 -0.112597  0.215767\n",
       "Income   -0.112597  1.000000  0.030688\n",
       "Par1      0.215767  0.030688  1.000000"
      ]
     },
     "execution_count": 39,
     "metadata": {},
     "output_type": "execute_result"
    }
   ],
   "source": [
    "df.corr()"
   ]
  },
  {
   "cell_type": "code",
   "execution_count": 40,
   "metadata": {
    "slideshow": {
     "slide_type": "fragment"
    }
   },
   "outputs": [
    {
     "data": {
      "image/png": "[encoded data removed]",
      "text/plain": [
       "<Figure size 432x288 with 2 Axes>"
      ]
     },
     "metadata": {
      "needs_background": "light"
     },
     "output_type": "display_data"
    }
   ],
   "source": [
    "sns.heatmap(df.corr(), annot=True)\n",
    "plt.show()"
   ]
  },
  {
   "cell_type": "markdown",
   "metadata": {
    "slideshow": {
     "slide_type": "fragment"
    }
   },
   "source": [
    "<a href='#toc'>Назад к Оглавлению</a>"
   ]
  },
  {
   "cell_type": "markdown",
   "metadata": {
    "slideshow": {
     "slide_type": "slide"
    }
   },
   "source": [
    "## Анализ аномалий - причина, повторяемость, угроза для выборки <a name='anomaly'>\n"
   ]
  },
  {
   "cell_type": "markdown",
   "metadata": {},
   "source": [
    "#### pyplot.boxplot"
   ]
  },
  {
   "cell_type": "markdown",
   "metadata": {},
   "source": [
    "Удобное средство визуализации данных. Можно увидеть минимум, максимум, медиану, 25% и 75% перцентили, выбросы."
   ]
  },
  {
   "cell_type": "code",
   "execution_count": 41,
   "metadata": {
    "slideshow": {
     "slide_type": "slide"
    }
   },
   "outputs": [
    {
     "data": {
      "image/png": "[encoded data removed]",
      "text/plain": [
       "<Figure size 720x72 with 1 Axes>"
      ]
     },
     "metadata": {
      "needs_background": "light"
     },
     "output_type": "display_data"
    }
   ],
   "source": [
    "spikes = [-25, 25]\n",
    "x = np.r_[np.random.randint(low=-10, high=10, size=100), spikes]\n",
    "\n",
    "plt.figure(figsize=(10,1))\n",
    "plt.boxplot(x, vert=False)\n",
    "plt.xticks(np.arange(x.min(), x.max()+1, 5))\n",
    "plt.grid(True)\n",
    "plt.show()"
   ]
  },
  {
   "cell_type": "markdown",
   "metadata": {},
   "source": [
    "#### Влияние выбросов на качество модели"
   ]
  },
  {
   "cell_type": "markdown",
   "metadata": {},
   "source": [
    "Причиной выброса может быть неисправность прибора, ошибка измерения и т.п. В том случае если значение выброса существенно отличается от остальных значений - он может сильно исказить общую картину."
   ]
  },
  {
   "cell_type": "code",
   "execution_count": 42,
   "metadata": {
    "slideshow": {
     "slide_type": "slide"
    }
   },
   "outputs": [
    {
     "data": {
      "image/png": "[encoded data removed]",
      "text/plain": [
       "<Figure size 432x288 with 1 Axes>"
      ]
     },
     "metadata": {
      "needs_background": "light"
     },
     "output_type": "display_data"
    }
   ],
   "source": [
    "xs = np.linspace(0, 10, 10)\n",
    "ys = xs**2 + 3*np.random.random(10)\n",
    "\n",
    "model = LinearRegression()\n",
    "xs_poly = PolynomialFeatures(2).fit_transform(xs.reshape(-1,1))\n",
    "model.fit(xs_poly, ys)\n",
    "result = model.predict(xs_poly)\n",
    "\n",
    "plt.scatter(xs, ys, c='b', s=150)\n",
    "plt.plot(xs, result, c='b')\n",
    "\n",
    "\n",
    "ys[3] = 200\n",
    "xs_poly = PolynomialFeatures(2).fit_transform(xs.reshape(-1,1))\n",
    "model.fit(xs_poly, ys)\n",
    "result = model.predict(xs_poly)\n",
    "\n",
    "plt.scatter(xs, ys, c='r')\n",
    "plt.plot(xs, result, c='r')\n",
    "\n",
    "plt.grid(True)\n",
    "plt.show()"
   ]
  },
  {
   "cell_type": "markdown",
   "metadata": {},
   "source": [
    "В зависимости от конкретной ситуации выбросы можно удалять из общей выборки, заменять средним значением, применять логарифмирование, либо добавлять специальный признак выброса, чтобы информировать модель."
   ]
  },
  {
   "cell_type": "markdown",
   "metadata": {
    "slideshow": {
     "slide_type": "fragment"
    }
   },
   "source": [
    "<a href='#toc'>Назад к Оглавлению</a>"
   ]
  },
  {
   "cell_type": "markdown",
   "metadata": {
    "slideshow": {
     "slide_type": "slide"
    }
   },
   "source": [
    "## Шкалирование признаков <a name='scale'></a>"
   ]
  },
  {
   "cell_type": "markdown",
   "metadata": {},
   "source": [
    "Масштабирование значений признаков (шаклирование) необходимо для большинства моделей для того, чтобы привести значения разных признаков к одной шкале."
   ]
  },
  {
   "cell_type": "markdown",
   "metadata": {},
   "source": [
    "#### Заменить значения из диапазона (0,100) значениями из диапазона (0,10)"
   ]
  },
  {
   "cell_type": "code",
   "execution_count": 43,
   "metadata": {},
   "outputs": [
    {
     "name": "stdout",
     "output_type": "stream",
     "text": [
      "[38 13 73 10 76  6 80 65 17  2]\n",
      "[ 4.62  1.41  9.1   1.03  9.49  0.51 10.    8.08  1.92  0.  ]\n"
     ]
    }
   ],
   "source": [
    "np.random.seed(1)\n",
    "a = np.random.randint(1, 101, 10)\n",
    "print(a)\n",
    "\n",
    "# sklearn.preprocessing.MinMaxScaler()\n",
    "minmax_scale = MinMaxScaler(feature_range=(0,10))\n",
    "a_scaled = minmax_scale.fit_transform(a.reshape(-1,1))\n",
    "print(np.round(a_scaled.ravel(),2))"
   ]
  },
  {
   "cell_type": "markdown",
   "metadata": {},
   "source": [
    "#### Преобразовать данные, чтобы среднее значение было 0, а дисперсия - 1"
   ]
  },
  {
   "cell_type": "code",
   "execution_count": 44,
   "metadata": {},
   "outputs": [
    {
     "data": {
      "image/png": "[encoded data removed]",
      "text/plain": [
       "<Figure size 432x288 with 1 Axes>"
      ]
     },
     "metadata": {
      "needs_background": "light"
     },
     "output_type": "display_data"
    }
   ],
   "source": [
    "plt.bar([i for i in range(len(a))], a)\n",
    "plt.show()"
   ]
  },
  {
   "cell_type": "code",
   "execution_count": 45,
   "metadata": {},
   "outputs": [],
   "source": [
    "# sklearn.preprocessing.StandardScaler()\n",
    "a_norm_scaled = StandardScaler().fit_transform(a.reshape(-1,1))"
   ]
  },
  {
   "cell_type": "code",
   "execution_count": 46,
   "metadata": {},
   "outputs": [
    {
     "data": {
      "text/plain": [
       "<BarContainer object of 10 artists>"
      ]
     },
     "execution_count": 46,
     "metadata": {},
     "output_type": "execute_result"
    },
    {
     "data": {
      "image/png": "[encoded data removed]",
      "text/plain": [
       "<Figure size 432x288 with 1 Axes>"
      ]
     },
     "metadata": {
      "needs_background": "light"
     },
     "output_type": "display_data"
    }
   ],
   "source": [
    "plt.bar([i for i in range(len(a))], a_norm_scaled.flatten())"
   ]
  },
  {
   "cell_type": "code",
   "execution_count": 47,
   "metadata": {},
   "outputs": [
    {
     "data": {
      "image/png": "[encoded data removed]",
      "text/plain": [
       "<Figure size 402.25x360 with 1 Axes>"
      ]
     },
     "metadata": {
      "needs_background": "light"
     },
     "output_type": "display_data"
    }
   ],
   "source": [
    "sns_plot = sns.displot(a_norm_scaled)"
   ]
  },
  {
   "cell_type": "markdown",
   "metadata": {
    "slideshow": {
     "slide_type": "fragment"
    }
   },
   "source": [
    "<a href='#toc'>Назад к Оглавлению</a>"
   ]
  },
  {
   "cell_type": "markdown",
   "metadata": {
    "slideshow": {
     "slide_type": "slide"
    }
   },
   "source": [
    "## Выявление наиболее актуальных параметров <a name='importance'></a>\n"
   ]
  },
  {
   "cell_type": "markdown",
   "metadata": {},
   "source": [
    "Некоторые признаки оказывают на моделируемый процесс существенно меньшее влияние, чем остальные. Иногда целесообразно отказаться от части признаков (столбцов данных) с назначительной потерей качества, но значительным выигрышем в скорости вычислений."
   ]
  },
  {
   "cell_type": "code",
   "execution_count": 48,
   "metadata": {},
   "outputs": [],
   "source": [
    "from sklearn.datasets import load_iris"
   ]
  },
  {
   "cell_type": "code",
   "execution_count": 49,
   "metadata": {},
   "outputs": [
    {
     "data": {
      "text/plain": [
       "['DESCR',\n",
       " 'data',\n",
       " 'feature_names',\n",
       " 'filename',\n",
       " 'frame',\n",
       " 'target',\n",
       " 'target_names']"
      ]
     },
     "execution_count": 49,
     "metadata": {},
     "output_type": "execute_result"
    }
   ],
   "source": [
    "data = load_iris()\n",
    "dir(data)"
   ]
  },
  {
   "cell_type": "code",
   "execution_count": 50,
   "metadata": {},
   "outputs": [
    {
     "data": {
      "text/html": [
       "<div>\n",
       "<style scoped>\n",
       "    .dataframe tbody tr th:only-of-type {\n",
       "        vertical-align: middle;\n",
       "    }\n",
       "\n",
       "    .dataframe tbody tr th {\n",
       "        vertical-align: top;\n",
       "    }\n",
       "\n",
       "    .dataframe thead th {\n",
       "        text-align: right;\n",
       "    }\n",
       "</style>\n",
       "<table border=\"1\" class=\"dataframe\">\n",
       "  <thead>\n",
       "    <tr style=\"text-align: right;\">\n",
       "      <th></th>\n",
       "      <th>sepal length (cm)</th>\n",
       "      <th>sepal width (cm)</th>\n",
       "      <th>petal length (cm)</th>\n",
       "      <th>petal width (cm)</th>\n",
       "    </tr>\n",
       "  </thead>\n",
       "  <tbody>\n",
       "    <tr>\n",
       "      <th>0</th>\n",
       "      <td>5.1</td>\n",
       "      <td>3.5</td>\n",
       "      <td>1.4</td>\n",
       "      <td>0.2</td>\n",
       "    </tr>\n",
       "    <tr>\n",
       "      <th>1</th>\n",
       "      <td>4.9</td>\n",
       "      <td>3.0</td>\n",
       "      <td>1.4</td>\n",
       "      <td>0.2</td>\n",
       "    </tr>\n",
       "    <tr>\n",
       "      <th>2</th>\n",
       "      <td>4.7</td>\n",
       "      <td>3.2</td>\n",
       "      <td>1.3</td>\n",
       "      <td>0.2</td>\n",
       "    </tr>\n",
       "  </tbody>\n",
       "</table>\n",
       "</div>"
      ],
      "text/plain": [
       "   sepal length (cm)  sepal width (cm)  petal length (cm)  petal width (cm)\n",
       "0                5.1               3.5                1.4               0.2\n",
       "1                4.9               3.0                1.4               0.2\n",
       "2                4.7               3.2                1.3               0.2"
      ]
     },
     "execution_count": 50,
     "metadata": {},
     "output_type": "execute_result"
    }
   ],
   "source": [
    "pd.DataFrame(data.data, columns=data.feature_names).head(3)"
   ]
  },
  {
   "cell_type": "code",
   "execution_count": 51,
   "metadata": {},
   "outputs": [
    {
     "data": {
      "text/plain": [
       "((105, 4), (45, 4), (105,), (45,))"
      ]
     },
     "execution_count": 51,
     "metadata": {},
     "output_type": "execute_result"
    }
   ],
   "source": [
    "X_train, X_test, y_train, y_test = train_test_split(data.data, data.target, \n",
    "                                                    test_size=0.3, shuffle=True, \n",
    "                                                    stratify=data.target,\n",
    "                                                    random_state=1)\n",
    "X_train.shape, X_test.shape, y_train.shape, y_test.shape"
   ]
  },
  {
   "cell_type": "code",
   "execution_count": 52,
   "metadata": {},
   "outputs": [
    {
     "data": {
      "image/png": "[encoded data removed]",
      "text/plain": [
       "<Figure size 432x288 with 1 Axes>"
      ]
     },
     "metadata": {
      "needs_background": "light"
     },
     "output_type": "display_data"
    },
    {
     "name": "stdout",
     "output_type": "stream",
     "text": [
      "[0.01904762 0.         0.92172619 0.05922619]\n",
      "0.9777777777777777\n"
     ]
    }
   ],
   "source": [
    "model = DecisionTreeClassifier(random_state=42).fit(X_train, y_train)\n",
    "plt.bar(x=range(4), height=model.feature_importances_)\n",
    "plt.xticks(range(4))\n",
    "plt.show()\n",
    "print(model.feature_importances_)\n",
    "print(model.score(X_test, y_test))"
   ]
  },
  {
   "cell_type": "code",
   "execution_count": 53,
   "metadata": {},
   "outputs": [
    {
     "name": "stdout",
     "output_type": "stream",
     "text": [
      "0.9111111111111111\n"
     ]
    }
   ],
   "source": [
    "model = DecisionTreeClassifier(random_state=42).fit(X_train[:,2].reshape(-1,1), y_train)\n",
    "plt.show()\n",
    "print(model.score(X_test[:,2].reshape(-1,1), y_test))"
   ]
  },
  {
   "cell_type": "markdown",
   "metadata": {
    "slideshow": {
     "slide_type": "fragment"
    }
   },
   "source": [
    "<a href='#toc'>Назад к Оглавлению</a>"
   ]
  },
  {
   "cell_type": "markdown",
   "metadata": {},
   "source": [
    "## Комбинирование признаков, конструирование новых признаков <a name='combination'></a>"
   ]
  },
  {
   "cell_type": "markdown",
   "metadata": {},
   "source": [
    "#### Линейные комбинации признаков\n",
    "\n",
    "Иногда полезно из имеющихся признаков составить новые, используя различные математические операции: сложение, вычитание, деление, умножение на константу, вычисление экспоненты, логарифмирование."
   ]
  },
  {
   "cell_type": "code",
   "execution_count": 54,
   "metadata": {},
   "outputs": [
    {
     "data": {
      "image/png": "[encoded data removed]",
      "text/plain": [
       "<Figure size 432x288 with 1 Axes>"
      ]
     },
     "metadata": {
      "needs_background": "light"
     },
     "output_type": "display_data"
    }
   ],
   "source": [
    "xs = np.linspace(0, 10, 10)\n",
    "ys = xs**3 + np.random.random(10)*2\n",
    "\n",
    "model = LinearRegression()\n",
    "model.fit(xs.reshape(-1,1), ys)\n",
    "result1 = model.predict(xs.reshape(-1,1))\n",
    "\n",
    "xs_poly = PolynomialFeatures(3).fit_transform(xs.reshape(-1,1))\n",
    "model.fit(xs_poly, ys)\n",
    "result2 = model.predict(xs_poly)\n",
    "\n",
    "plt.plot(xs, xs**3, c='b')\n",
    "plt.scatter(xs, result1, c='r')\n",
    "plt.scatter(xs, result2, c='g')\n",
    "\n",
    "plt.show()"
   ]
  },
  {
   "cell_type": "code",
   "execution_count": 55,
   "metadata": {},
   "outputs": [],
   "source": [
    "#preprocessing.FunctionTransformer"
   ]
  },
  {
   "cell_type": "markdown",
   "metadata": {},
   "source": [
    "#### Группировка признаков с помощью кластеризации"
   ]
  },
  {
   "cell_type": "code",
   "execution_count": 56,
   "metadata": {},
   "outputs": [],
   "source": [
    "from sklearn.cluster import KMeans"
   ]
  },
  {
   "cell_type": "code",
   "execution_count": 57,
   "metadata": {},
   "outputs": [
    {
     "name": "stdout",
     "output_type": "stream",
     "text": [
      "[88 88 95 97 87 14 10  8 64 62]\n",
      "[1 1 1 1 1 0 0 0 2 2]\n"
     ]
    }
   ],
   "source": [
    "a = np.array([np.random.randint(1,100) for _ in range(10)])\n",
    "print(a)\n",
    "print(KMeans(3).fit(a.reshape(-1,1)).predict(a.reshape(-1,1)))"
   ]
  },
  {
   "cell_type": "markdown",
   "metadata": {
    "slideshow": {
     "slide_type": "fragment"
    }
   },
   "source": [
    "<a href='#toc'>Назад к Оглавлению</a>"
   ]
  },
  {
   "cell_type": "markdown",
   "metadata": {
    "slideshow": {
     "slide_type": "slide"
    }
   },
   "source": [
    "## Проверка основных гипотез <a name='gipotese'></a>\n",
    "\n",
    "<ol>\n",
    "    <li>Критерий Пирсона</li>\n",
    "    <li>Проверка законов распределения</li>\n",
    "    <li>A/B тестирование</li>\n",
    "</ol>"
   ]
  },
  {
   "cell_type": "code",
   "execution_count": 58,
   "metadata": {
    "slideshow": {
     "slide_type": "slide"
    }
   },
   "outputs": [
    {
     "name": "stdout",
     "output_type": "stream",
     "text": [
      "0.9086103518715262 0.0002729757433239503\n"
     ]
    }
   ],
   "source": [
    "from scipy.stats import pearsonr\n",
    "# тест корреляции Пирсона\n",
    "corr, p = pearsonr(xs, ys)\n",
    "print(corr, p)"
   ]
  },
  {
   "cell_type": "code",
   "execution_count": 59,
   "metadata": {
    "slideshow": {
     "slide_type": "slide"
    }
   },
   "outputs": [
    {
     "name": "stdout",
     "output_type": "stream",
     "text": [
      "-2.509612863424833 0.021866443220159848\n"
     ]
    }
   ],
   "source": [
    "# тест Стьюдента (различие образцов)\n",
    "from scipy.stats import ttest_ind\n",
    "stat, p = ttest_ind(xs, ys)\n",
    "print(stat, p)"
   ]
  },
  {
   "cell_type": "markdown",
   "metadata": {
    "slideshow": {
     "slide_type": "fragment"
    }
   },
   "source": [
    "<a href='#toc'>Назад к Оглавлению</a>"
   ]
  },
  {
   "cell_type": "markdown",
   "metadata": {},
   "source": [
    "# Модели <a name='models'></a>"
   ]
  },
  {
   "cell_type": "markdown",
   "metadata": {
    "slideshow": {
     "slide_type": "slide"
    }
   },
   "source": [
    "## Разработка и применение начальных простых моделей <a name='simple_models'></a>"
   ]
  },
  {
   "cell_type": "markdown",
   "metadata": {},
   "source": [
    "Для обработанных данных требуется построить простую модель, чтобы убедиться в возможности использовать данные для более сложных моделей."
   ]
  },
  {
   "cell_type": "code",
   "execution_count": 66,
   "metadata": {
    "slideshow": {
     "slide_type": "slide"
    }
   },
   "outputs": [],
   "source": [
    "num = 25\n",
    "xs = np.linspace(-5, 5, num)\n",
    "ys = xs**4 - 10*xs**3 + 100*xs - 10 + np.random.random(num)*5"
   ]
  },
  {
   "cell_type": "markdown",
   "metadata": {},
   "source": [
    "Очень приблизительную первоначальную оценку (baseline) можно получить с помощью примитивных моделей \n",
    "- sklearn.dummyDummyClassifier (для классификации)\n",
    "- sklearn.dummyDummyRegressor (для регрессии)"
   ]
  },
  {
   "cell_type": "code",
   "execution_count": 67,
   "metadata": {},
   "outputs": [
    {
     "data": {
      "image/png": "[encoded data removed]",
      "text/plain": [
       "<Figure size 432x288 with 1 Axes>"
      ]
     },
     "metadata": {
      "needs_background": "light"
     },
     "output_type": "display_data"
    }
   ],
   "source": [
    "dummy = DummyRegressor()\n",
    "\n",
    "dummy.fit(np.array(xs).reshape((-1,1)), ys)\n",
    "xs1 = np.linspace(-5, 10, num)\n",
    "plt.plot(xs1, dummy.predict(np.array(xs1).reshape(-1,1)), c='g')\n",
    "\n",
    "plt.scatter(xs, ys)\n",
    "plt.scatter(10, dummy.predict(np.array([10]).reshape(-1,1)), c='r')\n",
    "\n",
    "plt.show()"
   ]
  },
  {
   "cell_type": "markdown",
   "metadata": {},
   "source": [
    "Для более точных результатов надо использовать стандартные модели."
   ]
  },
  {
   "cell_type": "code",
   "execution_count": 63,
   "metadata": {
    "slideshow": {
     "slide_type": "slide"
    }
   },
   "outputs": [
    {
     "data": {
      "image/png": "[encoded data removed]",
      "text/plain": [
       "<Figure size 432x288 with 1 Axes>"
      ]
     },
     "metadata": {
      "needs_background": "light"
     },
     "output_type": "display_data"
    }
   ],
   "source": [
    "linreg = LinearRegression()\n",
    "\n",
    "linreg.fit(np.array(xs).reshape((-1,1)), ys)\n",
    "xs1 = np.linspace(-5, 10, num)\n",
    "plt.plot(xs1, linreg.predict(np.array(xs1).reshape(-1,1)), c='g')\n",
    "\n",
    "plt.scatter(xs, ys)\n",
    "plt.scatter(10, linreg.predict(np.array([10]).reshape(-1,1)), c='r')\n",
    "\n",
    "plt.show()"
   ]
  },
  {
   "cell_type": "code",
   "execution_count": 68,
   "metadata": {},
   "outputs": [
    {
     "data": {
      "text/plain": [
       "array([-61.9878636])"
      ]
     },
     "execution_count": 68,
     "metadata": {},
     "output_type": "execute_result"
    }
   ],
   "source": [
    "linreg.coef_"
   ]
  },
  {
   "cell_type": "markdown",
   "metadata": {
    "slideshow": {
     "slide_type": "fragment"
    }
   },
   "source": [
    "<a href='#toc'>Назад к Оглавлению</a>"
   ]
  },
  {
   "cell_type": "markdown",
   "metadata": {},
   "source": [
    "## Создание конвейеров (pipelines) <a name='pipelines'></a>"
   ]
  },
  {
   "cell_type": "markdown",
   "metadata": {},
   "source": [
    "Около 80% времени работы с данными уходит на обработку данных, поэтому на данном этапе важна качественная автоматизация."
   ]
  },
  {
   "cell_type": "markdown",
   "metadata": {},
   "source": [
    "Для объединения последовательности стандартных действий по обработке данных (например, удаление пустых значений, масштабирование и построение линейной регрессии) используют пайплайны. В библиотеке для этого есть инструменты\n",
    "- sklearn.pipeline.make_pipeline\n",
    "- sklearn.pipeline.Pipeline"
   ]
  },
  {
   "cell_type": "code",
   "execution_count": 70,
   "metadata": {},
   "outputs": [],
   "source": [
    "num = 25\n",
    "xs = np.linspace(-5, 5, num)\n",
    "ys = xs**4 - 10*xs**3 + 100*xs - 10 + np.random.random(num)*5"
   ]
  },
  {
   "cell_type": "code",
   "execution_count": 78,
   "metadata": {},
   "outputs": [],
   "source": [
    "pipeline1 = make_pipeline(LinearRegression())\n",
    "pipeline2 = make_pipeline(PolynomialFeatures(2), LinearRegression())\n",
    "pipeline3 = make_pipeline(PolynomialFeatures(3), LinearRegression())\n",
    "pipeline4 = make_pipeline(PolynomialFeatures(4), LinearRegression())"
   ]
  },
  {
   "cell_type": "code",
   "execution_count": 79,
   "metadata": {
    "scrolled": true
   },
   "outputs": [
    {
     "data": {
      "image/png": "[encoded data removed]",
      "text/plain": [
       "<Figure size 432x288 with 1 Axes>"
      ]
     },
     "metadata": {
      "needs_background": "light"
     },
     "output_type": "display_data"
    }
   ],
   "source": [
    "plt.scatter(xs, ys, c='b')\n",
    "plt.plot(xs, pipeline1.fit(xs.reshape(-1,1), ys).predict(xs.reshape(-1,1)))\n",
    "plt.plot(xs, pipeline2.fit(xs.reshape(-1,1), ys).predict(xs.reshape(-1,1)))\n",
    "plt.plot(xs, pipeline3.fit(xs.reshape(-1,1), ys).predict(xs.reshape(-1,1)))\n",
    "plt.plot(xs, pipeline4.fit(xs.reshape(-1,1), ys).predict(xs.reshape(-1,1)))\n",
    "plt.show()"
   ]
  },
  {
   "cell_type": "code",
   "execution_count": 80,
   "metadata": {},
   "outputs": [
    {
     "data": {
      "text/plain": [
       "Pipeline(steps=[('polynomialfeatures', PolynomialFeatures(degree=4)),\n",
       "                ('linearregression', LinearRegression())])"
      ]
     },
     "execution_count": 80,
     "metadata": {},
     "output_type": "execute_result"
    }
   ],
   "source": [
    "pipeline4"
   ]
  },
  {
   "cell_type": "code",
   "execution_count": 86,
   "metadata": {},
   "outputs": [
    {
     "name": "stdout",
     "output_type": "stream",
     "text": [
      "Найденные коэффициенты: 0.0 99.7 0.02 -9.98 1.0\n"
     ]
    }
   ],
   "source": [
    "print(\"Найденные коэффициенты:\", \" \".join([str(round(c,2)) for c in pipeline4[1].coef_]))"
   ]
  },
  {
   "cell_type": "markdown",
   "metadata": {
    "slideshow": {
     "slide_type": "fragment"
    }
   },
   "source": [
    "<a href='#toc'>Назад к Оглавлению</a>"
   ]
  },
  {
   "cell_type": "markdown",
   "metadata": {},
   "source": [
    "# Ссылки <a name='links'></a>"
   ]
  },
  {
   "cell_type": "markdown",
   "metadata": {},
   "source": [
    "- официальная страница библиотеки NumPy https://numpy.org\n",
    "\n",
    "- официальная страница библиотеки Pandas https://pandas.pydata.org\n",
    "\n",
    "- официальная страница библиотеки Scikit-learn http://scikit-learn.org\n",
    "\n",
    "- платформа соревнований по машинному обучению https://kaggle.com\n",
    "\n",
    "- https://www.openml.org/\n",
    "\n",
    "- Google colab https://colab.research.google.com/\n",
    "\n",
    "- https://t.me/DS_USURT\n",
    "\n",
    "- учебник по SQL https://www.w3schools.com/"
   ]
  },
  {
   "cell_type": "markdown",
   "metadata": {
    "slideshow": {
     "slide_type": "fragment"
    }
   },
   "source": [
    "<a href='#toc'>Назад к Оглавлению</a>"
   ]
  }
 ],
 "metadata": {
  "kernelspec": {
   "display_name": "Python 3",
   "language": "python",
   "name": "python3"
  },
  "language_info": {
   "codemirror_mode": {
    "name": "ipython",
    "version": 3
   },
   "file_extension": ".py",
   "mimetype": "text/x-python",
   "name": "python",
   "nbconvert_exporter": "python",
   "pygments_lexer": "ipython3",
   "version": "3.7.4"
  }
 },
 "nbformat": 4,
 "nbformat_minor": 2
}
